{
  "cells": [
    {
      "cell_type": "markdown",
      "metadata": {
        "id": "FF4qaSpgKT_4"
      },
      "source": [
        ""
      ],
      "id": "FF4qaSpgKT_4"
    },
    {
      "cell_type": "code",
      "execution_count": null,
      "metadata": {
        "id": "97711347"
      },
      "outputs": [],
      "source": [
        "import numpy as np\n",
        "import pandas as pd\n",
        "import matplotlib.pyplot as plt\n",
        "import seaborn as sns\n",
        "%matplotlib inline "
      ],
      "id": "97711347"
    },
    {
      "cell_type": "code",
      "execution_count": null,
      "metadata": {
        "id": "8a40f8de"
      },
      "outputs": [],
      "source": [
        "df = pd.read_csv(\"/content/copy_set.csv\")"
      ],
      "id": "8a40f8de"
    },
    {
      "cell_type": "code",
      "execution_count": null,
      "metadata": {
        "colab": {
          "base_uri": "https://localhost:8080/"
        },
        "id": "09e65da3",
        "outputId": "1bdfaee6-06bd-4bfc-8085-dce1bdcb23ce"
      },
      "outputs": [
        {
          "output_type": "execute_result",
          "data": {
            "text/plain": [
              "(8128, 13)"
            ]
          },
          "metadata": {},
          "execution_count": 3
        }
      ],
      "source": [
        "df.shape"
      ],
      "id": "09e65da3"
    },
    {
      "cell_type": "code",
      "execution_count": null,
      "metadata": {
        "colab": {
          "base_uri": "https://localhost:8080/"
        },
        "id": "ccf6b679",
        "outputId": "2f3360d0-c776-4dea-ab66-2ed517eed0fd"
      },
      "outputs": [
        {
          "output_type": "execute_result",
          "data": {
            "text/plain": [
              "Index(['name', 'year', 'selling_price', 'km_driven', 'fuel', 'seller_type',\n",
              "       'transmission', 'owner', 'mileage', 'engine', 'max_power', 'torque',\n",
              "       'seats'],\n",
              "      dtype='object')"
            ]
          },
          "metadata": {},
          "execution_count": 4
        }
      ],
      "source": [
        "df.columns"
      ],
      "id": "ccf6b679"
    },
    {
      "cell_type": "code",
      "execution_count": null,
      "metadata": {
        "colab": {
          "base_uri": "https://localhost:8080/"
        },
        "id": "704928fd",
        "outputId": "1caa63e5-be1a-44cf-88f8-798ca5e1870d"
      },
      "outputs": [
        {
          "output_type": "stream",
          "name": "stdout",
          "text": [
            "<class 'pandas.core.frame.DataFrame'>\n",
            "RangeIndex: 8128 entries, 0 to 8127\n",
            "Data columns (total 13 columns):\n",
            " #   Column         Non-Null Count  Dtype  \n",
            "---  ------         --------------  -----  \n",
            " 0   name           8128 non-null   object \n",
            " 1   year           8128 non-null   int64  \n",
            " 2   selling_price  8128 non-null   int64  \n",
            " 3   km_driven      8128 non-null   int64  \n",
            " 4   fuel           8128 non-null   object \n",
            " 5   seller_type    8128 non-null   object \n",
            " 6   transmission   8128 non-null   object \n",
            " 7   owner          8128 non-null   object \n",
            " 8   mileage        7907 non-null   object \n",
            " 9   engine         7907 non-null   object \n",
            " 10  max_power      7913 non-null   object \n",
            " 11  torque         7906 non-null   object \n",
            " 12  seats          7907 non-null   float64\n",
            "dtypes: float64(1), int64(3), object(9)\n",
            "memory usage: 825.6+ KB\n"
          ]
        }
      ],
      "source": [
        "\n",
        "df.info()"
      ],
      "id": "704928fd"
    },
    {
      "cell_type": "code",
      "execution_count": null,
      "metadata": {
        "colab": {
          "base_uri": "https://localhost:8080/"
        },
        "id": "2ac1981c",
        "outputId": "d9d332e6-c8b9-4faf-9197-8e2ed84c9cf5",
        "scrolled": false
      },
      "outputs": [
        {
          "output_type": "execute_result",
          "data": {
            "text/plain": [
              "                                   name  year  selling_price  km_driven  \\\n",
              "0                Maruti Swift Dzire VDI  2014         450000     145500   \n",
              "1          Skoda Rapid 1.5 TDI Ambition  2014         370000     120000   \n",
              "2              Honda City 2017-2020 EXi  2006         158000     140000   \n",
              "3             Hyundai i20 Sportz Diesel  2010         225000     127000   \n",
              "4                Maruti Swift VXI BSIII  2007         130000     120000   \n",
              "5         Hyundai Xcent 1.2 VTVT E Plus  2017         440000      45000   \n",
              "6          Maruti Wagon R LXI DUO BSIII  2007          96000     175000   \n",
              "7                    Maruti 800 DX BSII  2001          45000       5000   \n",
              "8                      Toyota Etios VXD  2011         350000      90000   \n",
              "9  Ford Figo Diesel Celebration Edition  2013         200000     169000   \n",
              "\n",
              "     fuel seller_type transmission         owner     mileage   engine  \\\n",
              "0  Diesel  Individual       Manual   First Owner   23.4 kmpl  1248 CC   \n",
              "1  Diesel  Individual       Manual  Second Owner  21.14 kmpl  1498 CC   \n",
              "2  Petrol  Individual       Manual   Third Owner   17.7 kmpl  1497 CC   \n",
              "3  Diesel  Individual       Manual   First Owner   23.0 kmpl  1396 CC   \n",
              "4  Petrol  Individual       Manual   First Owner   16.1 kmpl  1298 CC   \n",
              "5  Petrol  Individual       Manual   First Owner  20.14 kmpl  1197 CC   \n",
              "6     LPG  Individual       Manual   First Owner  17.3 km/kg  1061 CC   \n",
              "7  Petrol  Individual       Manual  Second Owner   16.1 kmpl   796 CC   \n",
              "8  Diesel  Individual       Manual   First Owner  23.59 kmpl  1364 CC   \n",
              "9  Diesel  Individual       Manual   First Owner   20.0 kmpl  1399 CC   \n",
              "\n",
              "    max_power                    torque  seats  \n",
              "0      74 bhp            190Nm@ 2000rpm    5.0  \n",
              "1  103.52 bhp       250Nm@ 1500-2500rpm    5.0  \n",
              "2      78 bhp     12.7@ 2,700(kgm@ rpm)    5.0  \n",
              "3      90 bhp  22.4 kgm at 1750-2750rpm    5.0  \n",
              "4    88.2 bhp     11.5@ 4,500(kgm@ rpm)    5.0  \n",
              "5   81.86 bhp         113.75nm@ 4000rpm    5.0  \n",
              "6    57.5 bhp      7.8@ 4,500(kgm@ rpm)    5.0  \n",
              "7      37 bhp             59Nm@ 2500rpm    4.0  \n",
              "8    67.1 bhp       170Nm@ 1800-2400rpm    5.0  \n",
              "9    68.1 bhp            160Nm@ 2000rpm    5.0  "
            ],
            "text/html": [
              "\n",
              "  <div id=\"df-72b5edca-ef5c-4d53-903b-9581d1bc25c3\">\n",
              "    <div class=\"colab-df-container\">\n",
              "      <div>\n",
              "<style scoped>\n",
              "    .dataframe tbody tr th:only-of-type {\n",
              "        vertical-align: middle;\n",
              "    }\n",
              "\n",
              "    .dataframe tbody tr th {\n",
              "        vertical-align: top;\n",
              "    }\n",
              "\n",
              "    .dataframe thead th {\n",
              "        text-align: right;\n",
              "    }\n",
              "</style>\n",
              "<table border=\"1\" class=\"dataframe\">\n",
              "  <thead>\n",
              "    <tr style=\"text-align: right;\">\n",
              "      <th></th>\n",
              "      <th>name</th>\n",
              "      <th>year</th>\n",
              "      <th>selling_price</th>\n",
              "      <th>km_driven</th>\n",
              "      <th>fuel</th>\n",
              "      <th>seller_type</th>\n",
              "      <th>transmission</th>\n",
              "      <th>owner</th>\n",
              "      <th>mileage</th>\n",
              "      <th>engine</th>\n",
              "      <th>max_power</th>\n",
              "      <th>torque</th>\n",
              "      <th>seats</th>\n",
              "    </tr>\n",
              "  </thead>\n",
              "  <tbody>\n",
              "    <tr>\n",
              "      <th>0</th>\n",
              "      <td>Maruti Swift Dzire VDI</td>\n",
              "      <td>2014</td>\n",
              "      <td>450000</td>\n",
              "      <td>145500</td>\n",
              "      <td>Diesel</td>\n",
              "      <td>Individual</td>\n",
              "      <td>Manual</td>\n",
              "      <td>First Owner</td>\n",
              "      <td>23.4 kmpl</td>\n",
              "      <td>1248 CC</td>\n",
              "      <td>74 bhp</td>\n",
              "      <td>190Nm@ 2000rpm</td>\n",
              "      <td>5.0</td>\n",
              "    </tr>\n",
              "    <tr>\n",
              "      <th>1</th>\n",
              "      <td>Skoda Rapid 1.5 TDI Ambition</td>\n",
              "      <td>2014</td>\n",
              "      <td>370000</td>\n",
              "      <td>120000</td>\n",
              "      <td>Diesel</td>\n",
              "      <td>Individual</td>\n",
              "      <td>Manual</td>\n",
              "      <td>Second Owner</td>\n",
              "      <td>21.14 kmpl</td>\n",
              "      <td>1498 CC</td>\n",
              "      <td>103.52 bhp</td>\n",
              "      <td>250Nm@ 1500-2500rpm</td>\n",
              "      <td>5.0</td>\n",
              "    </tr>\n",
              "    <tr>\n",
              "      <th>2</th>\n",
              "      <td>Honda City 2017-2020 EXi</td>\n",
              "      <td>2006</td>\n",
              "      <td>158000</td>\n",
              "      <td>140000</td>\n",
              "      <td>Petrol</td>\n",
              "      <td>Individual</td>\n",
              "      <td>Manual</td>\n",
              "      <td>Third Owner</td>\n",
              "      <td>17.7 kmpl</td>\n",
              "      <td>1497 CC</td>\n",
              "      <td>78 bhp</td>\n",
              "      <td>12.7@ 2,700(kgm@ rpm)</td>\n",
              "      <td>5.0</td>\n",
              "    </tr>\n",
              "    <tr>\n",
              "      <th>3</th>\n",
              "      <td>Hyundai i20 Sportz Diesel</td>\n",
              "      <td>2010</td>\n",
              "      <td>225000</td>\n",
              "      <td>127000</td>\n",
              "      <td>Diesel</td>\n",
              "      <td>Individual</td>\n",
              "      <td>Manual</td>\n",
              "      <td>First Owner</td>\n",
              "      <td>23.0 kmpl</td>\n",
              "      <td>1396 CC</td>\n",
              "      <td>90 bhp</td>\n",
              "      <td>22.4 kgm at 1750-2750rpm</td>\n",
              "      <td>5.0</td>\n",
              "    </tr>\n",
              "    <tr>\n",
              "      <th>4</th>\n",
              "      <td>Maruti Swift VXI BSIII</td>\n",
              "      <td>2007</td>\n",
              "      <td>130000</td>\n",
              "      <td>120000</td>\n",
              "      <td>Petrol</td>\n",
              "      <td>Individual</td>\n",
              "      <td>Manual</td>\n",
              "      <td>First Owner</td>\n",
              "      <td>16.1 kmpl</td>\n",
              "      <td>1298 CC</td>\n",
              "      <td>88.2 bhp</td>\n",
              "      <td>11.5@ 4,500(kgm@ rpm)</td>\n",
              "      <td>5.0</td>\n",
              "    </tr>\n",
              "    <tr>\n",
              "      <th>5</th>\n",
              "      <td>Hyundai Xcent 1.2 VTVT E Plus</td>\n",
              "      <td>2017</td>\n",
              "      <td>440000</td>\n",
              "      <td>45000</td>\n",
              "      <td>Petrol</td>\n",
              "      <td>Individual</td>\n",
              "      <td>Manual</td>\n",
              "      <td>First Owner</td>\n",
              "      <td>20.14 kmpl</td>\n",
              "      <td>1197 CC</td>\n",
              "      <td>81.86 bhp</td>\n",
              "      <td>113.75nm@ 4000rpm</td>\n",
              "      <td>5.0</td>\n",
              "    </tr>\n",
              "    <tr>\n",
              "      <th>6</th>\n",
              "      <td>Maruti Wagon R LXI DUO BSIII</td>\n",
              "      <td>2007</td>\n",
              "      <td>96000</td>\n",
              "      <td>175000</td>\n",
              "      <td>LPG</td>\n",
              "      <td>Individual</td>\n",
              "      <td>Manual</td>\n",
              "      <td>First Owner</td>\n",
              "      <td>17.3 km/kg</td>\n",
              "      <td>1061 CC</td>\n",
              "      <td>57.5 bhp</td>\n",
              "      <td>7.8@ 4,500(kgm@ rpm)</td>\n",
              "      <td>5.0</td>\n",
              "    </tr>\n",
              "    <tr>\n",
              "      <th>7</th>\n",
              "      <td>Maruti 800 DX BSII</td>\n",
              "      <td>2001</td>\n",
              "      <td>45000</td>\n",
              "      <td>5000</td>\n",
              "      <td>Petrol</td>\n",
              "      <td>Individual</td>\n",
              "      <td>Manual</td>\n",
              "      <td>Second Owner</td>\n",
              "      <td>16.1 kmpl</td>\n",
              "      <td>796 CC</td>\n",
              "      <td>37 bhp</td>\n",
              "      <td>59Nm@ 2500rpm</td>\n",
              "      <td>4.0</td>\n",
              "    </tr>\n",
              "    <tr>\n",
              "      <th>8</th>\n",
              "      <td>Toyota Etios VXD</td>\n",
              "      <td>2011</td>\n",
              "      <td>350000</td>\n",
              "      <td>90000</td>\n",
              "      <td>Diesel</td>\n",
              "      <td>Individual</td>\n",
              "      <td>Manual</td>\n",
              "      <td>First Owner</td>\n",
              "      <td>23.59 kmpl</td>\n",
              "      <td>1364 CC</td>\n",
              "      <td>67.1 bhp</td>\n",
              "      <td>170Nm@ 1800-2400rpm</td>\n",
              "      <td>5.0</td>\n",
              "    </tr>\n",
              "    <tr>\n",
              "      <th>9</th>\n",
              "      <td>Ford Figo Diesel Celebration Edition</td>\n",
              "      <td>2013</td>\n",
              "      <td>200000</td>\n",
              "      <td>169000</td>\n",
              "      <td>Diesel</td>\n",
              "      <td>Individual</td>\n",
              "      <td>Manual</td>\n",
              "      <td>First Owner</td>\n",
              "      <td>20.0 kmpl</td>\n",
              "      <td>1399 CC</td>\n",
              "      <td>68.1 bhp</td>\n",
              "      <td>160Nm@ 2000rpm</td>\n",
              "      <td>5.0</td>\n",
              "    </tr>\n",
              "  </tbody>\n",
              "</table>\n",
              "</div>\n",
              "      <button class=\"colab-df-convert\" onclick=\"convertToInteractive('df-72b5edca-ef5c-4d53-903b-9581d1bc25c3')\"\n",
              "              title=\"Convert this dataframe to an interactive table.\"\n",
              "              style=\"display:none;\">\n",
              "        \n",
              "  <svg xmlns=\"http://www.w3.org/2000/svg\" height=\"24px\"viewBox=\"0 0 24 24\"\n",
              "       width=\"24px\">\n",
              "    <path d=\"M0 0h24v24H0V0z\" fill=\"none\"/>\n",
              "    <path d=\"M18.56 5.44l.94 2.06.94-2.06 2.06-.94-2.06-.94-.94-2.06-.94 2.06-2.06.94zm-11 1L8.5 8.5l.94-2.06 2.06-.94-2.06-.94L8.5 2.5l-.94 2.06-2.06.94zm10 10l.94 2.06.94-2.06 2.06-.94-2.06-.94-.94-2.06-.94 2.06-2.06.94z\"/><path d=\"M17.41 7.96l-1.37-1.37c-.4-.4-.92-.59-1.43-.59-.52 0-1.04.2-1.43.59L10.3 9.45l-7.72 7.72c-.78.78-.78 2.05 0 2.83L4 21.41c.39.39.9.59 1.41.59.51 0 1.02-.2 1.41-.59l7.78-7.78 2.81-2.81c.8-.78.8-2.07 0-2.86zM5.41 20L4 18.59l7.72-7.72 1.47 1.35L5.41 20z\"/>\n",
              "  </svg>\n",
              "      </button>\n",
              "      \n",
              "  <style>\n",
              "    .colab-df-container {\n",
              "      display:flex;\n",
              "      flex-wrap:wrap;\n",
              "      gap: 12px;\n",
              "    }\n",
              "\n",
              "    .colab-df-convert {\n",
              "      background-color: #E8F0FE;\n",
              "      border: none;\n",
              "      border-radius: 50%;\n",
              "      cursor: pointer;\n",
              "      display: none;\n",
              "      fill: #1967D2;\n",
              "      height: 32px;\n",
              "      padding: 0 0 0 0;\n",
              "      width: 32px;\n",
              "    }\n",
              "\n",
              "    .colab-df-convert:hover {\n",
              "      background-color: #E2EBFA;\n",
              "      box-shadow: 0px 1px 2px rgba(60, 64, 67, 0.3), 0px 1px 3px 1px rgba(60, 64, 67, 0.15);\n",
              "      fill: #174EA6;\n",
              "    }\n",
              "\n",
              "    [theme=dark] .colab-df-convert {\n",
              "      background-color: #3B4455;\n",
              "      fill: #D2E3FC;\n",
              "    }\n",
              "\n",
              "    [theme=dark] .colab-df-convert:hover {\n",
              "      background-color: #434B5C;\n",
              "      box-shadow: 0px 1px 3px 1px rgba(0, 0, 0, 0.15);\n",
              "      filter: drop-shadow(0px 1px 2px rgba(0, 0, 0, 0.3));\n",
              "      fill: #FFFFFF;\n",
              "    }\n",
              "  </style>\n",
              "\n",
              "      <script>\n",
              "        const buttonEl =\n",
              "          document.querySelector('#df-72b5edca-ef5c-4d53-903b-9581d1bc25c3 button.colab-df-convert');\n",
              "        buttonEl.style.display =\n",
              "          google.colab.kernel.accessAllowed ? 'block' : 'none';\n",
              "\n",
              "        async function convertToInteractive(key) {\n",
              "          const element = document.querySelector('#df-72b5edca-ef5c-4d53-903b-9581d1bc25c3');\n",
              "          const dataTable =\n",
              "            await google.colab.kernel.invokeFunction('convertToInteractive',\n",
              "                                                     [key], {});\n",
              "          if (!dataTable) return;\n",
              "\n",
              "          const docLinkHtml = 'Like what you see? Visit the ' +\n",
              "            '<a target=\"_blank\" href=https://colab.research.google.com/notebooks/data_table.ipynb>data table notebook</a>'\n",
              "            + ' to learn more about interactive tables.';\n",
              "          element.innerHTML = '';\n",
              "          dataTable['output_type'] = 'display_data';\n",
              "          await google.colab.output.renderOutput(dataTable, element);\n",
              "          const docLink = document.createElement('div');\n",
              "          docLink.innerHTML = docLinkHtml;\n",
              "          element.appendChild(docLink);\n",
              "        }\n",
              "      </script>\n",
              "    </div>\n",
              "  </div>\n",
              "  "
            ]
          },
          "metadata": {},
          "execution_count": 6
        }
      ],
      "source": [
        "df.head(10)"
      ],
      "id": "2ac1981c"
    },
    {
      "cell_type": "code",
      "execution_count": null,
      "metadata": {
        "colab": {
          "base_uri": "https://localhost:8080/"
        },
        "id": "225c22e7",
        "outputId": "e83b4e01-93c6-435c-be63-ba9aaf21a0c8",
        "scrolled": true
      },
      "outputs": [
        {
          "output_type": "execute_result",
          "data": {
            "text/plain": [
              "                                   name  year  selling_price  km_driven  \\\n",
              "8118                  Hyundai i20 Magna  2013         380000      25000   \n",
              "8119        Maruti Wagon R LXI Optional  2017         360000      80000   \n",
              "8120            Hyundai Santro Xing GLS  2008         120000     191000   \n",
              "8121  Maruti Wagon R VXI BS IV with ABS  2013         260000      50000   \n",
              "8122         Hyundai i20 Magna 1.4 CRDi  2014         475000      80000   \n",
              "8123                  Hyundai i20 Magna  2013         320000     110000   \n",
              "8124              Hyundai Verna CRDi SX  2007         135000     119000   \n",
              "8125             Maruti Swift Dzire ZDi  2009         382000     120000   \n",
              "8126                    Tata Indigo CR4  2013         290000      25000   \n",
              "8127                    Tata Indigo CR4  2013         290000      25000   \n",
              "\n",
              "        fuel seller_type transmission                 owner     mileage  \\\n",
              "8118  Petrol  Individual       Manual           First Owner   18.5 kmpl   \n",
              "8119  Petrol  Individual       Manual           First Owner  20.51 kmpl   \n",
              "8120  Petrol  Individual       Manual           First Owner  17.92 kmpl   \n",
              "8121  Petrol  Individual       Manual          Second Owner   18.9 kmpl   \n",
              "8122  Diesel  Individual       Manual          Second Owner  22.54 kmpl   \n",
              "8123  Petrol  Individual       Manual           First Owner   18.5 kmpl   \n",
              "8124  Diesel  Individual       Manual  Fourth & Above Owner   16.8 kmpl   \n",
              "8125  Diesel  Individual       Manual           First Owner   19.3 kmpl   \n",
              "8126  Diesel  Individual       Manual           First Owner  23.57 kmpl   \n",
              "8127  Diesel  Individual       Manual           First Owner  23.57 kmpl   \n",
              "\n",
              "       engine  max_power                     torque  seats  \n",
              "8118  1197 CC  82.85 bhp           113.7Nm@ 4000rpm    5.0  \n",
              "8119   998 CC  67.04 bhp              90Nm@ 3500rpm    5.0  \n",
              "8120  1086 CC   62.1 bhp            96.1Nm@ 3000rpm    5.0  \n",
              "8121   998 CC   67.1 bhp              90Nm@ 3500rpm    5.0  \n",
              "8122  1396 CC  88.73 bhp      219.7Nm@ 1500-2750rpm    5.0  \n",
              "8123  1197 CC  82.85 bhp           113.7Nm@ 4000rpm    5.0  \n",
              "8124  1493 CC    110 bhp  24@ 1,900-2,750(kgm@ rpm)    5.0  \n",
              "8125  1248 CC   73.9 bhp             190Nm@ 2000rpm    5.0  \n",
              "8126  1396 CC     70 bhp        140Nm@ 1800-3000rpm    5.0  \n",
              "8127  1396 CC     70 bhp        140Nm@ 1800-3000rpm    5.0  "
            ],
            "text/html": [
              "\n",
              "  <div id=\"df-e97cf2c5-7d96-423e-bde9-40429e50432c\">\n",
              "    <div class=\"colab-df-container\">\n",
              "      <div>\n",
              "<style scoped>\n",
              "    .dataframe tbody tr th:only-of-type {\n",
              "        vertical-align: middle;\n",
              "    }\n",
              "\n",
              "    .dataframe tbody tr th {\n",
              "        vertical-align: top;\n",
              "    }\n",
              "\n",
              "    .dataframe thead th {\n",
              "        text-align: right;\n",
              "    }\n",
              "</style>\n",
              "<table border=\"1\" class=\"dataframe\">\n",
              "  <thead>\n",
              "    <tr style=\"text-align: right;\">\n",
              "      <th></th>\n",
              "      <th>name</th>\n",
              "      <th>year</th>\n",
              "      <th>selling_price</th>\n",
              "      <th>km_driven</th>\n",
              "      <th>fuel</th>\n",
              "      <th>seller_type</th>\n",
              "      <th>transmission</th>\n",
              "      <th>owner</th>\n",
              "      <th>mileage</th>\n",
              "      <th>engine</th>\n",
              "      <th>max_power</th>\n",
              "      <th>torque</th>\n",
              "      <th>seats</th>\n",
              "    </tr>\n",
              "  </thead>\n",
              "  <tbody>\n",
              "    <tr>\n",
              "      <th>8118</th>\n",
              "      <td>Hyundai i20 Magna</td>\n",
              "      <td>2013</td>\n",
              "      <td>380000</td>\n",
              "      <td>25000</td>\n",
              "      <td>Petrol</td>\n",
              "      <td>Individual</td>\n",
              "      <td>Manual</td>\n",
              "      <td>First Owner</td>\n",
              "      <td>18.5 kmpl</td>\n",
              "      <td>1197 CC</td>\n",
              "      <td>82.85 bhp</td>\n",
              "      <td>113.7Nm@ 4000rpm</td>\n",
              "      <td>5.0</td>\n",
              "    </tr>\n",
              "    <tr>\n",
              "      <th>8119</th>\n",
              "      <td>Maruti Wagon R LXI Optional</td>\n",
              "      <td>2017</td>\n",
              "      <td>360000</td>\n",
              "      <td>80000</td>\n",
              "      <td>Petrol</td>\n",
              "      <td>Individual</td>\n",
              "      <td>Manual</td>\n",
              "      <td>First Owner</td>\n",
              "      <td>20.51 kmpl</td>\n",
              "      <td>998 CC</td>\n",
              "      <td>67.04 bhp</td>\n",
              "      <td>90Nm@ 3500rpm</td>\n",
              "      <td>5.0</td>\n",
              "    </tr>\n",
              "    <tr>\n",
              "      <th>8120</th>\n",
              "      <td>Hyundai Santro Xing GLS</td>\n",
              "      <td>2008</td>\n",
              "      <td>120000</td>\n",
              "      <td>191000</td>\n",
              "      <td>Petrol</td>\n",
              "      <td>Individual</td>\n",
              "      <td>Manual</td>\n",
              "      <td>First Owner</td>\n",
              "      <td>17.92 kmpl</td>\n",
              "      <td>1086 CC</td>\n",
              "      <td>62.1 bhp</td>\n",
              "      <td>96.1Nm@ 3000rpm</td>\n",
              "      <td>5.0</td>\n",
              "    </tr>\n",
              "    <tr>\n",
              "      <th>8121</th>\n",
              "      <td>Maruti Wagon R VXI BS IV with ABS</td>\n",
              "      <td>2013</td>\n",
              "      <td>260000</td>\n",
              "      <td>50000</td>\n",
              "      <td>Petrol</td>\n",
              "      <td>Individual</td>\n",
              "      <td>Manual</td>\n",
              "      <td>Second Owner</td>\n",
              "      <td>18.9 kmpl</td>\n",
              "      <td>998 CC</td>\n",
              "      <td>67.1 bhp</td>\n",
              "      <td>90Nm@ 3500rpm</td>\n",
              "      <td>5.0</td>\n",
              "    </tr>\n",
              "    <tr>\n",
              "      <th>8122</th>\n",
              "      <td>Hyundai i20 Magna 1.4 CRDi</td>\n",
              "      <td>2014</td>\n",
              "      <td>475000</td>\n",
              "      <td>80000</td>\n",
              "      <td>Diesel</td>\n",
              "      <td>Individual</td>\n",
              "      <td>Manual</td>\n",
              "      <td>Second Owner</td>\n",
              "      <td>22.54 kmpl</td>\n",
              "      <td>1396 CC</td>\n",
              "      <td>88.73 bhp</td>\n",
              "      <td>219.7Nm@ 1500-2750rpm</td>\n",
              "      <td>5.0</td>\n",
              "    </tr>\n",
              "    <tr>\n",
              "      <th>8123</th>\n",
              "      <td>Hyundai i20 Magna</td>\n",
              "      <td>2013</td>\n",
              "      <td>320000</td>\n",
              "      <td>110000</td>\n",
              "      <td>Petrol</td>\n",
              "      <td>Individual</td>\n",
              "      <td>Manual</td>\n",
              "      <td>First Owner</td>\n",
              "      <td>18.5 kmpl</td>\n",
              "      <td>1197 CC</td>\n",
              "      <td>82.85 bhp</td>\n",
              "      <td>113.7Nm@ 4000rpm</td>\n",
              "      <td>5.0</td>\n",
              "    </tr>\n",
              "    <tr>\n",
              "      <th>8124</th>\n",
              "      <td>Hyundai Verna CRDi SX</td>\n",
              "      <td>2007</td>\n",
              "      <td>135000</td>\n",
              "      <td>119000</td>\n",
              "      <td>Diesel</td>\n",
              "      <td>Individual</td>\n",
              "      <td>Manual</td>\n",
              "      <td>Fourth &amp; Above Owner</td>\n",
              "      <td>16.8 kmpl</td>\n",
              "      <td>1493 CC</td>\n",
              "      <td>110 bhp</td>\n",
              "      <td>24@ 1,900-2,750(kgm@ rpm)</td>\n",
              "      <td>5.0</td>\n",
              "    </tr>\n",
              "    <tr>\n",
              "      <th>8125</th>\n",
              "      <td>Maruti Swift Dzire ZDi</td>\n",
              "      <td>2009</td>\n",
              "      <td>382000</td>\n",
              "      <td>120000</td>\n",
              "      <td>Diesel</td>\n",
              "      <td>Individual</td>\n",
              "      <td>Manual</td>\n",
              "      <td>First Owner</td>\n",
              "      <td>19.3 kmpl</td>\n",
              "      <td>1248 CC</td>\n",
              "      <td>73.9 bhp</td>\n",
              "      <td>190Nm@ 2000rpm</td>\n",
              "      <td>5.0</td>\n",
              "    </tr>\n",
              "    <tr>\n",
              "      <th>8126</th>\n",
              "      <td>Tata Indigo CR4</td>\n",
              "      <td>2013</td>\n",
              "      <td>290000</td>\n",
              "      <td>25000</td>\n",
              "      <td>Diesel</td>\n",
              "      <td>Individual</td>\n",
              "      <td>Manual</td>\n",
              "      <td>First Owner</td>\n",
              "      <td>23.57 kmpl</td>\n",
              "      <td>1396 CC</td>\n",
              "      <td>70 bhp</td>\n",
              "      <td>140Nm@ 1800-3000rpm</td>\n",
              "      <td>5.0</td>\n",
              "    </tr>\n",
              "    <tr>\n",
              "      <th>8127</th>\n",
              "      <td>Tata Indigo CR4</td>\n",
              "      <td>2013</td>\n",
              "      <td>290000</td>\n",
              "      <td>25000</td>\n",
              "      <td>Diesel</td>\n",
              "      <td>Individual</td>\n",
              "      <td>Manual</td>\n",
              "      <td>First Owner</td>\n",
              "      <td>23.57 kmpl</td>\n",
              "      <td>1396 CC</td>\n",
              "      <td>70 bhp</td>\n",
              "      <td>140Nm@ 1800-3000rpm</td>\n",
              "      <td>5.0</td>\n",
              "    </tr>\n",
              "  </tbody>\n",
              "</table>\n",
              "</div>\n",
              "      <button class=\"colab-df-convert\" onclick=\"convertToInteractive('df-e97cf2c5-7d96-423e-bde9-40429e50432c')\"\n",
              "              title=\"Convert this dataframe to an interactive table.\"\n",
              "              style=\"display:none;\">\n",
              "        \n",
              "  <svg xmlns=\"http://www.w3.org/2000/svg\" height=\"24px\"viewBox=\"0 0 24 24\"\n",
              "       width=\"24px\">\n",
              "    <path d=\"M0 0h24v24H0V0z\" fill=\"none\"/>\n",
              "    <path d=\"M18.56 5.44l.94 2.06.94-2.06 2.06-.94-2.06-.94-.94-2.06-.94 2.06-2.06.94zm-11 1L8.5 8.5l.94-2.06 2.06-.94-2.06-.94L8.5 2.5l-.94 2.06-2.06.94zm10 10l.94 2.06.94-2.06 2.06-.94-2.06-.94-.94-2.06-.94 2.06-2.06.94z\"/><path d=\"M17.41 7.96l-1.37-1.37c-.4-.4-.92-.59-1.43-.59-.52 0-1.04.2-1.43.59L10.3 9.45l-7.72 7.72c-.78.78-.78 2.05 0 2.83L4 21.41c.39.39.9.59 1.41.59.51 0 1.02-.2 1.41-.59l7.78-7.78 2.81-2.81c.8-.78.8-2.07 0-2.86zM5.41 20L4 18.59l7.72-7.72 1.47 1.35L5.41 20z\"/>\n",
              "  </svg>\n",
              "      </button>\n",
              "      \n",
              "  <style>\n",
              "    .colab-df-container {\n",
              "      display:flex;\n",
              "      flex-wrap:wrap;\n",
              "      gap: 12px;\n",
              "    }\n",
              "\n",
              "    .colab-df-convert {\n",
              "      background-color: #E8F0FE;\n",
              "      border: none;\n",
              "      border-radius: 50%;\n",
              "      cursor: pointer;\n",
              "      display: none;\n",
              "      fill: #1967D2;\n",
              "      height: 32px;\n",
              "      padding: 0 0 0 0;\n",
              "      width: 32px;\n",
              "    }\n",
              "\n",
              "    .colab-df-convert:hover {\n",
              "      background-color: #E2EBFA;\n",
              "      box-shadow: 0px 1px 2px rgba(60, 64, 67, 0.3), 0px 1px 3px 1px rgba(60, 64, 67, 0.15);\n",
              "      fill: #174EA6;\n",
              "    }\n",
              "\n",
              "    [theme=dark] .colab-df-convert {\n",
              "      background-color: #3B4455;\n",
              "      fill: #D2E3FC;\n",
              "    }\n",
              "\n",
              "    [theme=dark] .colab-df-convert:hover {\n",
              "      background-color: #434B5C;\n",
              "      box-shadow: 0px 1px 3px 1px rgba(0, 0, 0, 0.15);\n",
              "      filter: drop-shadow(0px 1px 2px rgba(0, 0, 0, 0.3));\n",
              "      fill: #FFFFFF;\n",
              "    }\n",
              "  </style>\n",
              "\n",
              "      <script>\n",
              "        const buttonEl =\n",
              "          document.querySelector('#df-e97cf2c5-7d96-423e-bde9-40429e50432c button.colab-df-convert');\n",
              "        buttonEl.style.display =\n",
              "          google.colab.kernel.accessAllowed ? 'block' : 'none';\n",
              "\n",
              "        async function convertToInteractive(key) {\n",
              "          const element = document.querySelector('#df-e97cf2c5-7d96-423e-bde9-40429e50432c');\n",
              "          const dataTable =\n",
              "            await google.colab.kernel.invokeFunction('convertToInteractive',\n",
              "                                                     [key], {});\n",
              "          if (!dataTable) return;\n",
              "\n",
              "          const docLinkHtml = 'Like what you see? Visit the ' +\n",
              "            '<a target=\"_blank\" href=https://colab.research.google.com/notebooks/data_table.ipynb>data table notebook</a>'\n",
              "            + ' to learn more about interactive tables.';\n",
              "          element.innerHTML = '';\n",
              "          dataTable['output_type'] = 'display_data';\n",
              "          await google.colab.output.renderOutput(dataTable, element);\n",
              "          const docLink = document.createElement('div');\n",
              "          docLink.innerHTML = docLinkHtml;\n",
              "          element.appendChild(docLink);\n",
              "        }\n",
              "      </script>\n",
              "    </div>\n",
              "  </div>\n",
              "  "
            ]
          },
          "metadata": {},
          "execution_count": 7
        }
      ],
      "source": [
        "\n",
        "\n",
        "\n",
        "df.tail(10)"
      ],
      "id": "225c22e7"
    },
    {
      "cell_type": "code",
      "execution_count": null,
      "metadata": {
        "colab": {
          "base_uri": "https://localhost:8080/"
        },
        "id": "3d7e2366",
        "outputId": "58b0e155-0a5d-4a6e-9e6f-44a5af553549"
      },
      "outputs": [
        {
          "output_type": "execute_result",
          "data": {
            "text/plain": [
              "              year  selling_price     km_driven        seats\n",
              "count  8128.000000   8.128000e+03  8.128000e+03  7907.000000\n",
              "mean   2013.804011   6.382718e+05  6.981951e+04     5.416719\n",
              "std       4.044249   8.062534e+05  5.655055e+04     0.959588\n",
              "min    1983.000000   2.999900e+04  1.000000e+00     2.000000\n",
              "25%    2011.000000   2.549990e+05  3.500000e+04     5.000000\n",
              "50%    2015.000000   4.500000e+05  6.000000e+04     5.000000\n",
              "75%    2017.000000   6.750000e+05  9.800000e+04     5.000000\n",
              "max    2020.000000   1.000000e+07  2.360457e+06    14.000000"
            ],
            "text/html": [
              "\n",
              "  <div id=\"df-beff2f9d-c828-4181-a9f0-b6125b3ca811\">\n",
              "    <div class=\"colab-df-container\">\n",
              "      <div>\n",
              "<style scoped>\n",
              "    .dataframe tbody tr th:only-of-type {\n",
              "        vertical-align: middle;\n",
              "    }\n",
              "\n",
              "    .dataframe tbody tr th {\n",
              "        vertical-align: top;\n",
              "    }\n",
              "\n",
              "    .dataframe thead th {\n",
              "        text-align: right;\n",
              "    }\n",
              "</style>\n",
              "<table border=\"1\" class=\"dataframe\">\n",
              "  <thead>\n",
              "    <tr style=\"text-align: right;\">\n",
              "      <th></th>\n",
              "      <th>year</th>\n",
              "      <th>selling_price</th>\n",
              "      <th>km_driven</th>\n",
              "      <th>seats</th>\n",
              "    </tr>\n",
              "  </thead>\n",
              "  <tbody>\n",
              "    <tr>\n",
              "      <th>count</th>\n",
              "      <td>8128.000000</td>\n",
              "      <td>8.128000e+03</td>\n",
              "      <td>8.128000e+03</td>\n",
              "      <td>7907.000000</td>\n",
              "    </tr>\n",
              "    <tr>\n",
              "      <th>mean</th>\n",
              "      <td>2013.804011</td>\n",
              "      <td>6.382718e+05</td>\n",
              "      <td>6.981951e+04</td>\n",
              "      <td>5.416719</td>\n",
              "    </tr>\n",
              "    <tr>\n",
              "      <th>std</th>\n",
              "      <td>4.044249</td>\n",
              "      <td>8.062534e+05</td>\n",
              "      <td>5.655055e+04</td>\n",
              "      <td>0.959588</td>\n",
              "    </tr>\n",
              "    <tr>\n",
              "      <th>min</th>\n",
              "      <td>1983.000000</td>\n",
              "      <td>2.999900e+04</td>\n",
              "      <td>1.000000e+00</td>\n",
              "      <td>2.000000</td>\n",
              "    </tr>\n",
              "    <tr>\n",
              "      <th>25%</th>\n",
              "      <td>2011.000000</td>\n",
              "      <td>2.549990e+05</td>\n",
              "      <td>3.500000e+04</td>\n",
              "      <td>5.000000</td>\n",
              "    </tr>\n",
              "    <tr>\n",
              "      <th>50%</th>\n",
              "      <td>2015.000000</td>\n",
              "      <td>4.500000e+05</td>\n",
              "      <td>6.000000e+04</td>\n",
              "      <td>5.000000</td>\n",
              "    </tr>\n",
              "    <tr>\n",
              "      <th>75%</th>\n",
              "      <td>2017.000000</td>\n",
              "      <td>6.750000e+05</td>\n",
              "      <td>9.800000e+04</td>\n",
              "      <td>5.000000</td>\n",
              "    </tr>\n",
              "    <tr>\n",
              "      <th>max</th>\n",
              "      <td>2020.000000</td>\n",
              "      <td>1.000000e+07</td>\n",
              "      <td>2.360457e+06</td>\n",
              "      <td>14.000000</td>\n",
              "    </tr>\n",
              "  </tbody>\n",
              "</table>\n",
              "</div>\n",
              "      <button class=\"colab-df-convert\" onclick=\"convertToInteractive('df-beff2f9d-c828-4181-a9f0-b6125b3ca811')\"\n",
              "              title=\"Convert this dataframe to an interactive table.\"\n",
              "              style=\"display:none;\">\n",
              "        \n",
              "  <svg xmlns=\"http://www.w3.org/2000/svg\" height=\"24px\"viewBox=\"0 0 24 24\"\n",
              "       width=\"24px\">\n",
              "    <path d=\"M0 0h24v24H0V0z\" fill=\"none\"/>\n",
              "    <path d=\"M18.56 5.44l.94 2.06.94-2.06 2.06-.94-2.06-.94-.94-2.06-.94 2.06-2.06.94zm-11 1L8.5 8.5l.94-2.06 2.06-.94-2.06-.94L8.5 2.5l-.94 2.06-2.06.94zm10 10l.94 2.06.94-2.06 2.06-.94-2.06-.94-.94-2.06-.94 2.06-2.06.94z\"/><path d=\"M17.41 7.96l-1.37-1.37c-.4-.4-.92-.59-1.43-.59-.52 0-1.04.2-1.43.59L10.3 9.45l-7.72 7.72c-.78.78-.78 2.05 0 2.83L4 21.41c.39.39.9.59 1.41.59.51 0 1.02-.2 1.41-.59l7.78-7.78 2.81-2.81c.8-.78.8-2.07 0-2.86zM5.41 20L4 18.59l7.72-7.72 1.47 1.35L5.41 20z\"/>\n",
              "  </svg>\n",
              "      </button>\n",
              "      \n",
              "  <style>\n",
              "    .colab-df-container {\n",
              "      display:flex;\n",
              "      flex-wrap:wrap;\n",
              "      gap: 12px;\n",
              "    }\n",
              "\n",
              "    .colab-df-convert {\n",
              "      background-color: #E8F0FE;\n",
              "      border: none;\n",
              "      border-radius: 50%;\n",
              "      cursor: pointer;\n",
              "      display: none;\n",
              "      fill: #1967D2;\n",
              "      height: 32px;\n",
              "      padding: 0 0 0 0;\n",
              "      width: 32px;\n",
              "    }\n",
              "\n",
              "    .colab-df-convert:hover {\n",
              "      background-color: #E2EBFA;\n",
              "      box-shadow: 0px 1px 2px rgba(60, 64, 67, 0.3), 0px 1px 3px 1px rgba(60, 64, 67, 0.15);\n",
              "      fill: #174EA6;\n",
              "    }\n",
              "\n",
              "    [theme=dark] .colab-df-convert {\n",
              "      background-color: #3B4455;\n",
              "      fill: #D2E3FC;\n",
              "    }\n",
              "\n",
              "    [theme=dark] .colab-df-convert:hover {\n",
              "      background-color: #434B5C;\n",
              "      box-shadow: 0px 1px 3px 1px rgba(0, 0, 0, 0.15);\n",
              "      filter: drop-shadow(0px 1px 2px rgba(0, 0, 0, 0.3));\n",
              "      fill: #FFFFFF;\n",
              "    }\n",
              "  </style>\n",
              "\n",
              "      <script>\n",
              "        const buttonEl =\n",
              "          document.querySelector('#df-beff2f9d-c828-4181-a9f0-b6125b3ca811 button.colab-df-convert');\n",
              "        buttonEl.style.display =\n",
              "          google.colab.kernel.accessAllowed ? 'block' : 'none';\n",
              "\n",
              "        async function convertToInteractive(key) {\n",
              "          const element = document.querySelector('#df-beff2f9d-c828-4181-a9f0-b6125b3ca811');\n",
              "          const dataTable =\n",
              "            await google.colab.kernel.invokeFunction('convertToInteractive',\n",
              "                                                     [key], {});\n",
              "          if (!dataTable) return;\n",
              "\n",
              "          const docLinkHtml = 'Like what you see? Visit the ' +\n",
              "            '<a target=\"_blank\" href=https://colab.research.google.com/notebooks/data_table.ipynb>data table notebook</a>'\n",
              "            + ' to learn more about interactive tables.';\n",
              "          element.innerHTML = '';\n",
              "          dataTable['output_type'] = 'display_data';\n",
              "          await google.colab.output.renderOutput(dataTable, element);\n",
              "          const docLink = document.createElement('div');\n",
              "          docLink.innerHTML = docLinkHtml;\n",
              "          element.appendChild(docLink);\n",
              "        }\n",
              "      </script>\n",
              "    </div>\n",
              "  </div>\n",
              "  "
            ]
          },
          "metadata": {},
          "execution_count": 8
        }
      ],
      "source": [
        "df.describe()"
      ],
      "id": "3d7e2366"
    },
    {
      "cell_type": "code",
      "execution_count": null,
      "metadata": {
        "id": "76ee0eaa"
      },
      "outputs": [],
      "source": [
        "company_list = []\n",
        "\n",
        "for i in df.name:\n",
        "    company_list.append(i.split()[0])\n",
        "   \n",
        "df.insert(0, \"company\", company_list, True)"
      ],
      "id": "76ee0eaa"
    },
    {
      "cell_type": "code",
      "execution_count": null,
      "metadata": {
        "colab": {
          "base_uri": "https://localhost:8080/"
        },
        "id": "60613e97",
        "scrolled": false,
        "outputId": "04d2ad43-8e51-4b0a-b4b6-3c2a9127e50e"
      },
      "outputs": [
        {
          "output_type": "execute_result",
          "data": {
            "text/plain": [
              "      company                          name  year  selling_price  km_driven  \\\n",
              "0      Maruti        Maruti Swift Dzire VDI  2014         450000     145500   \n",
              "1       Skoda  Skoda Rapid 1.5 TDI Ambition  2014         370000     120000   \n",
              "2       Honda      Honda City 2017-2020 EXi  2006         158000     140000   \n",
              "3     Hyundai     Hyundai i20 Sportz Diesel  2010         225000     127000   \n",
              "4      Maruti        Maruti Swift VXI BSIII  2007         130000     120000   \n",
              "...       ...                           ...   ...            ...        ...   \n",
              "8123  Hyundai             Hyundai i20 Magna  2013         320000     110000   \n",
              "8124  Hyundai         Hyundai Verna CRDi SX  2007         135000     119000   \n",
              "8125   Maruti        Maruti Swift Dzire ZDi  2009         382000     120000   \n",
              "8126     Tata               Tata Indigo CR4  2013         290000      25000   \n",
              "8127     Tata               Tata Indigo CR4  2013         290000      25000   \n",
              "\n",
              "        fuel seller_type transmission                 owner     mileage  \\\n",
              "0     Diesel  Individual       Manual           First Owner   23.4 kmpl   \n",
              "1     Diesel  Individual       Manual          Second Owner  21.14 kmpl   \n",
              "2     Petrol  Individual       Manual           Third Owner   17.7 kmpl   \n",
              "3     Diesel  Individual       Manual           First Owner   23.0 kmpl   \n",
              "4     Petrol  Individual       Manual           First Owner   16.1 kmpl   \n",
              "...      ...         ...          ...                   ...         ...   \n",
              "8123  Petrol  Individual       Manual           First Owner   18.5 kmpl   \n",
              "8124  Diesel  Individual       Manual  Fourth & Above Owner   16.8 kmpl   \n",
              "8125  Diesel  Individual       Manual           First Owner   19.3 kmpl   \n",
              "8126  Diesel  Individual       Manual           First Owner  23.57 kmpl   \n",
              "8127  Diesel  Individual       Manual           First Owner  23.57 kmpl   \n",
              "\n",
              "       engine   max_power                     torque  seats  \n",
              "0     1248 CC      74 bhp             190Nm@ 2000rpm    5.0  \n",
              "1     1498 CC  103.52 bhp        250Nm@ 1500-2500rpm    5.0  \n",
              "2     1497 CC      78 bhp      12.7@ 2,700(kgm@ rpm)    5.0  \n",
              "3     1396 CC      90 bhp   22.4 kgm at 1750-2750rpm    5.0  \n",
              "4     1298 CC    88.2 bhp      11.5@ 4,500(kgm@ rpm)    5.0  \n",
              "...       ...         ...                        ...    ...  \n",
              "8123  1197 CC   82.85 bhp           113.7Nm@ 4000rpm    5.0  \n",
              "8124  1493 CC     110 bhp  24@ 1,900-2,750(kgm@ rpm)    5.0  \n",
              "8125  1248 CC    73.9 bhp             190Nm@ 2000rpm    5.0  \n",
              "8126  1396 CC      70 bhp        140Nm@ 1800-3000rpm    5.0  \n",
              "8127  1396 CC      70 bhp        140Nm@ 1800-3000rpm    5.0  \n",
              "\n",
              "[8128 rows x 14 columns]"
            ],
            "text/html": [
              "\n",
              "  <div id=\"df-78aa9417-784d-40ba-b805-d7017bc75f61\">\n",
              "    <div class=\"colab-df-container\">\n",
              "      <div>\n",
              "<style scoped>\n",
              "    .dataframe tbody tr th:only-of-type {\n",
              "        vertical-align: middle;\n",
              "    }\n",
              "\n",
              "    .dataframe tbody tr th {\n",
              "        vertical-align: top;\n",
              "    }\n",
              "\n",
              "    .dataframe thead th {\n",
              "        text-align: right;\n",
              "    }\n",
              "</style>\n",
              "<table border=\"1\" class=\"dataframe\">\n",
              "  <thead>\n",
              "    <tr style=\"text-align: right;\">\n",
              "      <th></th>\n",
              "      <th>company</th>\n",
              "      <th>name</th>\n",
              "      <th>year</th>\n",
              "      <th>selling_price</th>\n",
              "      <th>km_driven</th>\n",
              "      <th>fuel</th>\n",
              "      <th>seller_type</th>\n",
              "      <th>transmission</th>\n",
              "      <th>owner</th>\n",
              "      <th>mileage</th>\n",
              "      <th>engine</th>\n",
              "      <th>max_power</th>\n",
              "      <th>torque</th>\n",
              "      <th>seats</th>\n",
              "    </tr>\n",
              "  </thead>\n",
              "  <tbody>\n",
              "    <tr>\n",
              "      <th>0</th>\n",
              "      <td>Maruti</td>\n",
              "      <td>Maruti Swift Dzire VDI</td>\n",
              "      <td>2014</td>\n",
              "      <td>450000</td>\n",
              "      <td>145500</td>\n",
              "      <td>Diesel</td>\n",
              "      <td>Individual</td>\n",
              "      <td>Manual</td>\n",
              "      <td>First Owner</td>\n",
              "      <td>23.4 kmpl</td>\n",
              "      <td>1248 CC</td>\n",
              "      <td>74 bhp</td>\n",
              "      <td>190Nm@ 2000rpm</td>\n",
              "      <td>5.0</td>\n",
              "    </tr>\n",
              "    <tr>\n",
              "      <th>1</th>\n",
              "      <td>Skoda</td>\n",
              "      <td>Skoda Rapid 1.5 TDI Ambition</td>\n",
              "      <td>2014</td>\n",
              "      <td>370000</td>\n",
              "      <td>120000</td>\n",
              "      <td>Diesel</td>\n",
              "      <td>Individual</td>\n",
              "      <td>Manual</td>\n",
              "      <td>Second Owner</td>\n",
              "      <td>21.14 kmpl</td>\n",
              "      <td>1498 CC</td>\n",
              "      <td>103.52 bhp</td>\n",
              "      <td>250Nm@ 1500-2500rpm</td>\n",
              "      <td>5.0</td>\n",
              "    </tr>\n",
              "    <tr>\n",
              "      <th>2</th>\n",
              "      <td>Honda</td>\n",
              "      <td>Honda City 2017-2020 EXi</td>\n",
              "      <td>2006</td>\n",
              "      <td>158000</td>\n",
              "      <td>140000</td>\n",
              "      <td>Petrol</td>\n",
              "      <td>Individual</td>\n",
              "      <td>Manual</td>\n",
              "      <td>Third Owner</td>\n",
              "      <td>17.7 kmpl</td>\n",
              "      <td>1497 CC</td>\n",
              "      <td>78 bhp</td>\n",
              "      <td>12.7@ 2,700(kgm@ rpm)</td>\n",
              "      <td>5.0</td>\n",
              "    </tr>\n",
              "    <tr>\n",
              "      <th>3</th>\n",
              "      <td>Hyundai</td>\n",
              "      <td>Hyundai i20 Sportz Diesel</td>\n",
              "      <td>2010</td>\n",
              "      <td>225000</td>\n",
              "      <td>127000</td>\n",
              "      <td>Diesel</td>\n",
              "      <td>Individual</td>\n",
              "      <td>Manual</td>\n",
              "      <td>First Owner</td>\n",
              "      <td>23.0 kmpl</td>\n",
              "      <td>1396 CC</td>\n",
              "      <td>90 bhp</td>\n",
              "      <td>22.4 kgm at 1750-2750rpm</td>\n",
              "      <td>5.0</td>\n",
              "    </tr>\n",
              "    <tr>\n",
              "      <th>4</th>\n",
              "      <td>Maruti</td>\n",
              "      <td>Maruti Swift VXI BSIII</td>\n",
              "      <td>2007</td>\n",
              "      <td>130000</td>\n",
              "      <td>120000</td>\n",
              "      <td>Petrol</td>\n",
              "      <td>Individual</td>\n",
              "      <td>Manual</td>\n",
              "      <td>First Owner</td>\n",
              "      <td>16.1 kmpl</td>\n",
              "      <td>1298 CC</td>\n",
              "      <td>88.2 bhp</td>\n",
              "      <td>11.5@ 4,500(kgm@ rpm)</td>\n",
              "      <td>5.0</td>\n",
              "    </tr>\n",
              "    <tr>\n",
              "      <th>...</th>\n",
              "      <td>...</td>\n",
              "      <td>...</td>\n",
              "      <td>...</td>\n",
              "      <td>...</td>\n",
              "      <td>...</td>\n",
              "      <td>...</td>\n",
              "      <td>...</td>\n",
              "      <td>...</td>\n",
              "      <td>...</td>\n",
              "      <td>...</td>\n",
              "      <td>...</td>\n",
              "      <td>...</td>\n",
              "      <td>...</td>\n",
              "      <td>...</td>\n",
              "    </tr>\n",
              "    <tr>\n",
              "      <th>8123</th>\n",
              "      <td>Hyundai</td>\n",
              "      <td>Hyundai i20 Magna</td>\n",
              "      <td>2013</td>\n",
              "      <td>320000</td>\n",
              "      <td>110000</td>\n",
              "      <td>Petrol</td>\n",
              "      <td>Individual</td>\n",
              "      <td>Manual</td>\n",
              "      <td>First Owner</td>\n",
              "      <td>18.5 kmpl</td>\n",
              "      <td>1197 CC</td>\n",
              "      <td>82.85 bhp</td>\n",
              "      <td>113.7Nm@ 4000rpm</td>\n",
              "      <td>5.0</td>\n",
              "    </tr>\n",
              "    <tr>\n",
              "      <th>8124</th>\n",
              "      <td>Hyundai</td>\n",
              "      <td>Hyundai Verna CRDi SX</td>\n",
              "      <td>2007</td>\n",
              "      <td>135000</td>\n",
              "      <td>119000</td>\n",
              "      <td>Diesel</td>\n",
              "      <td>Individual</td>\n",
              "      <td>Manual</td>\n",
              "      <td>Fourth &amp; Above Owner</td>\n",
              "      <td>16.8 kmpl</td>\n",
              "      <td>1493 CC</td>\n",
              "      <td>110 bhp</td>\n",
              "      <td>24@ 1,900-2,750(kgm@ rpm)</td>\n",
              "      <td>5.0</td>\n",
              "    </tr>\n",
              "    <tr>\n",
              "      <th>8125</th>\n",
              "      <td>Maruti</td>\n",
              "      <td>Maruti Swift Dzire ZDi</td>\n",
              "      <td>2009</td>\n",
              "      <td>382000</td>\n",
              "      <td>120000</td>\n",
              "      <td>Diesel</td>\n",
              "      <td>Individual</td>\n",
              "      <td>Manual</td>\n",
              "      <td>First Owner</td>\n",
              "      <td>19.3 kmpl</td>\n",
              "      <td>1248 CC</td>\n",
              "      <td>73.9 bhp</td>\n",
              "      <td>190Nm@ 2000rpm</td>\n",
              "      <td>5.0</td>\n",
              "    </tr>\n",
              "    <tr>\n",
              "      <th>8126</th>\n",
              "      <td>Tata</td>\n",
              "      <td>Tata Indigo CR4</td>\n",
              "      <td>2013</td>\n",
              "      <td>290000</td>\n",
              "      <td>25000</td>\n",
              "      <td>Diesel</td>\n",
              "      <td>Individual</td>\n",
              "      <td>Manual</td>\n",
              "      <td>First Owner</td>\n",
              "      <td>23.57 kmpl</td>\n",
              "      <td>1396 CC</td>\n",
              "      <td>70 bhp</td>\n",
              "      <td>140Nm@ 1800-3000rpm</td>\n",
              "      <td>5.0</td>\n",
              "    </tr>\n",
              "    <tr>\n",
              "      <th>8127</th>\n",
              "      <td>Tata</td>\n",
              "      <td>Tata Indigo CR4</td>\n",
              "      <td>2013</td>\n",
              "      <td>290000</td>\n",
              "      <td>25000</td>\n",
              "      <td>Diesel</td>\n",
              "      <td>Individual</td>\n",
              "      <td>Manual</td>\n",
              "      <td>First Owner</td>\n",
              "      <td>23.57 kmpl</td>\n",
              "      <td>1396 CC</td>\n",
              "      <td>70 bhp</td>\n",
              "      <td>140Nm@ 1800-3000rpm</td>\n",
              "      <td>5.0</td>\n",
              "    </tr>\n",
              "  </tbody>\n",
              "</table>\n",
              "<p>8128 rows × 14 columns</p>\n",
              "</div>\n",
              "      <button class=\"colab-df-convert\" onclick=\"convertToInteractive('df-78aa9417-784d-40ba-b805-d7017bc75f61')\"\n",
              "              title=\"Convert this dataframe to an interactive table.\"\n",
              "              style=\"display:none;\">\n",
              "        \n",
              "  <svg xmlns=\"http://www.w3.org/2000/svg\" height=\"24px\"viewBox=\"0 0 24 24\"\n",
              "       width=\"24px\">\n",
              "    <path d=\"M0 0h24v24H0V0z\" fill=\"none\"/>\n",
              "    <path d=\"M18.56 5.44l.94 2.06.94-2.06 2.06-.94-2.06-.94-.94-2.06-.94 2.06-2.06.94zm-11 1L8.5 8.5l.94-2.06 2.06-.94-2.06-.94L8.5 2.5l-.94 2.06-2.06.94zm10 10l.94 2.06.94-2.06 2.06-.94-2.06-.94-.94-2.06-.94 2.06-2.06.94z\"/><path d=\"M17.41 7.96l-1.37-1.37c-.4-.4-.92-.59-1.43-.59-.52 0-1.04.2-1.43.59L10.3 9.45l-7.72 7.72c-.78.78-.78 2.05 0 2.83L4 21.41c.39.39.9.59 1.41.59.51 0 1.02-.2 1.41-.59l7.78-7.78 2.81-2.81c.8-.78.8-2.07 0-2.86zM5.41 20L4 18.59l7.72-7.72 1.47 1.35L5.41 20z\"/>\n",
              "  </svg>\n",
              "      </button>\n",
              "      \n",
              "  <style>\n",
              "    .colab-df-container {\n",
              "      display:flex;\n",
              "      flex-wrap:wrap;\n",
              "      gap: 12px;\n",
              "    }\n",
              "\n",
              "    .colab-df-convert {\n",
              "      background-color: #E8F0FE;\n",
              "      border: none;\n",
              "      border-radius: 50%;\n",
              "      cursor: pointer;\n",
              "      display: none;\n",
              "      fill: #1967D2;\n",
              "      height: 32px;\n",
              "      padding: 0 0 0 0;\n",
              "      width: 32px;\n",
              "    }\n",
              "\n",
              "    .colab-df-convert:hover {\n",
              "      background-color: #E2EBFA;\n",
              "      box-shadow: 0px 1px 2px rgba(60, 64, 67, 0.3), 0px 1px 3px 1px rgba(60, 64, 67, 0.15);\n",
              "      fill: #174EA6;\n",
              "    }\n",
              "\n",
              "    [theme=dark] .colab-df-convert {\n",
              "      background-color: #3B4455;\n",
              "      fill: #D2E3FC;\n",
              "    }\n",
              "\n",
              "    [theme=dark] .colab-df-convert:hover {\n",
              "      background-color: #434B5C;\n",
              "      box-shadow: 0px 1px 3px 1px rgba(0, 0, 0, 0.15);\n",
              "      filter: drop-shadow(0px 1px 2px rgba(0, 0, 0, 0.3));\n",
              "      fill: #FFFFFF;\n",
              "    }\n",
              "  </style>\n",
              "\n",
              "      <script>\n",
              "        const buttonEl =\n",
              "          document.querySelector('#df-78aa9417-784d-40ba-b805-d7017bc75f61 button.colab-df-convert');\n",
              "        buttonEl.style.display =\n",
              "          google.colab.kernel.accessAllowed ? 'block' : 'none';\n",
              "\n",
              "        async function convertToInteractive(key) {\n",
              "          const element = document.querySelector('#df-78aa9417-784d-40ba-b805-d7017bc75f61');\n",
              "          const dataTable =\n",
              "            await google.colab.kernel.invokeFunction('convertToInteractive',\n",
              "                                                     [key], {});\n",
              "          if (!dataTable) return;\n",
              "\n",
              "          const docLinkHtml = 'Like what you see? Visit the ' +\n",
              "            '<a target=\"_blank\" href=https://colab.research.google.com/notebooks/data_table.ipynb>data table notebook</a>'\n",
              "            + ' to learn more about interactive tables.';\n",
              "          element.innerHTML = '';\n",
              "          dataTable['output_type'] = 'display_data';\n",
              "          await google.colab.output.renderOutput(dataTable, element);\n",
              "          const docLink = document.createElement('div');\n",
              "          docLink.innerHTML = docLinkHtml;\n",
              "          element.appendChild(docLink);\n",
              "        }\n",
              "      </script>\n",
              "    </div>\n",
              "  </div>\n",
              "  "
            ]
          },
          "metadata": {},
          "execution_count": 10
        }
      ],
      "source": [
        "df"
      ],
      "id": "60613e97"
    },
    {
      "cell_type": "code",
      "execution_count": null,
      "metadata": {
        "id": "55ce0927",
        "scrolled": true
      },
      "outputs": [],
      "source": [
        "for i in range(0,len(df.name)):\n",
        "    df.at[i, 'name'] = df.name[i].split(\" \",1)[1]"
      ],
      "id": "55ce0927"
    },
    {
      "cell_type": "code",
      "execution_count": null,
      "metadata": {
        "colab": {
          "base_uri": "https://localhost:8080/"
        },
        "id": "a3395855",
        "scrolled": false,
        "outputId": "4cb6ded3-3aa7-4cf6-a9b8-73ce901bb000"
      },
      "outputs": [
        {
          "output_type": "execute_result",
          "data": {
            "text/plain": [
              "      company                    name  year  selling_price  km_driven    fuel  \\\n",
              "0      Maruti         Swift Dzire VDI  2014         450000     145500  Diesel   \n",
              "1       Skoda  Rapid 1.5 TDI Ambition  2014         370000     120000  Diesel   \n",
              "2       Honda      City 2017-2020 EXi  2006         158000     140000  Petrol   \n",
              "3     Hyundai       i20 Sportz Diesel  2010         225000     127000  Diesel   \n",
              "4      Maruti         Swift VXI BSIII  2007         130000     120000  Petrol   \n",
              "...       ...                     ...   ...            ...        ...     ...   \n",
              "8123  Hyundai               i20 Magna  2013         320000     110000  Petrol   \n",
              "8124  Hyundai           Verna CRDi SX  2007         135000     119000  Diesel   \n",
              "8125   Maruti         Swift Dzire ZDi  2009         382000     120000  Diesel   \n",
              "8126     Tata              Indigo CR4  2013         290000      25000  Diesel   \n",
              "8127     Tata              Indigo CR4  2013         290000      25000  Diesel   \n",
              "\n",
              "     seller_type transmission                 owner     mileage   engine  \\\n",
              "0     Individual       Manual           First Owner   23.4 kmpl  1248 CC   \n",
              "1     Individual       Manual          Second Owner  21.14 kmpl  1498 CC   \n",
              "2     Individual       Manual           Third Owner   17.7 kmpl  1497 CC   \n",
              "3     Individual       Manual           First Owner   23.0 kmpl  1396 CC   \n",
              "4     Individual       Manual           First Owner   16.1 kmpl  1298 CC   \n",
              "...          ...          ...                   ...         ...      ...   \n",
              "8123  Individual       Manual           First Owner   18.5 kmpl  1197 CC   \n",
              "8124  Individual       Manual  Fourth & Above Owner   16.8 kmpl  1493 CC   \n",
              "8125  Individual       Manual           First Owner   19.3 kmpl  1248 CC   \n",
              "8126  Individual       Manual           First Owner  23.57 kmpl  1396 CC   \n",
              "8127  Individual       Manual           First Owner  23.57 kmpl  1396 CC   \n",
              "\n",
              "       max_power                     torque  seats  \n",
              "0         74 bhp             190Nm@ 2000rpm    5.0  \n",
              "1     103.52 bhp        250Nm@ 1500-2500rpm    5.0  \n",
              "2         78 bhp      12.7@ 2,700(kgm@ rpm)    5.0  \n",
              "3         90 bhp   22.4 kgm at 1750-2750rpm    5.0  \n",
              "4       88.2 bhp      11.5@ 4,500(kgm@ rpm)    5.0  \n",
              "...          ...                        ...    ...  \n",
              "8123   82.85 bhp           113.7Nm@ 4000rpm    5.0  \n",
              "8124     110 bhp  24@ 1,900-2,750(kgm@ rpm)    5.0  \n",
              "8125    73.9 bhp             190Nm@ 2000rpm    5.0  \n",
              "8126      70 bhp        140Nm@ 1800-3000rpm    5.0  \n",
              "8127      70 bhp        140Nm@ 1800-3000rpm    5.0  \n",
              "\n",
              "[8128 rows x 14 columns]"
            ],
            "text/html": [
              "\n",
              "  <div id=\"df-3d4279be-611f-4c9f-977a-493116086889\">\n",
              "    <div class=\"colab-df-container\">\n",
              "      <div>\n",
              "<style scoped>\n",
              "    .dataframe tbody tr th:only-of-type {\n",
              "        vertical-align: middle;\n",
              "    }\n",
              "\n",
              "    .dataframe tbody tr th {\n",
              "        vertical-align: top;\n",
              "    }\n",
              "\n",
              "    .dataframe thead th {\n",
              "        text-align: right;\n",
              "    }\n",
              "</style>\n",
              "<table border=\"1\" class=\"dataframe\">\n",
              "  <thead>\n",
              "    <tr style=\"text-align: right;\">\n",
              "      <th></th>\n",
              "      <th>company</th>\n",
              "      <th>name</th>\n",
              "      <th>year</th>\n",
              "      <th>selling_price</th>\n",
              "      <th>km_driven</th>\n",
              "      <th>fuel</th>\n",
              "      <th>seller_type</th>\n",
              "      <th>transmission</th>\n",
              "      <th>owner</th>\n",
              "      <th>mileage</th>\n",
              "      <th>engine</th>\n",
              "      <th>max_power</th>\n",
              "      <th>torque</th>\n",
              "      <th>seats</th>\n",
              "    </tr>\n",
              "  </thead>\n",
              "  <tbody>\n",
              "    <tr>\n",
              "      <th>0</th>\n",
              "      <td>Maruti</td>\n",
              "      <td>Swift Dzire VDI</td>\n",
              "      <td>2014</td>\n",
              "      <td>450000</td>\n",
              "      <td>145500</td>\n",
              "      <td>Diesel</td>\n",
              "      <td>Individual</td>\n",
              "      <td>Manual</td>\n",
              "      <td>First Owner</td>\n",
              "      <td>23.4 kmpl</td>\n",
              "      <td>1248 CC</td>\n",
              "      <td>74 bhp</td>\n",
              "      <td>190Nm@ 2000rpm</td>\n",
              "      <td>5.0</td>\n",
              "    </tr>\n",
              "    <tr>\n",
              "      <th>1</th>\n",
              "      <td>Skoda</td>\n",
              "      <td>Rapid 1.5 TDI Ambition</td>\n",
              "      <td>2014</td>\n",
              "      <td>370000</td>\n",
              "      <td>120000</td>\n",
              "      <td>Diesel</td>\n",
              "      <td>Individual</td>\n",
              "      <td>Manual</td>\n",
              "      <td>Second Owner</td>\n",
              "      <td>21.14 kmpl</td>\n",
              "      <td>1498 CC</td>\n",
              "      <td>103.52 bhp</td>\n",
              "      <td>250Nm@ 1500-2500rpm</td>\n",
              "      <td>5.0</td>\n",
              "    </tr>\n",
              "    <tr>\n",
              "      <th>2</th>\n",
              "      <td>Honda</td>\n",
              "      <td>City 2017-2020 EXi</td>\n",
              "      <td>2006</td>\n",
              "      <td>158000</td>\n",
              "      <td>140000</td>\n",
              "      <td>Petrol</td>\n",
              "      <td>Individual</td>\n",
              "      <td>Manual</td>\n",
              "      <td>Third Owner</td>\n",
              "      <td>17.7 kmpl</td>\n",
              "      <td>1497 CC</td>\n",
              "      <td>78 bhp</td>\n",
              "      <td>12.7@ 2,700(kgm@ rpm)</td>\n",
              "      <td>5.0</td>\n",
              "    </tr>\n",
              "    <tr>\n",
              "      <th>3</th>\n",
              "      <td>Hyundai</td>\n",
              "      <td>i20 Sportz Diesel</td>\n",
              "      <td>2010</td>\n",
              "      <td>225000</td>\n",
              "      <td>127000</td>\n",
              "      <td>Diesel</td>\n",
              "      <td>Individual</td>\n",
              "      <td>Manual</td>\n",
              "      <td>First Owner</td>\n",
              "      <td>23.0 kmpl</td>\n",
              "      <td>1396 CC</td>\n",
              "      <td>90 bhp</td>\n",
              "      <td>22.4 kgm at 1750-2750rpm</td>\n",
              "      <td>5.0</td>\n",
              "    </tr>\n",
              "    <tr>\n",
              "      <th>4</th>\n",
              "      <td>Maruti</td>\n",
              "      <td>Swift VXI BSIII</td>\n",
              "      <td>2007</td>\n",
              "      <td>130000</td>\n",
              "      <td>120000</td>\n",
              "      <td>Petrol</td>\n",
              "      <td>Individual</td>\n",
              "      <td>Manual</td>\n",
              "      <td>First Owner</td>\n",
              "      <td>16.1 kmpl</td>\n",
              "      <td>1298 CC</td>\n",
              "      <td>88.2 bhp</td>\n",
              "      <td>11.5@ 4,500(kgm@ rpm)</td>\n",
              "      <td>5.0</td>\n",
              "    </tr>\n",
              "    <tr>\n",
              "      <th>...</th>\n",
              "      <td>...</td>\n",
              "      <td>...</td>\n",
              "      <td>...</td>\n",
              "      <td>...</td>\n",
              "      <td>...</td>\n",
              "      <td>...</td>\n",
              "      <td>...</td>\n",
              "      <td>...</td>\n",
              "      <td>...</td>\n",
              "      <td>...</td>\n",
              "      <td>...</td>\n",
              "      <td>...</td>\n",
              "      <td>...</td>\n",
              "      <td>...</td>\n",
              "    </tr>\n",
              "    <tr>\n",
              "      <th>8123</th>\n",
              "      <td>Hyundai</td>\n",
              "      <td>i20 Magna</td>\n",
              "      <td>2013</td>\n",
              "      <td>320000</td>\n",
              "      <td>110000</td>\n",
              "      <td>Petrol</td>\n",
              "      <td>Individual</td>\n",
              "      <td>Manual</td>\n",
              "      <td>First Owner</td>\n",
              "      <td>18.5 kmpl</td>\n",
              "      <td>1197 CC</td>\n",
              "      <td>82.85 bhp</td>\n",
              "      <td>113.7Nm@ 4000rpm</td>\n",
              "      <td>5.0</td>\n",
              "    </tr>\n",
              "    <tr>\n",
              "      <th>8124</th>\n",
              "      <td>Hyundai</td>\n",
              "      <td>Verna CRDi SX</td>\n",
              "      <td>2007</td>\n",
              "      <td>135000</td>\n",
              "      <td>119000</td>\n",
              "      <td>Diesel</td>\n",
              "      <td>Individual</td>\n",
              "      <td>Manual</td>\n",
              "      <td>Fourth &amp; Above Owner</td>\n",
              "      <td>16.8 kmpl</td>\n",
              "      <td>1493 CC</td>\n",
              "      <td>110 bhp</td>\n",
              "      <td>24@ 1,900-2,750(kgm@ rpm)</td>\n",
              "      <td>5.0</td>\n",
              "    </tr>\n",
              "    <tr>\n",
              "      <th>8125</th>\n",
              "      <td>Maruti</td>\n",
              "      <td>Swift Dzire ZDi</td>\n",
              "      <td>2009</td>\n",
              "      <td>382000</td>\n",
              "      <td>120000</td>\n",
              "      <td>Diesel</td>\n",
              "      <td>Individual</td>\n",
              "      <td>Manual</td>\n",
              "      <td>First Owner</td>\n",
              "      <td>19.3 kmpl</td>\n",
              "      <td>1248 CC</td>\n",
              "      <td>73.9 bhp</td>\n",
              "      <td>190Nm@ 2000rpm</td>\n",
              "      <td>5.0</td>\n",
              "    </tr>\n",
              "    <tr>\n",
              "      <th>8126</th>\n",
              "      <td>Tata</td>\n",
              "      <td>Indigo CR4</td>\n",
              "      <td>2013</td>\n",
              "      <td>290000</td>\n",
              "      <td>25000</td>\n",
              "      <td>Diesel</td>\n",
              "      <td>Individual</td>\n",
              "      <td>Manual</td>\n",
              "      <td>First Owner</td>\n",
              "      <td>23.57 kmpl</td>\n",
              "      <td>1396 CC</td>\n",
              "      <td>70 bhp</td>\n",
              "      <td>140Nm@ 1800-3000rpm</td>\n",
              "      <td>5.0</td>\n",
              "    </tr>\n",
              "    <tr>\n",
              "      <th>8127</th>\n",
              "      <td>Tata</td>\n",
              "      <td>Indigo CR4</td>\n",
              "      <td>2013</td>\n",
              "      <td>290000</td>\n",
              "      <td>25000</td>\n",
              "      <td>Diesel</td>\n",
              "      <td>Individual</td>\n",
              "      <td>Manual</td>\n",
              "      <td>First Owner</td>\n",
              "      <td>23.57 kmpl</td>\n",
              "      <td>1396 CC</td>\n",
              "      <td>70 bhp</td>\n",
              "      <td>140Nm@ 1800-3000rpm</td>\n",
              "      <td>5.0</td>\n",
              "    </tr>\n",
              "  </tbody>\n",
              "</table>\n",
              "<p>8128 rows × 14 columns</p>\n",
              "</div>\n",
              "      <button class=\"colab-df-convert\" onclick=\"convertToInteractive('df-3d4279be-611f-4c9f-977a-493116086889')\"\n",
              "              title=\"Convert this dataframe to an interactive table.\"\n",
              "              style=\"display:none;\">\n",
              "        \n",
              "  <svg xmlns=\"http://www.w3.org/2000/svg\" height=\"24px\"viewBox=\"0 0 24 24\"\n",
              "       width=\"24px\">\n",
              "    <path d=\"M0 0h24v24H0V0z\" fill=\"none\"/>\n",
              "    <path d=\"M18.56 5.44l.94 2.06.94-2.06 2.06-.94-2.06-.94-.94-2.06-.94 2.06-2.06.94zm-11 1L8.5 8.5l.94-2.06 2.06-.94-2.06-.94L8.5 2.5l-.94 2.06-2.06.94zm10 10l.94 2.06.94-2.06 2.06-.94-2.06-.94-.94-2.06-.94 2.06-2.06.94z\"/><path d=\"M17.41 7.96l-1.37-1.37c-.4-.4-.92-.59-1.43-.59-.52 0-1.04.2-1.43.59L10.3 9.45l-7.72 7.72c-.78.78-.78 2.05 0 2.83L4 21.41c.39.39.9.59 1.41.59.51 0 1.02-.2 1.41-.59l7.78-7.78 2.81-2.81c.8-.78.8-2.07 0-2.86zM5.41 20L4 18.59l7.72-7.72 1.47 1.35L5.41 20z\"/>\n",
              "  </svg>\n",
              "      </button>\n",
              "      \n",
              "  <style>\n",
              "    .colab-df-container {\n",
              "      display:flex;\n",
              "      flex-wrap:wrap;\n",
              "      gap: 12px;\n",
              "    }\n",
              "\n",
              "    .colab-df-convert {\n",
              "      background-color: #E8F0FE;\n",
              "      border: none;\n",
              "      border-radius: 50%;\n",
              "      cursor: pointer;\n",
              "      display: none;\n",
              "      fill: #1967D2;\n",
              "      height: 32px;\n",
              "      padding: 0 0 0 0;\n",
              "      width: 32px;\n",
              "    }\n",
              "\n",
              "    .colab-df-convert:hover {\n",
              "      background-color: #E2EBFA;\n",
              "      box-shadow: 0px 1px 2px rgba(60, 64, 67, 0.3), 0px 1px 3px 1px rgba(60, 64, 67, 0.15);\n",
              "      fill: #174EA6;\n",
              "    }\n",
              "\n",
              "    [theme=dark] .colab-df-convert {\n",
              "      background-color: #3B4455;\n",
              "      fill: #D2E3FC;\n",
              "    }\n",
              "\n",
              "    [theme=dark] .colab-df-convert:hover {\n",
              "      background-color: #434B5C;\n",
              "      box-shadow: 0px 1px 3px 1px rgba(0, 0, 0, 0.15);\n",
              "      filter: drop-shadow(0px 1px 2px rgba(0, 0, 0, 0.3));\n",
              "      fill: #FFFFFF;\n",
              "    }\n",
              "  </style>\n",
              "\n",
              "      <script>\n",
              "        const buttonEl =\n",
              "          document.querySelector('#df-3d4279be-611f-4c9f-977a-493116086889 button.colab-df-convert');\n",
              "        buttonEl.style.display =\n",
              "          google.colab.kernel.accessAllowed ? 'block' : 'none';\n",
              "\n",
              "        async function convertToInteractive(key) {\n",
              "          const element = document.querySelector('#df-3d4279be-611f-4c9f-977a-493116086889');\n",
              "          const dataTable =\n",
              "            await google.colab.kernel.invokeFunction('convertToInteractive',\n",
              "                                                     [key], {});\n",
              "          if (!dataTable) return;\n",
              "\n",
              "          const docLinkHtml = 'Like what you see? Visit the ' +\n",
              "            '<a target=\"_blank\" href=https://colab.research.google.com/notebooks/data_table.ipynb>data table notebook</a>'\n",
              "            + ' to learn more about interactive tables.';\n",
              "          element.innerHTML = '';\n",
              "          dataTable['output_type'] = 'display_data';\n",
              "          await google.colab.output.renderOutput(dataTable, element);\n",
              "          const docLink = document.createElement('div');\n",
              "          docLink.innerHTML = docLinkHtml;\n",
              "          element.appendChild(docLink);\n",
              "        }\n",
              "      </script>\n",
              "    </div>\n",
              "  </div>\n",
              "  "
            ]
          },
          "metadata": {},
          "execution_count": 12
        }
      ],
      "source": [
        "df"
      ],
      "id": "a3395855"
    },
    {
      "cell_type": "code",
      "execution_count": null,
      "metadata": {
        "colab": {
          "base_uri": "https://localhost:8080/"
        },
        "id": "a4af40d5",
        "scrolled": true,
        "outputId": "81fb1794-6c77-4a10-f6d3-d70086dd69a9"
      },
      "outputs": [
        {
          "output_type": "execute_result",
          "data": {
            "text/plain": [
              "company            0\n",
              "name               0\n",
              "year               0\n",
              "selling_price      0\n",
              "km_driven          0\n",
              "fuel               0\n",
              "seller_type        0\n",
              "transmission       0\n",
              "owner              0\n",
              "mileage          221\n",
              "engine           221\n",
              "max_power        215\n",
              "torque           222\n",
              "seats            221\n",
              "dtype: int64"
            ]
          },
          "metadata": {},
          "execution_count": 13
        }
      ],
      "source": [
        "df.isnull().sum()"
      ],
      "id": "a4af40d5"
    },
    {
      "cell_type": "code",
      "execution_count": null,
      "metadata": {
        "colab": {
          "base_uri": "https://localhost:8080/"
        },
        "id": "1162863b",
        "scrolled": false,
        "outputId": "6c1aadd8-588b-4ce4-e78d-6c9c8c563100"
      },
      "outputs": [
        {
          "output_type": "execute_result",
          "data": {
            "text/plain": [
              "1100"
            ]
          },
          "metadata": {},
          "execution_count": 14
        }
      ],
      "source": [
        "df.isnull().sum().sum()"
      ],
      "id": "1162863b"
    },
    {
      "cell_type": "code",
      "execution_count": null,
      "metadata": {
        "id": "3ebe59c2"
      },
      "outputs": [],
      "source": [
        "df = df.drop(4933)\n",
        "df = df.dropna()\n",
        "df.reset_index(drop = True, inplace = True)"
      ],
      "id": "3ebe59c2"
    },
    {
      "cell_type": "code",
      "execution_count": null,
      "metadata": {
        "colab": {
          "base_uri": "https://localhost:8080/"
        },
        "id": "a34af150",
        "outputId": "fc09bf7e-bf4f-4631-fdb0-097cc3be8602"
      },
      "outputs": [
        {
          "output_type": "execute_result",
          "data": {
            "text/plain": [
              "company          0\n",
              "name             0\n",
              "year             0\n",
              "selling_price    0\n",
              "km_driven        0\n",
              "fuel             0\n",
              "seller_type      0\n",
              "transmission     0\n",
              "owner            0\n",
              "mileage          0\n",
              "engine           0\n",
              "max_power        0\n",
              "torque           0\n",
              "seats            0\n",
              "dtype: int64"
            ]
          },
          "metadata": {},
          "execution_count": 16
        }
      ],
      "source": [
        "df.isnull().sum()\n"
      ],
      "id": "a34af150"
    },
    {
      "cell_type": "code",
      "execution_count": null,
      "metadata": {
        "id": "da4992d6",
        "scrolled": true
      },
      "outputs": [],
      "source": [
        "for i in range(0,len(df.name)):\n",
        "    try:\n",
        "        df.at[i, 'engine'] = df.engine[i].split(\" \",1)[0]\n",
        "        df.at[i, 'mileage'] = df.mileage[i].split(\" \",1)[0]\n",
        "        df.at[i, 'owner'] = df.owner[i].split(\" \",1)[0]\n",
        "        df.at[i, 'max_power'] = df.max_power[i].split(\" \",1)[0]\n",
        "    except:\n",
        "        pass"
      ],
      "id": "da4992d6"
    },
    {
      "cell_type": "code",
      "execution_count": null,
      "metadata": {
        "id": "tffGHpNxDd9x"
      },
      "outputs": [],
      "source": [
        "import re"
      ],
      "id": "tffGHpNxDd9x"
    },
    {
      "cell_type": "code",
      "execution_count": null,
      "metadata": {
        "id": "ZR-KGItYj6rT"
      },
      "outputs": [],
      "source": [
        "y = []\n",
        "for i in range(0, len(df['torque'])):\n",
        "    str = df.torque[i].split()[0]\n",
        "    t1 = re.findall('\\d*\\.?\\d+', str)[0]  \n",
        "    if 'Nm' in str:\n",
        "      df.at[i,'torque'] = float(t1)\n",
        "    else:\n",
        "      df.at[i,'torque'] = float(t1) * 9.8088\n",
        "      if(int(df.at[i,'torque'] > 1000)):\n",
        "        df.at[i,'torque'] = df.at[i,'torque'] / 9.8088"
      ],
      "id": "ZR-KGItYj6rT"
    },
    {
      "cell_type": "code",
      "execution_count": null,
      "metadata": {
        "colab": {
          "base_uri": "https://localhost:8080/"
        },
        "id": "aea35266",
        "scrolled": false,
        "outputId": "6e59757c-e74b-4571-f652-aa5c888f8a81"
      },
      "outputs": [
        {
          "output_type": "execute_result",
          "data": {
            "text/plain": [
              "      company                    name  year  selling_price  km_driven    fuel  \\\n",
              "0      Maruti         Swift Dzire VDI  2014         450000     145500  Diesel   \n",
              "1       Skoda  Rapid 1.5 TDI Ambition  2014         370000     120000  Diesel   \n",
              "2       Honda      City 2017-2020 EXi  2006         158000     140000  Petrol   \n",
              "3     Hyundai       i20 Sportz Diesel  2010         225000     127000  Diesel   \n",
              "4      Maruti         Swift VXI BSIII  2007         130000     120000  Petrol   \n",
              "...       ...                     ...   ...            ...        ...     ...   \n",
              "7901  Hyundai               i20 Magna  2013         320000     110000  Petrol   \n",
              "7902  Hyundai           Verna CRDi SX  2007         135000     119000  Diesel   \n",
              "7903   Maruti         Swift Dzire ZDi  2009         382000     120000  Diesel   \n",
              "7904     Tata              Indigo CR4  2013         290000      25000  Diesel   \n",
              "7905     Tata              Indigo CR4  2013         290000      25000  Diesel   \n",
              "\n",
              "     seller_type transmission   owner mileage engine max_power     torque  \\\n",
              "0     Individual       Manual   First    23.4   1248        74      190.0   \n",
              "1     Individual       Manual  Second   21.14   1498    103.52      250.0   \n",
              "2     Individual       Manual   Third    17.7   1497        78  124.57176   \n",
              "3     Individual       Manual   First    23.0   1396        90  219.71712   \n",
              "4     Individual       Manual   First    16.1   1298      88.2   112.8012   \n",
              "...          ...          ...     ...     ...    ...       ...        ...   \n",
              "7901  Individual       Manual   First    18.5   1197     82.85      113.7   \n",
              "7902  Individual       Manual  Fourth    16.8   1493       110   235.4112   \n",
              "7903  Individual       Manual   First    19.3   1248      73.9      190.0   \n",
              "7904  Individual       Manual   First   23.57   1396        70      140.0   \n",
              "7905  Individual       Manual   First   23.57   1396        70      140.0   \n",
              "\n",
              "      seats  \n",
              "0       5.0  \n",
              "1       5.0  \n",
              "2       5.0  \n",
              "3       5.0  \n",
              "4       5.0  \n",
              "...     ...  \n",
              "7901    5.0  \n",
              "7902    5.0  \n",
              "7903    5.0  \n",
              "7904    5.0  \n",
              "7905    5.0  \n",
              "\n",
              "[7906 rows x 14 columns]"
            ],
            "text/html": [
              "\n",
              "  <div id=\"df-aa57175f-27fc-4c19-8775-634be62a7d59\">\n",
              "    <div class=\"colab-df-container\">\n",
              "      <div>\n",
              "<style scoped>\n",
              "    .dataframe tbody tr th:only-of-type {\n",
              "        vertical-align: middle;\n",
              "    }\n",
              "\n",
              "    .dataframe tbody tr th {\n",
              "        vertical-align: top;\n",
              "    }\n",
              "\n",
              "    .dataframe thead th {\n",
              "        text-align: right;\n",
              "    }\n",
              "</style>\n",
              "<table border=\"1\" class=\"dataframe\">\n",
              "  <thead>\n",
              "    <tr style=\"text-align: right;\">\n",
              "      <th></th>\n",
              "      <th>company</th>\n",
              "      <th>name</th>\n",
              "      <th>year</th>\n",
              "      <th>selling_price</th>\n",
              "      <th>km_driven</th>\n",
              "      <th>fuel</th>\n",
              "      <th>seller_type</th>\n",
              "      <th>transmission</th>\n",
              "      <th>owner</th>\n",
              "      <th>mileage</th>\n",
              "      <th>engine</th>\n",
              "      <th>max_power</th>\n",
              "      <th>torque</th>\n",
              "      <th>seats</th>\n",
              "    </tr>\n",
              "  </thead>\n",
              "  <tbody>\n",
              "    <tr>\n",
              "      <th>0</th>\n",
              "      <td>Maruti</td>\n",
              "      <td>Swift Dzire VDI</td>\n",
              "      <td>2014</td>\n",
              "      <td>450000</td>\n",
              "      <td>145500</td>\n",
              "      <td>Diesel</td>\n",
              "      <td>Individual</td>\n",
              "      <td>Manual</td>\n",
              "      <td>First</td>\n",
              "      <td>23.4</td>\n",
              "      <td>1248</td>\n",
              "      <td>74</td>\n",
              "      <td>190.0</td>\n",
              "      <td>5.0</td>\n",
              "    </tr>\n",
              "    <tr>\n",
              "      <th>1</th>\n",
              "      <td>Skoda</td>\n",
              "      <td>Rapid 1.5 TDI Ambition</td>\n",
              "      <td>2014</td>\n",
              "      <td>370000</td>\n",
              "      <td>120000</td>\n",
              "      <td>Diesel</td>\n",
              "      <td>Individual</td>\n",
              "      <td>Manual</td>\n",
              "      <td>Second</td>\n",
              "      <td>21.14</td>\n",
              "      <td>1498</td>\n",
              "      <td>103.52</td>\n",
              "      <td>250.0</td>\n",
              "      <td>5.0</td>\n",
              "    </tr>\n",
              "    <tr>\n",
              "      <th>2</th>\n",
              "      <td>Honda</td>\n",
              "      <td>City 2017-2020 EXi</td>\n",
              "      <td>2006</td>\n",
              "      <td>158000</td>\n",
              "      <td>140000</td>\n",
              "      <td>Petrol</td>\n",
              "      <td>Individual</td>\n",
              "      <td>Manual</td>\n",
              "      <td>Third</td>\n",
              "      <td>17.7</td>\n",
              "      <td>1497</td>\n",
              "      <td>78</td>\n",
              "      <td>124.57176</td>\n",
              "      <td>5.0</td>\n",
              "    </tr>\n",
              "    <tr>\n",
              "      <th>3</th>\n",
              "      <td>Hyundai</td>\n",
              "      <td>i20 Sportz Diesel</td>\n",
              "      <td>2010</td>\n",
              "      <td>225000</td>\n",
              "      <td>127000</td>\n",
              "      <td>Diesel</td>\n",
              "      <td>Individual</td>\n",
              "      <td>Manual</td>\n",
              "      <td>First</td>\n",
              "      <td>23.0</td>\n",
              "      <td>1396</td>\n",
              "      <td>90</td>\n",
              "      <td>219.71712</td>\n",
              "      <td>5.0</td>\n",
              "    </tr>\n",
              "    <tr>\n",
              "      <th>4</th>\n",
              "      <td>Maruti</td>\n",
              "      <td>Swift VXI BSIII</td>\n",
              "      <td>2007</td>\n",
              "      <td>130000</td>\n",
              "      <td>120000</td>\n",
              "      <td>Petrol</td>\n",
              "      <td>Individual</td>\n",
              "      <td>Manual</td>\n",
              "      <td>First</td>\n",
              "      <td>16.1</td>\n",
              "      <td>1298</td>\n",
              "      <td>88.2</td>\n",
              "      <td>112.8012</td>\n",
              "      <td>5.0</td>\n",
              "    </tr>\n",
              "    <tr>\n",
              "      <th>...</th>\n",
              "      <td>...</td>\n",
              "      <td>...</td>\n",
              "      <td>...</td>\n",
              "      <td>...</td>\n",
              "      <td>...</td>\n",
              "      <td>...</td>\n",
              "      <td>...</td>\n",
              "      <td>...</td>\n",
              "      <td>...</td>\n",
              "      <td>...</td>\n",
              "      <td>...</td>\n",
              "      <td>...</td>\n",
              "      <td>...</td>\n",
              "      <td>...</td>\n",
              "    </tr>\n",
              "    <tr>\n",
              "      <th>7901</th>\n",
              "      <td>Hyundai</td>\n",
              "      <td>i20 Magna</td>\n",
              "      <td>2013</td>\n",
              "      <td>320000</td>\n",
              "      <td>110000</td>\n",
              "      <td>Petrol</td>\n",
              "      <td>Individual</td>\n",
              "      <td>Manual</td>\n",
              "      <td>First</td>\n",
              "      <td>18.5</td>\n",
              "      <td>1197</td>\n",
              "      <td>82.85</td>\n",
              "      <td>113.7</td>\n",
              "      <td>5.0</td>\n",
              "    </tr>\n",
              "    <tr>\n",
              "      <th>7902</th>\n",
              "      <td>Hyundai</td>\n",
              "      <td>Verna CRDi SX</td>\n",
              "      <td>2007</td>\n",
              "      <td>135000</td>\n",
              "      <td>119000</td>\n",
              "      <td>Diesel</td>\n",
              "      <td>Individual</td>\n",
              "      <td>Manual</td>\n",
              "      <td>Fourth</td>\n",
              "      <td>16.8</td>\n",
              "      <td>1493</td>\n",
              "      <td>110</td>\n",
              "      <td>235.4112</td>\n",
              "      <td>5.0</td>\n",
              "    </tr>\n",
              "    <tr>\n",
              "      <th>7903</th>\n",
              "      <td>Maruti</td>\n",
              "      <td>Swift Dzire ZDi</td>\n",
              "      <td>2009</td>\n",
              "      <td>382000</td>\n",
              "      <td>120000</td>\n",
              "      <td>Diesel</td>\n",
              "      <td>Individual</td>\n",
              "      <td>Manual</td>\n",
              "      <td>First</td>\n",
              "      <td>19.3</td>\n",
              "      <td>1248</td>\n",
              "      <td>73.9</td>\n",
              "      <td>190.0</td>\n",
              "      <td>5.0</td>\n",
              "    </tr>\n",
              "    <tr>\n",
              "      <th>7904</th>\n",
              "      <td>Tata</td>\n",
              "      <td>Indigo CR4</td>\n",
              "      <td>2013</td>\n",
              "      <td>290000</td>\n",
              "      <td>25000</td>\n",
              "      <td>Diesel</td>\n",
              "      <td>Individual</td>\n",
              "      <td>Manual</td>\n",
              "      <td>First</td>\n",
              "      <td>23.57</td>\n",
              "      <td>1396</td>\n",
              "      <td>70</td>\n",
              "      <td>140.0</td>\n",
              "      <td>5.0</td>\n",
              "    </tr>\n",
              "    <tr>\n",
              "      <th>7905</th>\n",
              "      <td>Tata</td>\n",
              "      <td>Indigo CR4</td>\n",
              "      <td>2013</td>\n",
              "      <td>290000</td>\n",
              "      <td>25000</td>\n",
              "      <td>Diesel</td>\n",
              "      <td>Individual</td>\n",
              "      <td>Manual</td>\n",
              "      <td>First</td>\n",
              "      <td>23.57</td>\n",
              "      <td>1396</td>\n",
              "      <td>70</td>\n",
              "      <td>140.0</td>\n",
              "      <td>5.0</td>\n",
              "    </tr>\n",
              "  </tbody>\n",
              "</table>\n",
              "<p>7906 rows × 14 columns</p>\n",
              "</div>\n",
              "      <button class=\"colab-df-convert\" onclick=\"convertToInteractive('df-aa57175f-27fc-4c19-8775-634be62a7d59')\"\n",
              "              title=\"Convert this dataframe to an interactive table.\"\n",
              "              style=\"display:none;\">\n",
              "        \n",
              "  <svg xmlns=\"http://www.w3.org/2000/svg\" height=\"24px\"viewBox=\"0 0 24 24\"\n",
              "       width=\"24px\">\n",
              "    <path d=\"M0 0h24v24H0V0z\" fill=\"none\"/>\n",
              "    <path d=\"M18.56 5.44l.94 2.06.94-2.06 2.06-.94-2.06-.94-.94-2.06-.94 2.06-2.06.94zm-11 1L8.5 8.5l.94-2.06 2.06-.94-2.06-.94L8.5 2.5l-.94 2.06-2.06.94zm10 10l.94 2.06.94-2.06 2.06-.94-2.06-.94-.94-2.06-.94 2.06-2.06.94z\"/><path d=\"M17.41 7.96l-1.37-1.37c-.4-.4-.92-.59-1.43-.59-.52 0-1.04.2-1.43.59L10.3 9.45l-7.72 7.72c-.78.78-.78 2.05 0 2.83L4 21.41c.39.39.9.59 1.41.59.51 0 1.02-.2 1.41-.59l7.78-7.78 2.81-2.81c.8-.78.8-2.07 0-2.86zM5.41 20L4 18.59l7.72-7.72 1.47 1.35L5.41 20z\"/>\n",
              "  </svg>\n",
              "      </button>\n",
              "      \n",
              "  <style>\n",
              "    .colab-df-container {\n",
              "      display:flex;\n",
              "      flex-wrap:wrap;\n",
              "      gap: 12px;\n",
              "    }\n",
              "\n",
              "    .colab-df-convert {\n",
              "      background-color: #E8F0FE;\n",
              "      border: none;\n",
              "      border-radius: 50%;\n",
              "      cursor: pointer;\n",
              "      display: none;\n",
              "      fill: #1967D2;\n",
              "      height: 32px;\n",
              "      padding: 0 0 0 0;\n",
              "      width: 32px;\n",
              "    }\n",
              "\n",
              "    .colab-df-convert:hover {\n",
              "      background-color: #E2EBFA;\n",
              "      box-shadow: 0px 1px 2px rgba(60, 64, 67, 0.3), 0px 1px 3px 1px rgba(60, 64, 67, 0.15);\n",
              "      fill: #174EA6;\n",
              "    }\n",
              "\n",
              "    [theme=dark] .colab-df-convert {\n",
              "      background-color: #3B4455;\n",
              "      fill: #D2E3FC;\n",
              "    }\n",
              "\n",
              "    [theme=dark] .colab-df-convert:hover {\n",
              "      background-color: #434B5C;\n",
              "      box-shadow: 0px 1px 3px 1px rgba(0, 0, 0, 0.15);\n",
              "      filter: drop-shadow(0px 1px 2px rgba(0, 0, 0, 0.3));\n",
              "      fill: #FFFFFF;\n",
              "    }\n",
              "  </style>\n",
              "\n",
              "      <script>\n",
              "        const buttonEl =\n",
              "          document.querySelector('#df-aa57175f-27fc-4c19-8775-634be62a7d59 button.colab-df-convert');\n",
              "        buttonEl.style.display =\n",
              "          google.colab.kernel.accessAllowed ? 'block' : 'none';\n",
              "\n",
              "        async function convertToInteractive(key) {\n",
              "          const element = document.querySelector('#df-aa57175f-27fc-4c19-8775-634be62a7d59');\n",
              "          const dataTable =\n",
              "            await google.colab.kernel.invokeFunction('convertToInteractive',\n",
              "                                                     [key], {});\n",
              "          if (!dataTable) return;\n",
              "\n",
              "          const docLinkHtml = 'Like what you see? Visit the ' +\n",
              "            '<a target=\"_blank\" href=https://colab.research.google.com/notebooks/data_table.ipynb>data table notebook</a>'\n",
              "            + ' to learn more about interactive tables.';\n",
              "          element.innerHTML = '';\n",
              "          dataTable['output_type'] = 'display_data';\n",
              "          await google.colab.output.renderOutput(dataTable, element);\n",
              "          const docLink = document.createElement('div');\n",
              "          docLink.innerHTML = docLinkHtml;\n",
              "          element.appendChild(docLink);\n",
              "        }\n",
              "      </script>\n",
              "    </div>\n",
              "  </div>\n",
              "  "
            ]
          },
          "metadata": {},
          "execution_count": 20
        }
      ],
      "source": [
        "df"
      ],
      "id": "aea35266"
    },
    {
      "cell_type": "code",
      "execution_count": null,
      "metadata": {
        "id": "aec3443d"
      },
      "outputs": [],
      "source": [
        "for i in range(0,len(df.name)):\n",
        "    try:\n",
        "        if float(df.mileage[i]) < 1:\n",
        "            df = df.drop(i)\n",
        "    except Exception as e:\n",
        "            print(i,df.mileage[i],e)\n",
        "df.reset_index(drop = True, inplace = True)"
      ],
      "id": "aec3443d"
    },
    {
      "cell_type": "markdown",
      "metadata": {
        "id": "b3863b51"
      },
      "source": [
        "\n",
        "\n",
        "Data Visualisation"
      ],
      "id": "b3863b51"
    },
    {
      "cell_type": "code",
      "execution_count": null,
      "metadata": {
        "colab": {
          "base_uri": "https://localhost:8080/"
        },
        "id": "1da82165",
        "outputId": "02bd40d6-91ff-4aa7-aa1d-667fab8c36b6"
      },
      "outputs": [
        {
          "output_type": "execute_result",
          "data": {
            "text/plain": [
              "2017    1009\n",
              "2016     856\n",
              "2018     806\n",
              "2015     775\n",
              "2013     666\n",
              "2012     621\n",
              "2014     618\n",
              "2019     582\n",
              "2011     567\n",
              "2010     372\n",
              "2009     229\n",
              "2008     199\n",
              "2007     173\n",
              "2006     102\n",
              "2005      76\n",
              "2020      73\n",
              "2004      51\n",
              "2003      37\n",
              "2002      19\n",
              "2000      15\n",
              "1999      14\n",
              "1998       9\n",
              "1997       9\n",
              "2001       6\n",
              "1994       2\n",
              "1996       2\n",
              "1995       1\n",
              "Name: year, dtype: int64"
            ]
          },
          "metadata": {},
          "execution_count": 22
        }
      ],
      "source": [
        "df.year.value_counts()"
      ],
      "id": "1da82165"
    },
    {
      "cell_type": "code",
      "execution_count": null,
      "metadata": {
        "colab": {
          "base_uri": "https://localhost:8080/"
        },
        "id": "abd93a0b",
        "outputId": "df75831a-d543-454f-c3e3-71f547d97d69"
      },
      "outputs": [
        {
          "output_type": "display_data",
          "data": {
            "text/plain": [
              "<Figure size 432x288 with 1 Axes>"
            ],
            "image/png": "[encoded data removed]"
          },
          "metadata": {
            "needs_background": "light"
          }
        }
      ],
      "source": [
        "year_type = df.year.value_counts().index\n",
        "year_count = df.year.value_counts().values\n",
        "\n",
        "plt.bar(year_type, year_count, width = 0.6)\n",
        "\n",
        "plt.xlabel('Year')\n",
        "plt.ylabel('Count')\n",
        "plt.title('Date of manufacture')\n",
        "\n",
        "width = 0.35\n",
        "plt.show()"
      ],
      "id": "abd93a0b"
    },
    {
      "cell_type": "code",
      "execution_count": null,
      "metadata": {
        "colab": {
          "base_uri": "https://localhost:8080/"
        },
        "id": "343444ca",
        "outputId": "bd5e22cb-4813-4adf-ca7c-b47520fc3008"
      },
      "outputs": [
        {
          "output_type": "execute_result",
          "data": {
            "text/plain": [
              "Diesel    4293\n",
              "Petrol    3509\n",
              "CNG         52\n",
              "LPG         35\n",
              "Name: fuel, dtype: int64"
            ]
          },
          "metadata": {},
          "execution_count": 24
        }
      ],
      "source": [
        "df.fuel.value_counts()"
      ],
      "id": "343444ca"
    },
    {
      "cell_type": "code",
      "execution_count": null,
      "metadata": {
        "colab": {
          "base_uri": "https://localhost:8080/"
        },
        "id": "d61b1a9d",
        "scrolled": true,
        "outputId": "b54c49b7-2c9d-4bfd-e960-0d30828ab51a"
      },
      "outputs": [
        {
          "output_type": "display_data",
          "data": {
            "text/plain": [
              "<Figure size 432x288 with 1 Axes>"
            ],
            "image/png": "[encoded data removed]"
          },
          "metadata": {}
        }
      ],
      "source": [
        "fuel_type = df.fuel.value_counts().index\n",
        "fuel_count = df.fuel.value_counts().values\n",
        "\n",
        "plt.pie(fuel_count[:2], labels = fuel_type[:2], autopct =\"%1d%%\")\n",
        "plt.legend(title = \"Fuel Type\", labels = fuel_type, bbox_to_anchor=(0.9,0.5), loc=\"center right\", \n",
        "           bbox_transform=plt.gcf().transFigure)\n",
        "plt.show()"
      ],
      "id": "d61b1a9d"
    },
    {
      "cell_type": "code",
      "execution_count": null,
      "metadata": {
        "colab": {
          "base_uri": "https://localhost:8080/"
        },
        "id": "eb1ec200",
        "outputId": "166b2a14-419b-487b-a6e7-d9d526c2a1e9"
      },
      "outputs": [
        {
          "output_type": "execute_result",
          "data": {
            "text/plain": [
              "First     5205\n",
              "Second    2012\n",
              "Third      508\n",
              "Fourth     159\n",
              "Test         5\n",
              "Name: owner, dtype: int64"
            ]
          },
          "metadata": {},
          "execution_count": 26
        }
      ],
      "source": [
        "df.owner.value_counts()"
      ],
      "id": "eb1ec200"
    },
    {
      "cell_type": "code",
      "execution_count": null,
      "metadata": {
        "colab": {
          "base_uri": "https://localhost:8080/"
        },
        "id": "581fda7c",
        "outputId": "68b7db9c-36ed-457d-c21a-751f60e03ec7"
      },
      "outputs": [
        {
          "output_type": "display_data",
          "data": {
            "text/plain": [
              "<Figure size 432x288 with 1 Axes>"
            ],
            "image/png": "[encoded data removed]"
          },
          "metadata": {}
        }
      ],
      "source": [
        "owner_type = df.owner.value_counts().index\n",
        "owner_count = df.owner.value_counts().values\n",
        "\n",
        "plt.pie(owner_count[:4], labels = owner_type[:4], autopct =\"%1d%%\")\n",
        "plt.legend(title = \"Ownership Type\", labels = owner_type, bbox_to_anchor=(1.1,0.5), loc=\"center right\", \n",
        "           bbox_transform=plt.gcf().transFigure)\n",
        "plt.title(\"Number of previous owners\")\n",
        "plt.show()"
      ],
      "id": "581fda7c"
    },
    {
      "cell_type": "code",
      "execution_count": null,
      "metadata": {
        "colab": {
          "base_uri": "https://localhost:8080/"
        },
        "id": "423b94d0",
        "outputId": "46f70e10-80dc-42e4-8a53-796905a6c9e8"
      },
      "outputs": [
        {
          "output_type": "execute_result",
          "data": {
            "text/plain": [
              "Manual       6854\n",
              "Automatic    1035\n",
              "Name: transmission, dtype: int64"
            ]
          },
          "metadata": {},
          "execution_count": 28
        }
      ],
      "source": [
        "df.transmission.value_counts()"
      ],
      "id": "423b94d0"
    },
    {
      "cell_type": "code",
      "execution_count": null,
      "metadata": {
        "colab": {
          "base_uri": "https://localhost:8080/"
        },
        "id": "2081dcab",
        "outputId": "e28d8001-44be-41ed-ca14-b62ed95e7791"
      },
      "outputs": [
        {
          "output_type": "display_data",
          "data": {
            "text/plain": [
              "<Figure size 432x288 with 1 Axes>"
            ],
            "image/png": "[encoded data removed]"
          },
          "metadata": {}
        }
      ],
      "source": [
        "trans_type = df.transmission.value_counts().index\n",
        "trans_count = df.transmission.value_counts().values\n",
        "\n",
        "plt.pie(trans_count, labels = trans_type, autopct =\"%1d%%\")\n",
        "plt.legend(title = \"Transmission Type\", labels = trans_type, bbox_to_anchor=(1,0.5), loc=\"center right\", \n",
        "           bbox_transform=plt.gcf().transFigure)\n",
        "plt.show()"
      ],
      "id": "2081dcab"
    },
    {
      "cell_type": "code",
      "execution_count": null,
      "metadata": {
        "colab": {
          "base_uri": "https://localhost:8080/"
        },
        "id": "addd6665",
        "outputId": "d9b708b9-643c-4de4-f283-0dbca91273e0"
      },
      "outputs": [
        {
          "output_type": "execute_result",
          "data": {
            "text/plain": [
              "Maruti           2367\n",
              "Hyundai          1352\n",
              "Mahindra          756\n",
              "Tata              718\n",
              "Honda             466\n",
              "Toyota            452\n",
              "Ford              388\n",
              "Chevrolet         230\n",
              "Renault           228\n",
              "Volkswagen        183\n",
              "BMW               118\n",
              "Skoda             104\n",
              "Nissan             81\n",
              "Jaguar             71\n",
              "Volvo              67\n",
              "Datsun             65\n",
              "Mercedes-Benz      51\n",
              "Fiat               41\n",
              "Audi               40\n",
              "Lexus              34\n",
              "Jeep               31\n",
              "Mitsubishi         14\n",
              "Force               6\n",
              "Isuzu               5\n",
              "Land                5\n",
              "Kia                 4\n",
              "Ambassador          4\n",
              "Daewoo              3\n",
              "MG                  3\n",
              "Ashok               1\n",
              "Opel                1\n",
              "Name: company, dtype: int64"
            ]
          },
          "metadata": {},
          "execution_count": 30
        }
      ],
      "source": [
        "df.company.value_counts()"
      ],
      "id": "addd6665"
    },
    {
      "cell_type": "code",
      "execution_count": null,
      "metadata": {
        "colab": {
          "base_uri": "https://localhost:8080/"
        },
        "id": "8e483f9d",
        "scrolled": true,
        "outputId": "042480cf-b2de-42e2-f7c6-ac5666c4cf6a"
      },
      "outputs": [
        {
          "output_type": "display_data",
          "data": {
            "text/plain": [
              "<Figure size 432x288 with 1 Axes>"
            ],
            "image/png": "[encoded data removed]"
          },
          "metadata": {}
        }
      ],
      "source": [
        "company_type = df.company.value_counts().index\n",
        "company_count = df.company.value_counts().values\n",
        "\n",
        "plt.pie(company_count[:10], labels = company_type[:10], autopct =\"%1d%%\")\n",
        "plt.legend(labels = company_type, bbox_to_anchor=(1.15,0.5), loc=\"center right\", \n",
        "           bbox_transform=plt.gcf().transFigure)\n",
        "plt.title(\"Company marketshare in resale vehicles\")\n",
        "plt.show()"
      ],
      "id": "8e483f9d"
    },
    {
      "cell_type": "code",
      "execution_count": null,
      "metadata": {
        "colab": {
          "base_uri": "https://localhost:8080/"
        },
        "id": "aa076da2",
        "outputId": "e2023cdd-2526-40bc-91ae-76cf390bb744"
      },
      "outputs": [
        {
          "output_type": "execute_result",
          "data": {
            "text/plain": [
              "Individual          6550\n",
              "Dealer              1103\n",
              "Trustmark Dealer     236\n",
              "Name: seller_type, dtype: int64"
            ]
          },
          "metadata": {},
          "execution_count": 32
        }
      ],
      "source": [
        "df.seller_type.value_counts()"
      ],
      "id": "aa076da2"
    },
    {
      "cell_type": "code",
      "execution_count": null,
      "metadata": {
        "colab": {
          "base_uri": "https://localhost:8080/"
        },
        "id": "8f2dbdd1",
        "outputId": "7211146a-b278-4988-a354-6cc0794f7728"
      },
      "outputs": [
        {
          "output_type": "display_data",
          "data": {
            "text/plain": [
              "<Figure size 432x288 with 1 Axes>"
            ],
            "image/png": "[encoded data removed]"
          },
          "metadata": {}
        }
      ],
      "source": [
        "seller_type = df.seller_type.value_counts().index\n",
        "seller_count = df.seller_type.value_counts().values\n",
        "\n",
        "plt.pie(seller_count, labels = seller_type, autopct =\"%1d%%\")\n",
        "plt.legend(labels = seller_type, bbox_to_anchor=(1.05,0.7), loc=\"center right\", \n",
        "           bbox_transform=plt.gcf().transFigure)\n",
        "plt.title(\"Type of Seller\")\n",
        "plt.show()"
      ],
      "id": "8f2dbdd1"
    },
    {
      "cell_type": "code",
      "execution_count": null,
      "metadata": {
        "colab": {
          "base_uri": "https://localhost:8080/"
        },
        "id": "3c9873f4",
        "scrolled": false,
        "outputId": "0781218c-e7da-496a-e332-b05225e438f0"
      },
      "outputs": [
        {
          "output_type": "display_data",
          "data": {
            "text/plain": [
              "<Figure size 720x360 with 1 Axes>"
            ],
            "image/png": "[encoded data removed]"
          },
          "metadata": {
            "needs_background": "light"
          }
        }
      ],
      "source": [
        "fuel_type = []\n",
        "mean_sp = []\n",
        "\n",
        "fuel_type.append(\"Diesel\")\n",
        "mean_sp.append(df.loc[(df[\"fuel\"] == \"Diesel\")][\"selling_price\"].mean())\n",
        "\n",
        "\n",
        "fuel_type.append(\"Petrol\")\n",
        "mean_sp.append(df.loc[(df[\"fuel\"] == \"Petrol\")][\"selling_price\"].mean())\n",
        "\n",
        "\n",
        "fuel_type.append(\"CNG\")\n",
        "mean_sp.append(df.loc[(df[\"fuel\"] == \"CNG\")][\"selling_price\"].mean())\n",
        "\n",
        "\n",
        "fuel_type.append(\"LPG\")\n",
        "mean_sp.append(df.loc[(df[\"fuel\"] == \"LPG\")][\"selling_price\"].mean())\n",
        "\n",
        "mean_sp = [item/100000 for item in mean_sp]\n",
        "\n",
        "fig = plt.figure(figsize = (10, 5))\n",
        " \n",
        "plt.bar(fuel_type, mean_sp, color ='purple',\n",
        "        width = 0.4)\n",
        " \n",
        "plt.xlabel(\"Fuel Type\")\n",
        "plt.ylabel(\"Mean Selling Price (in Lakhs)\")\n",
        "plt.title(\"Mean selling price of vehicle VS Fuel Type\")\n",
        "plt.show()\n"
      ],
      "id": "3c9873f4"
    },
    {
      "cell_type": "code",
      "execution_count": null,
      "metadata": {
        "colab": {
          "base_uri": "https://localhost:8080/"
        },
        "id": "11df8f5b",
        "outputId": "6810013b-e841-4e12-ca0c-e2d06d302c21"
      },
      "outputs": [
        {
          "output_type": "display_data",
          "data": {
            "text/plain": [
              "<Figure size 720x360 with 1 Axes>"
            ],
            "image/png": "[encoded data removed]"
          },
          "metadata": {
            "needs_background": "light"
          }
        }
      ],
      "source": [
        "owner_type = []\n",
        "mean_sp = []\n",
        "\n",
        "owner_type.append(\"First\")\n",
        "mean_sp.append(df.loc[(df[\"owner\"] == \"First\")][\"selling_price\"].mean())\n",
        "\n",
        "owner_type.append(\"Second\")\n",
        "mean_sp.append(df.loc[(df[\"owner\"] == \"Second\")][\"selling_price\"].mean())\n",
        "\n",
        "owner_type.append(\"Third\")\n",
        "mean_sp.append(df.loc[(df[\"owner\"] == \"Third\")][\"selling_price\"].mean())\n",
        "\n",
        "owner_type.append(\"Fourth and above\")\n",
        "mean_sp.append(df.loc[(df[\"owner\"] == \"Fourth\")][\"selling_price\"].mean())\n",
        "\n",
        "mean_sp = [item/100000 for item in mean_sp]\n",
        "\n",
        "fig = plt.figure(figsize = (10, 5))\n",
        " \n",
        "plt.bar(owner_type, mean_sp, color ='orange',\n",
        "        width = 0.4)\n",
        " \n",
        "plt.xlabel(\"Owner Type\")\n",
        "plt.ylabel(\"Mean Selling Price (in Lakhs)\")\n",
        "plt.title(\"Mean selling price of vehicle VS Owner Type\")\n",
        "plt.show()\n"
      ],
      "id": "11df8f5b"
    },
    {
      "cell_type": "code",
      "execution_count": null,
      "metadata": {
        "id": "7eca1b09"
      },
      "outputs": [],
      "source": [
        "for i in range(0,len(df.name)):\n",
        "    if df.transmission[i] == \"Manual\":\n",
        "        df.at[i, 'transmission'] = int(0)\n",
        "    elif df.transmission[i] == \"Automatic\":\n",
        "        df.at[i, 'transmission'] = int(1)"
      ],
      "id": "7eca1b09"
    },
    {
      "cell_type": "code",
      "execution_count": null,
      "metadata": {
        "colab": {
          "base_uri": "https://localhost:8080/"
        },
        "id": "2abb5f5b",
        "outputId": "1f722508-f252-4b04-b4ef-2a8723d588a3",
        "scrolled": false
      },
      "outputs": [
        {
          "output_type": "execute_result",
          "data": {
            "text/plain": [
              "      company                    name  year  selling_price  km_driven    fuel  \\\n",
              "0      Maruti         Swift Dzire VDI  2014         450000     145500  Diesel   \n",
              "1       Skoda  Rapid 1.5 TDI Ambition  2014         370000     120000  Diesel   \n",
              "2       Honda      City 2017-2020 EXi  2006         158000     140000  Petrol   \n",
              "3     Hyundai       i20 Sportz Diesel  2010         225000     127000  Diesel   \n",
              "4      Maruti         Swift VXI BSIII  2007         130000     120000  Petrol   \n",
              "...       ...                     ...   ...            ...        ...     ...   \n",
              "7884  Hyundai               i20 Magna  2013         320000     110000  Petrol   \n",
              "7885  Hyundai           Verna CRDi SX  2007         135000     119000  Diesel   \n",
              "7886   Maruti         Swift Dzire ZDi  2009         382000     120000  Diesel   \n",
              "7887     Tata              Indigo CR4  2013         290000      25000  Diesel   \n",
              "7888     Tata              Indigo CR4  2013         290000      25000  Diesel   \n",
              "\n",
              "     seller_type transmission   owner mileage engine max_power     torque  \\\n",
              "0     Individual            0   First    23.4   1248        74      190.0   \n",
              "1     Individual            0  Second   21.14   1498    103.52      250.0   \n",
              "2     Individual            0   Third    17.7   1497        78  124.57176   \n",
              "3     Individual            0   First    23.0   1396        90  219.71712   \n",
              "4     Individual            0   First    16.1   1298      88.2   112.8012   \n",
              "...          ...          ...     ...     ...    ...       ...        ...   \n",
              "7884  Individual            0   First    18.5   1197     82.85      113.7   \n",
              "7885  Individual            0  Fourth    16.8   1493       110   235.4112   \n",
              "7886  Individual            0   First    19.3   1248      73.9      190.0   \n",
              "7887  Individual            0   First   23.57   1396        70      140.0   \n",
              "7888  Individual            0   First   23.57   1396        70      140.0   \n",
              "\n",
              "      seats  \n",
              "0       5.0  \n",
              "1       5.0  \n",
              "2       5.0  \n",
              "3       5.0  \n",
              "4       5.0  \n",
              "...     ...  \n",
              "7884    5.0  \n",
              "7885    5.0  \n",
              "7886    5.0  \n",
              "7887    5.0  \n",
              "7888    5.0  \n",
              "\n",
              "[7889 rows x 14 columns]"
            ],
            "text/html": [
              "\n",
              "  <div id=\"df-5b3096d2-0afe-40da-8dfb-66e6c428fd31\">\n",
              "    <div class=\"colab-df-container\">\n",
              "      <div>\n",
              "<style scoped>\n",
              "    .dataframe tbody tr th:only-of-type {\n",
              "        vertical-align: middle;\n",
              "    }\n",
              "\n",
              "    .dataframe tbody tr th {\n",
              "        vertical-align: top;\n",
              "    }\n",
              "\n",
              "    .dataframe thead th {\n",
              "        text-align: right;\n",
              "    }\n",
              "</style>\n",
              "<table border=\"1\" class=\"dataframe\">\n",
              "  <thead>\n",
              "    <tr style=\"text-align: right;\">\n",
              "      <th></th>\n",
              "      <th>company</th>\n",
              "      <th>name</th>\n",
              "      <th>year</th>\n",
              "      <th>selling_price</th>\n",
              "      <th>km_driven</th>\n",
              "      <th>fuel</th>\n",
              "      <th>seller_type</th>\n",
              "      <th>transmission</th>\n",
              "      <th>owner</th>\n",
              "      <th>mileage</th>\n",
              "      <th>engine</th>\n",
              "      <th>max_power</th>\n",
              "      <th>torque</th>\n",
              "      <th>seats</th>\n",
              "    </tr>\n",
              "  </thead>\n",
              "  <tbody>\n",
              "    <tr>\n",
              "      <th>0</th>\n",
              "      <td>Maruti</td>\n",
              "      <td>Swift Dzire VDI</td>\n",
              "      <td>2014</td>\n",
              "      <td>450000</td>\n",
              "      <td>145500</td>\n",
              "      <td>Diesel</td>\n",
              "      <td>Individual</td>\n",
              "      <td>0</td>\n",
              "      <td>First</td>\n",
              "      <td>23.4</td>\n",
              "      <td>1248</td>\n",
              "      <td>74</td>\n",
              "      <td>190.0</td>\n",
              "      <td>5.0</td>\n",
              "    </tr>\n",
              "    <tr>\n",
              "      <th>1</th>\n",
              "      <td>Skoda</td>\n",
              "      <td>Rapid 1.5 TDI Ambition</td>\n",
              "      <td>2014</td>\n",
              "      <td>370000</td>\n",
              "      <td>120000</td>\n",
              "      <td>Diesel</td>\n",
              "      <td>Individual</td>\n",
              "      <td>0</td>\n",
              "      <td>Second</td>\n",
              "      <td>21.14</td>\n",
              "      <td>1498</td>\n",
              "      <td>103.52</td>\n",
              "      <td>250.0</td>\n",
              "      <td>5.0</td>\n",
              "    </tr>\n",
              "    <tr>\n",
              "      <th>2</th>\n",
              "      <td>Honda</td>\n",
              "      <td>City 2017-2020 EXi</td>\n",
              "      <td>2006</td>\n",
              "      <td>158000</td>\n",
              "      <td>140000</td>\n",
              "      <td>Petrol</td>\n",
              "      <td>Individual</td>\n",
              "      <td>0</td>\n",
              "      <td>Third</td>\n",
              "      <td>17.7</td>\n",
              "      <td>1497</td>\n",
              "      <td>78</td>\n",
              "      <td>124.57176</td>\n",
              "      <td>5.0</td>\n",
              "    </tr>\n",
              "    <tr>\n",
              "      <th>3</th>\n",
              "      <td>Hyundai</td>\n",
              "      <td>i20 Sportz Diesel</td>\n",
              "      <td>2010</td>\n",
              "      <td>225000</td>\n",
              "      <td>127000</td>\n",
              "      <td>Diesel</td>\n",
              "      <td>Individual</td>\n",
              "      <td>0</td>\n",
              "      <td>First</td>\n",
              "      <td>23.0</td>\n",
              "      <td>1396</td>\n",
              "      <td>90</td>\n",
              "      <td>219.71712</td>\n",
              "      <td>5.0</td>\n",
              "    </tr>\n",
              "    <tr>\n",
              "      <th>4</th>\n",
              "      <td>Maruti</td>\n",
              "      <td>Swift VXI BSIII</td>\n",
              "      <td>2007</td>\n",
              "      <td>130000</td>\n",
              "      <td>120000</td>\n",
              "      <td>Petrol</td>\n",
              "      <td>Individual</td>\n",
              "      <td>0</td>\n",
              "      <td>First</td>\n",
              "      <td>16.1</td>\n",
              "      <td>1298</td>\n",
              "      <td>88.2</td>\n",
              "      <td>112.8012</td>\n",
              "      <td>5.0</td>\n",
              "    </tr>\n",
              "    <tr>\n",
              "      <th>...</th>\n",
              "      <td>...</td>\n",
              "      <td>...</td>\n",
              "      <td>...</td>\n",
              "      <td>...</td>\n",
              "      <td>...</td>\n",
              "      <td>...</td>\n",
              "      <td>...</td>\n",
              "      <td>...</td>\n",
              "      <td>...</td>\n",
              "      <td>...</td>\n",
              "      <td>...</td>\n",
              "      <td>...</td>\n",
              "      <td>...</td>\n",
              "      <td>...</td>\n",
              "    </tr>\n",
              "    <tr>\n",
              "      <th>7884</th>\n",
              "      <td>Hyundai</td>\n",
              "      <td>i20 Magna</td>\n",
              "      <td>2013</td>\n",
              "      <td>320000</td>\n",
              "      <td>110000</td>\n",
              "      <td>Petrol</td>\n",
              "      <td>Individual</td>\n",
              "      <td>0</td>\n",
              "      <td>First</td>\n",
              "      <td>18.5</td>\n",
              "      <td>1197</td>\n",
              "      <td>82.85</td>\n",
              "      <td>113.7</td>\n",
              "      <td>5.0</td>\n",
              "    </tr>\n",
              "    <tr>\n",
              "      <th>7885</th>\n",
              "      <td>Hyundai</td>\n",
              "      <td>Verna CRDi SX</td>\n",
              "      <td>2007</td>\n",
              "      <td>135000</td>\n",
              "      <td>119000</td>\n",
              "      <td>Diesel</td>\n",
              "      <td>Individual</td>\n",
              "      <td>0</td>\n",
              "      <td>Fourth</td>\n",
              "      <td>16.8</td>\n",
              "      <td>1493</td>\n",
              "      <td>110</td>\n",
              "      <td>235.4112</td>\n",
              "      <td>5.0</td>\n",
              "    </tr>\n",
              "    <tr>\n",
              "      <th>7886</th>\n",
              "      <td>Maruti</td>\n",
              "      <td>Swift Dzire ZDi</td>\n",
              "      <td>2009</td>\n",
              "      <td>382000</td>\n",
              "      <td>120000</td>\n",
              "      <td>Diesel</td>\n",
              "      <td>Individual</td>\n",
              "      <td>0</td>\n",
              "      <td>First</td>\n",
              "      <td>19.3</td>\n",
              "      <td>1248</td>\n",
              "      <td>73.9</td>\n",
              "      <td>190.0</td>\n",
              "      <td>5.0</td>\n",
              "    </tr>\n",
              "    <tr>\n",
              "      <th>7887</th>\n",
              "      <td>Tata</td>\n",
              "      <td>Indigo CR4</td>\n",
              "      <td>2013</td>\n",
              "      <td>290000</td>\n",
              "      <td>25000</td>\n",
              "      <td>Diesel</td>\n",
              "      <td>Individual</td>\n",
              "      <td>0</td>\n",
              "      <td>First</td>\n",
              "      <td>23.57</td>\n",
              "      <td>1396</td>\n",
              "      <td>70</td>\n",
              "      <td>140.0</td>\n",
              "      <td>5.0</td>\n",
              "    </tr>\n",
              "    <tr>\n",
              "      <th>7888</th>\n",
              "      <td>Tata</td>\n",
              "      <td>Indigo CR4</td>\n",
              "      <td>2013</td>\n",
              "      <td>290000</td>\n",
              "      <td>25000</td>\n",
              "      <td>Diesel</td>\n",
              "      <td>Individual</td>\n",
              "      <td>0</td>\n",
              "      <td>First</td>\n",
              "      <td>23.57</td>\n",
              "      <td>1396</td>\n",
              "      <td>70</td>\n",
              "      <td>140.0</td>\n",
              "      <td>5.0</td>\n",
              "    </tr>\n",
              "  </tbody>\n",
              "</table>\n",
              "<p>7889 rows × 14 columns</p>\n",
              "</div>\n",
              "      <button class=\"colab-df-convert\" onclick=\"convertToInteractive('df-5b3096d2-0afe-40da-8dfb-66e6c428fd31')\"\n",
              "              title=\"Convert this dataframe to an interactive table.\"\n",
              "              style=\"display:none;\">\n",
              "        \n",
              "  <svg xmlns=\"http://www.w3.org/2000/svg\" height=\"24px\"viewBox=\"0 0 24 24\"\n",
              "       width=\"24px\">\n",
              "    <path d=\"M0 0h24v24H0V0z\" fill=\"none\"/>\n",
              "    <path d=\"M18.56 5.44l.94 2.06.94-2.06 2.06-.94-2.06-.94-.94-2.06-.94 2.06-2.06.94zm-11 1L8.5 8.5l.94-2.06 2.06-.94-2.06-.94L8.5 2.5l-.94 2.06-2.06.94zm10 10l.94 2.06.94-2.06 2.06-.94-2.06-.94-.94-2.06-.94 2.06-2.06.94z\"/><path d=\"M17.41 7.96l-1.37-1.37c-.4-.4-.92-.59-1.43-.59-.52 0-1.04.2-1.43.59L10.3 9.45l-7.72 7.72c-.78.78-.78 2.05 0 2.83L4 21.41c.39.39.9.59 1.41.59.51 0 1.02-.2 1.41-.59l7.78-7.78 2.81-2.81c.8-.78.8-2.07 0-2.86zM5.41 20L4 18.59l7.72-7.72 1.47 1.35L5.41 20z\"/>\n",
              "  </svg>\n",
              "      </button>\n",
              "      \n",
              "  <style>\n",
              "    .colab-df-container {\n",
              "      display:flex;\n",
              "      flex-wrap:wrap;\n",
              "      gap: 12px;\n",
              "    }\n",
              "\n",
              "    .colab-df-convert {\n",
              "      background-color: #E8F0FE;\n",
              "      border: none;\n",
              "      border-radius: 50%;\n",
              "      cursor: pointer;\n",
              "      display: none;\n",
              "      fill: #1967D2;\n",
              "      height: 32px;\n",
              "      padding: 0 0 0 0;\n",
              "      width: 32px;\n",
              "    }\n",
              "\n",
              "    .colab-df-convert:hover {\n",
              "      background-color: #E2EBFA;\n",
              "      box-shadow: 0px 1px 2px rgba(60, 64, 67, 0.3), 0px 1px 3px 1px rgba(60, 64, 67, 0.15);\n",
              "      fill: #174EA6;\n",
              "    }\n",
              "\n",
              "    [theme=dark] .colab-df-convert {\n",
              "      background-color: #3B4455;\n",
              "      fill: #D2E3FC;\n",
              "    }\n",
              "\n",
              "    [theme=dark] .colab-df-convert:hover {\n",
              "      background-color: #434B5C;\n",
              "      box-shadow: 0px 1px 3px 1px rgba(0, 0, 0, 0.15);\n",
              "      filter: drop-shadow(0px 1px 2px rgba(0, 0, 0, 0.3));\n",
              "      fill: #FFFFFF;\n",
              "    }\n",
              "  </style>\n",
              "\n",
              "      <script>\n",
              "        const buttonEl =\n",
              "          document.querySelector('#df-5b3096d2-0afe-40da-8dfb-66e6c428fd31 button.colab-df-convert');\n",
              "        buttonEl.style.display =\n",
              "          google.colab.kernel.accessAllowed ? 'block' : 'none';\n",
              "\n",
              "        async function convertToInteractive(key) {\n",
              "          const element = document.querySelector('#df-5b3096d2-0afe-40da-8dfb-66e6c428fd31');\n",
              "          const dataTable =\n",
              "            await google.colab.kernel.invokeFunction('convertToInteractive',\n",
              "                                                     [key], {});\n",
              "          if (!dataTable) return;\n",
              "\n",
              "          const docLinkHtml = 'Like what you see? Visit the ' +\n",
              "            '<a target=\"_blank\" href=https://colab.research.google.com/notebooks/data_table.ipynb>data table notebook</a>'\n",
              "            + ' to learn more about interactive tables.';\n",
              "          element.innerHTML = '';\n",
              "          dataTable['output_type'] = 'display_data';\n",
              "          await google.colab.output.renderOutput(dataTable, element);\n",
              "          const docLink = document.createElement('div');\n",
              "          docLink.innerHTML = docLinkHtml;\n",
              "          element.appendChild(docLink);\n",
              "        }\n",
              "      </script>\n",
              "    </div>\n",
              "  </div>\n",
              "  "
            ]
          },
          "metadata": {},
          "execution_count": 37
        }
      ],
      "source": [
        "df"
      ],
      "id": "2abb5f5b"
    },
    {
      "cell_type": "code",
      "execution_count": null,
      "metadata": {
        "colab": {
          "base_uri": "https://localhost:8080/"
        },
        "id": "b218b4c7",
        "outputId": "88efd1e9-75d7-46bf-ce42-c6edbc0c6fa0",
        "scrolled": true
      },
      "outputs": [
        {
          "output_type": "stream",
          "name": "stdout",
          "text": [
            "<class 'pandas.core.frame.DataFrame'>\n",
            "RangeIndex: 7889 entries, 0 to 7888\n",
            "Data columns (total 14 columns):\n",
            " #   Column         Non-Null Count  Dtype  \n",
            "---  ------         --------------  -----  \n",
            " 0   company        7889 non-null   object \n",
            " 1   name           7889 non-null   object \n",
            " 2   year           7889 non-null   int64  \n",
            " 3   selling_price  7889 non-null   int64  \n",
            " 4   km_driven      7889 non-null   int64  \n",
            " 5   fuel           7889 non-null   object \n",
            " 6   seller_type    7889 non-null   object \n",
            " 7   transmission   7889 non-null   object \n",
            " 8   owner          7889 non-null   object \n",
            " 9   mileage        7889 non-null   object \n",
            " 10  engine         7889 non-null   object \n",
            " 11  max_power      7889 non-null   object \n",
            " 12  torque         7889 non-null   object \n",
            " 13  seats          7889 non-null   float64\n",
            "dtypes: float64(1), int64(3), object(10)\n",
            "memory usage: 863.0+ KB\n"
          ]
        }
      ],
      "source": [
        "df.info()"
      ],
      "id": "b218b4c7"
    },
    {
      "cell_type": "code",
      "execution_count": null,
      "metadata": {
        "id": "e39fe56f"
      },
      "outputs": [],
      "source": [
        "df['engine'] = df['engine'].apply(np.int64)\n",
        "df['seats'] = df['seats'].apply(np.int64)\n",
        "df['transmission'] = df['transmission'].apply(np.int64)\n",
        "df['mileage'] = df['mileage'].apply(np.float64)\n",
        "df['max_power'] = df['max_power'].apply(np.float64)\n",
        "df['torque'] = df['torque'].apply(np.int64)"
      ],
      "id": "e39fe56f"
    },
    {
      "cell_type": "code",
      "execution_count": null,
      "metadata": {
        "colab": {
          "base_uri": "https://localhost:8080/"
        },
        "id": "715fcb2f",
        "outputId": "6dbbe091-f589-40e3-f1f8-ea0a3e41af12"
      },
      "outputs": [
        {
          "output_type": "stream",
          "name": "stdout",
          "text": [
            "<class 'pandas.core.frame.DataFrame'>\n",
            "RangeIndex: 7889 entries, 0 to 7888\n",
            "Data columns (total 14 columns):\n",
            " #   Column         Non-Null Count  Dtype  \n",
            "---  ------         --------------  -----  \n",
            " 0   company        7889 non-null   object \n",
            " 1   name           7889 non-null   object \n",
            " 2   year           7889 non-null   int64  \n",
            " 3   selling_price  7889 non-null   int64  \n",
            " 4   km_driven      7889 non-null   int64  \n",
            " 5   fuel           7889 non-null   object \n",
            " 6   seller_type    7889 non-null   object \n",
            " 7   transmission   7889 non-null   int64  \n",
            " 8   owner          7889 non-null   object \n",
            " 9   mileage        7889 non-null   float64\n",
            " 10  engine         7889 non-null   int64  \n",
            " 11  max_power      7889 non-null   float64\n",
            " 12  torque         7889 non-null   int64  \n",
            " 13  seats          7889 non-null   int64  \n",
            "dtypes: float64(2), int64(7), object(5)\n",
            "memory usage: 863.0+ KB\n"
          ]
        }
      ],
      "source": [
        "df.info()"
      ],
      "id": "715fcb2f"
    },
    {
      "cell_type": "code",
      "execution_count": null,
      "metadata": {
        "id": "56f48ecb"
      },
      "outputs": [],
      "source": [
        "df.drop(['company', 'name','owner','fuel','seller_type'], axis = 1, inplace = True)"
      ],
      "id": "56f48ecb"
    },
    {
      "cell_type": "code",
      "execution_count": null,
      "metadata": {
        "colab": {
          "base_uri": "https://localhost:8080/"
        },
        "id": "e4e19528",
        "outputId": "70b889a1-004e-4549-9fc7-14f1a2e7ffb2"
      },
      "outputs": [
        {
          "output_type": "stream",
          "name": "stdout",
          "text": [
            "<class 'pandas.core.frame.DataFrame'>\n",
            "RangeIndex: 7889 entries, 0 to 7888\n",
            "Data columns (total 9 columns):\n",
            " #   Column         Non-Null Count  Dtype  \n",
            "---  ------         --------------  -----  \n",
            " 0   year           7889 non-null   int64  \n",
            " 1   selling_price  7889 non-null   int64  \n",
            " 2   km_driven      7889 non-null   int64  \n",
            " 3   transmission   7889 non-null   int64  \n",
            " 4   mileage        7889 non-null   float64\n",
            " 5   engine         7889 non-null   int64  \n",
            " 6   max_power      7889 non-null   float64\n",
            " 7   torque         7889 non-null   int64  \n",
            " 8   seats          7889 non-null   int64  \n",
            "dtypes: float64(2), int64(7)\n",
            "memory usage: 554.8 KB\n"
          ]
        }
      ],
      "source": [
        "df.info()"
      ],
      "id": "e4e19528"
    },
    {
      "cell_type": "code",
      "execution_count": null,
      "metadata": {
        "colab": {
          "base_uri": "https://localhost:8080/"
        },
        "id": "a6d3744e",
        "outputId": "48398402-a35b-4fa8-ebf2-2bf324f62973",
        "scrolled": true
      },
      "outputs": [
        {
          "output_type": "execute_result",
          "data": {
            "text/plain": [
              "              year  selling_price     km_driven  transmission      mileage  \\\n",
              "count  7889.000000   7.889000e+03  7.889000e+03   7889.000000  7889.000000   \n",
              "mean   2013.987831   6.496753e+05  6.919859e+04      0.131195    19.461709   \n",
              "std       3.863460   8.134766e+05  5.682769e+04      0.337635     3.938527   \n",
              "min    1994.000000   2.999900e+04  1.000000e+00      0.000000     9.000000   \n",
              "25%    2012.000000   2.700000e+05  3.500000e+04      0.000000    16.780000   \n",
              "50%    2015.000000   4.500000e+05  6.000000e+04      0.000000    19.330000   \n",
              "75%    2017.000000   6.900000e+05  9.550000e+04      0.000000    22.320000   \n",
              "max    2020.000000   1.000000e+07  2.360457e+06      1.000000    42.000000   \n",
              "\n",
              "            engine    max_power       torque        seats  \n",
              "count  7889.000000  7889.000000  7889.000000  7889.000000  \n",
              "mean   1458.378628    91.588665   177.876157     5.418050  \n",
              "std     503.299977    35.731275    92.962807     0.958526  \n",
              "min     624.000000    32.800000    47.000000     4.000000  \n",
              "25%    1197.000000    68.050000   111.000000     5.000000  \n",
              "50%    1248.000000    82.000000   170.000000     5.000000  \n",
              "75%    1582.000000   102.000000   209.000000     5.000000  \n",
              "max    3604.000000   400.000000   941.000000    14.000000  "
            ],
            "text/html": [
              "\n",
              "  <div id=\"df-8ca6e794-15f4-4406-aee5-b512dbd408bf\">\n",
              "    <div class=\"colab-df-container\">\n",
              "      <div>\n",
              "<style scoped>\n",
              "    .dataframe tbody tr th:only-of-type {\n",
              "        vertical-align: middle;\n",
              "    }\n",
              "\n",
              "    .dataframe tbody tr th {\n",
              "        vertical-align: top;\n",
              "    }\n",
              "\n",
              "    .dataframe thead th {\n",
              "        text-align: right;\n",
              "    }\n",
              "</style>\n",
              "<table border=\"1\" class=\"dataframe\">\n",
              "  <thead>\n",
              "    <tr style=\"text-align: right;\">\n",
              "      <th></th>\n",
              "      <th>year</th>\n",
              "      <th>selling_price</th>\n",
              "      <th>km_driven</th>\n",
              "      <th>transmission</th>\n",
              "      <th>mileage</th>\n",
              "      <th>engine</th>\n",
              "      <th>max_power</th>\n",
              "      <th>torque</th>\n",
              "      <th>seats</th>\n",
              "    </tr>\n",
              "  </thead>\n",
              "  <tbody>\n",
              "    <tr>\n",
              "      <th>count</th>\n",
              "      <td>7889.000000</td>\n",
              "      <td>7.889000e+03</td>\n",
              "      <td>7.889000e+03</td>\n",
              "      <td>7889.000000</td>\n",
              "      <td>7889.000000</td>\n",
              "      <td>7889.000000</td>\n",
              "      <td>7889.000000</td>\n",
              "      <td>7889.000000</td>\n",
              "      <td>7889.000000</td>\n",
              "    </tr>\n",
              "    <tr>\n",
              "      <th>mean</th>\n",
              "      <td>2013.987831</td>\n",
              "      <td>6.496753e+05</td>\n",
              "      <td>6.919859e+04</td>\n",
              "      <td>0.131195</td>\n",
              "      <td>19.461709</td>\n",
              "      <td>1458.378628</td>\n",
              "      <td>91.588665</td>\n",
              "      <td>177.876157</td>\n",
              "      <td>5.418050</td>\n",
              "    </tr>\n",
              "    <tr>\n",
              "      <th>std</th>\n",
              "      <td>3.863460</td>\n",
              "      <td>8.134766e+05</td>\n",
              "      <td>5.682769e+04</td>\n",
              "      <td>0.337635</td>\n",
              "      <td>3.938527</td>\n",
              "      <td>503.299977</td>\n",
              "      <td>35.731275</td>\n",
              "      <td>92.962807</td>\n",
              "      <td>0.958526</td>\n",
              "    </tr>\n",
              "    <tr>\n",
              "      <th>min</th>\n",
              "      <td>1994.000000</td>\n",
              "      <td>2.999900e+04</td>\n",
              "      <td>1.000000e+00</td>\n",
              "      <td>0.000000</td>\n",
              "      <td>9.000000</td>\n",
              "      <td>624.000000</td>\n",
              "      <td>32.800000</td>\n",
              "      <td>47.000000</td>\n",
              "      <td>4.000000</td>\n",
              "    </tr>\n",
              "    <tr>\n",
              "      <th>25%</th>\n",
              "      <td>2012.000000</td>\n",
              "      <td>2.700000e+05</td>\n",
              "      <td>3.500000e+04</td>\n",
              "      <td>0.000000</td>\n",
              "      <td>16.780000</td>\n",
              "      <td>1197.000000</td>\n",
              "      <td>68.050000</td>\n",
              "      <td>111.000000</td>\n",
              "      <td>5.000000</td>\n",
              "    </tr>\n",
              "    <tr>\n",
              "      <th>50%</th>\n",
              "      <td>2015.000000</td>\n",
              "      <td>4.500000e+05</td>\n",
              "      <td>6.000000e+04</td>\n",
              "      <td>0.000000</td>\n",
              "      <td>19.330000</td>\n",
              "      <td>1248.000000</td>\n",
              "      <td>82.000000</td>\n",
              "      <td>170.000000</td>\n",
              "      <td>5.000000</td>\n",
              "    </tr>\n",
              "    <tr>\n",
              "      <th>75%</th>\n",
              "      <td>2017.000000</td>\n",
              "      <td>6.900000e+05</td>\n",
              "      <td>9.550000e+04</td>\n",
              "      <td>0.000000</td>\n",
              "      <td>22.320000</td>\n",
              "      <td>1582.000000</td>\n",
              "      <td>102.000000</td>\n",
              "      <td>209.000000</td>\n",
              "      <td>5.000000</td>\n",
              "    </tr>\n",
              "    <tr>\n",
              "      <th>max</th>\n",
              "      <td>2020.000000</td>\n",
              "      <td>1.000000e+07</td>\n",
              "      <td>2.360457e+06</td>\n",
              "      <td>1.000000</td>\n",
              "      <td>42.000000</td>\n",
              "      <td>3604.000000</td>\n",
              "      <td>400.000000</td>\n",
              "      <td>941.000000</td>\n",
              "      <td>14.000000</td>\n",
              "    </tr>\n",
              "  </tbody>\n",
              "</table>\n",
              "</div>\n",
              "      <button class=\"colab-df-convert\" onclick=\"convertToInteractive('df-8ca6e794-15f4-4406-aee5-b512dbd408bf')\"\n",
              "              title=\"Convert this dataframe to an interactive table.\"\n",
              "              style=\"display:none;\">\n",
              "        \n",
              "  <svg xmlns=\"http://www.w3.org/2000/svg\" height=\"24px\"viewBox=\"0 0 24 24\"\n",
              "       width=\"24px\">\n",
              "    <path d=\"M0 0h24v24H0V0z\" fill=\"none\"/>\n",
              "    <path d=\"M18.56 5.44l.94 2.06.94-2.06 2.06-.94-2.06-.94-.94-2.06-.94 2.06-2.06.94zm-11 1L8.5 8.5l.94-2.06 2.06-.94-2.06-.94L8.5 2.5l-.94 2.06-2.06.94zm10 10l.94 2.06.94-2.06 2.06-.94-2.06-.94-.94-2.06-.94 2.06-2.06.94z\"/><path d=\"M17.41 7.96l-1.37-1.37c-.4-.4-.92-.59-1.43-.59-.52 0-1.04.2-1.43.59L10.3 9.45l-7.72 7.72c-.78.78-.78 2.05 0 2.83L4 21.41c.39.39.9.59 1.41.59.51 0 1.02-.2 1.41-.59l7.78-7.78 2.81-2.81c.8-.78.8-2.07 0-2.86zM5.41 20L4 18.59l7.72-7.72 1.47 1.35L5.41 20z\"/>\n",
              "  </svg>\n",
              "      </button>\n",
              "      \n",
              "  <style>\n",
              "    .colab-df-container {\n",
              "      display:flex;\n",
              "      flex-wrap:wrap;\n",
              "      gap: 12px;\n",
              "    }\n",
              "\n",
              "    .colab-df-convert {\n",
              "      background-color: #E8F0FE;\n",
              "      border: none;\n",
              "      border-radius: 50%;\n",
              "      cursor: pointer;\n",
              "      display: none;\n",
              "      fill: #1967D2;\n",
              "      height: 32px;\n",
              "      padding: 0 0 0 0;\n",
              "      width: 32px;\n",
              "    }\n",
              "\n",
              "    .colab-df-convert:hover {\n",
              "      background-color: #E2EBFA;\n",
              "      box-shadow: 0px 1px 2px rgba(60, 64, 67, 0.3), 0px 1px 3px 1px rgba(60, 64, 67, 0.15);\n",
              "      fill: #174EA6;\n",
              "    }\n",
              "\n",
              "    [theme=dark] .colab-df-convert {\n",
              "      background-color: #3B4455;\n",
              "      fill: #D2E3FC;\n",
              "    }\n",
              "\n",
              "    [theme=dark] .colab-df-convert:hover {\n",
              "      background-color: #434B5C;\n",
              "      box-shadow: 0px 1px 3px 1px rgba(0, 0, 0, 0.15);\n",
              "      filter: drop-shadow(0px 1px 2px rgba(0, 0, 0, 0.3));\n",
              "      fill: #FFFFFF;\n",
              "    }\n",
              "  </style>\n",
              "\n",
              "      <script>\n",
              "        const buttonEl =\n",
              "          document.querySelector('#df-8ca6e794-15f4-4406-aee5-b512dbd408bf button.colab-df-convert');\n",
              "        buttonEl.style.display =\n",
              "          google.colab.kernel.accessAllowed ? 'block' : 'none';\n",
              "\n",
              "        async function convertToInteractive(key) {\n",
              "          const element = document.querySelector('#df-8ca6e794-15f4-4406-aee5-b512dbd408bf');\n",
              "          const dataTable =\n",
              "            await google.colab.kernel.invokeFunction('convertToInteractive',\n",
              "                                                     [key], {});\n",
              "          if (!dataTable) return;\n",
              "\n",
              "          const docLinkHtml = 'Like what you see? Visit the ' +\n",
              "            '<a target=\"_blank\" href=https://colab.research.google.com/notebooks/data_table.ipynb>data table notebook</a>'\n",
              "            + ' to learn more about interactive tables.';\n",
              "          element.innerHTML = '';\n",
              "          dataTable['output_type'] = 'display_data';\n",
              "          await google.colab.output.renderOutput(dataTable, element);\n",
              "          const docLink = document.createElement('div');\n",
              "          docLink.innerHTML = docLinkHtml;\n",
              "          element.appendChild(docLink);\n",
              "        }\n",
              "      </script>\n",
              "    </div>\n",
              "  </div>\n",
              "  "
            ]
          },
          "metadata": {},
          "execution_count": 43
        }
      ],
      "source": [
        "df.describe()"
      ],
      "id": "a6d3744e"
    },
    {
      "cell_type": "markdown",
      "metadata": {
        "id": "8ae12887"
      },
      "source": [
        "Univariate Analysis"
      ],
      "id": "8ae12887"
    },
    {
      "cell_type": "code",
      "execution_count": null,
      "metadata": {
        "colab": {
          "base_uri": "https://localhost:8080/"
        },
        "id": "3fc05e9d",
        "outputId": "dc76f767-1c23-4741-98a6-8ebad8be768c"
      },
      "outputs": [
        {
          "output_type": "execute_result",
          "data": {
            "text/plain": [
              "<seaborn.axisgrid.FacetGrid at 0x7fc39b6bd550>"
            ]
          },
          "metadata": {},
          "execution_count": 44
        },
        {
          "output_type": "display_data",
          "data": {
            "text/plain": [
              "<Figure size 360x360 with 1 Axes>"
            ],
            "image/png": "[encoded data removed]"
          },
          "metadata": {
            "needs_background": "light"
          }
        }
      ],
      "source": [
        "sns.displot(df['selling_price'])"
      ],
      "id": "3fc05e9d"
    },
    {
      "cell_type": "code",
      "execution_count": null,
      "metadata": {
        "colab": {
          "base_uri": "https://localhost:8080/"
        },
        "id": "3e0c89f7",
        "outputId": "3920860b-513f-48db-b74f-570882a74600",
        "scrolled": true
      },
      "outputs": [
        {
          "output_type": "execute_result",
          "data": {
            "text/plain": [
              "4.163087562276131"
            ]
          },
          "metadata": {},
          "execution_count": 45
        }
      ],
      "source": [
        "df['selling_price'].skew()"
      ],
      "id": "3e0c89f7"
    },
    {
      "cell_type": "code",
      "execution_count": null,
      "metadata": {
        "id": "56964ef8"
      },
      "outputs": [],
      "source": [
        "df.drop(df[df['selling_price'] > 1500000].index, inplace = True)"
      ],
      "id": "56964ef8"
    },
    {
      "cell_type": "code",
      "execution_count": null,
      "metadata": {
        "colab": {
          "base_uri": "https://localhost:8080/"
        },
        "id": "Doe452mw4Qzi",
        "outputId": "92a98f67-a58d-40c4-fd68-ba65f483633d"
      },
      "outputs": [
        {
          "output_type": "execute_result",
          "data": {
            "text/plain": [
              "<seaborn.axisgrid.FacetGrid at 0x7fc398a958d0>"
            ]
          },
          "metadata": {},
          "execution_count": 47
        },
        {
          "output_type": "display_data",
          "data": {
            "text/plain": [
              "<Figure size 360x360 with 1 Axes>"
            ],
            "image/png": "[encoded data removed]"
          },
          "metadata": {
            "needs_background": "light"
          }
        }
      ],
      "source": [
        "sns.displot(df['selling_price'])"
      ],
      "id": "Doe452mw4Qzi"
    },
    {
      "cell_type": "code",
      "execution_count": null,
      "metadata": {
        "colab": {
          "base_uri": "https://localhost:8080/"
        },
        "id": "y3FutKqX4ebG",
        "outputId": "58f726b5-a28c-4af7-a7ac-d65eabe19f84"
      },
      "outputs": [
        {
          "output_type": "execute_result",
          "data": {
            "text/plain": [
              "0.879398173948863"
            ]
          },
          "metadata": {},
          "execution_count": 48
        }
      ],
      "source": [
        "df['selling_price'].skew()"
      ],
      "id": "y3FutKqX4ebG"
    },
    {
      "cell_type": "markdown",
      "metadata": {
        "id": "091dd0e5"
      },
      "source": [
        "Bivariate Analysis\n"
      ],
      "id": "091dd0e5"
    },
    {
      "cell_type": "code",
      "execution_count": null,
      "metadata": {
        "colab": {
          "base_uri": "https://localhost:8080/"
        },
        "id": "c044c9b0",
        "outputId": "3246be13-c6d2-44bf-c3c6-5f1ca2565d6d"
      },
      "outputs": [
        {
          "output_type": "display_data",
          "data": {
            "text/plain": [
              "<Figure size 288x288 with 2 Axes>"
            ],
            "image/png": "[encoded data removed]"
          },
          "metadata": {
            "needs_background": "light"
          }
        }
      ],
      "source": [
        "plt.matshow(df.corr())\n",
        "plt.colorbar()\n",
        "plt.show()"
      ],
      "id": "c044c9b0"
    },
    {
      "cell_type": "code",
      "execution_count": null,
      "metadata": {
        "colab": {
          "base_uri": "https://localhost:8080/"
        },
        "id": "0bafcafc",
        "outputId": "a9978acd-fab1-4ac9-dc1f-b5a4af00d07b"
      },
      "outputs": [
        {
          "output_type": "stream",
          "name": "stderr",
          "text": [
            "/usr/local/lib/python3.7/dist-packages/ipykernel_launcher.py:2: FutureWarning: this method is deprecated in favour of `Styler.format(precision=..)`\n",
            "  \n"
          ]
        },
        {
          "output_type": "execute_result",
          "data": {
            "text/plain": [
              "<pandas.io.formats.style.Styler at 0x7fc39b832450>"
            ],
            "text/html": [
              "<style type=\"text/css\">\n",
              "#T_cad9a_row0_col0, #T_cad9a_row1_col1, #T_cad9a_row2_col2, #T_cad9a_row3_col3, #T_cad9a_row4_col4, #T_cad9a_row5_col5, #T_cad9a_row6_col6, #T_cad9a_row7_col7, #T_cad9a_row8_col8 {\n",
              "  background-color: #b40426;\n",
              "  color: #f1f1f1;\n",
              "}\n",
              "#T_cad9a_row0_col1 {\n",
              "  background-color: #f7b79b;\n",
              "  color: #000000;\n",
              "}\n",
              "#T_cad9a_row0_col2, #T_cad9a_row2_col0, #T_cad9a_row2_col1, #T_cad9a_row2_col3, #T_cad9a_row4_col5, #T_cad9a_row4_col6, #T_cad9a_row4_col7, #T_cad9a_row4_col8, #T_cad9a_row5_col4 {\n",
              "  background-color: #3b4cc0;\n",
              "  color: #f1f1f1;\n",
              "}\n",
              "#T_cad9a_row0_col3 {\n",
              "  background-color: #8caffe;\n",
              "  color: #000000;\n",
              "}\n",
              "#T_cad9a_row0_col4, #T_cad9a_row1_col5 {\n",
              "  background-color: #f4c5ad;\n",
              "  color: #000000;\n",
              "}\n",
              "#T_cad9a_row0_col5 {\n",
              "  background-color: #a3c2fe;\n",
              "  color: #000000;\n",
              "}\n",
              "#T_cad9a_row0_col6 {\n",
              "  background-color: #afcafc;\n",
              "  color: #000000;\n",
              "}\n",
              "#T_cad9a_row0_col7 {\n",
              "  background-color: #7da0f9;\n",
              "  color: #f1f1f1;\n",
              "}\n",
              "#T_cad9a_row0_col8 {\n",
              "  background-color: #a6c4fe;\n",
              "  color: #000000;\n",
              "}\n",
              "#T_cad9a_row1_col0, #T_cad9a_row5_col7 {\n",
              "  background-color: #f6a385;\n",
              "  color: #000000;\n",
              "}\n",
              "#T_cad9a_row1_col2, #T_cad9a_row4_col1 {\n",
              "  background-color: #6c8ff1;\n",
              "  color: #f1f1f1;\n",
              "}\n",
              "#T_cad9a_row1_col3 {\n",
              "  background-color: #aec9fc;\n",
              "  color: #000000;\n",
              "}\n",
              "#T_cad9a_row1_col4, #T_cad9a_row3_col1, #T_cad9a_row8_col1 {\n",
              "  background-color: #b7cff9;\n",
              "  color: #000000;\n",
              "}\n",
              "#T_cad9a_row1_col6 {\n",
              "  background-color: #f7ac8e;\n",
              "  color: #000000;\n",
              "}\n",
              "#T_cad9a_row1_col7, #T_cad9a_row7_col1 {\n",
              "  background-color: #efcfbf;\n",
              "  color: #000000;\n",
              "}\n",
              "#T_cad9a_row1_col8, #T_cad9a_row8_col7 {\n",
              "  background-color: #dddcdc;\n",
              "  color: #000000;\n",
              "}\n",
              "#T_cad9a_row2_col4, #T_cad9a_row3_col7 {\n",
              "  background-color: #84a7fc;\n",
              "  color: #f1f1f1;\n",
              "}\n",
              "#T_cad9a_row2_col5 {\n",
              "  background-color: #ebd3c6;\n",
              "  color: #000000;\n",
              "}\n",
              "#T_cad9a_row2_col6 {\n",
              "  background-color: #b1cbfc;\n",
              "  color: #000000;\n",
              "}\n",
              "#T_cad9a_row2_col7 {\n",
              "  background-color: #adc9fd;\n",
              "  color: #000000;\n",
              "}\n",
              "#T_cad9a_row2_col8 {\n",
              "  background-color: #d7dce3;\n",
              "  color: #000000;\n",
              "}\n",
              "#T_cad9a_row3_col0 {\n",
              "  background-color: #bfd3f6;\n",
              "  color: #000000;\n",
              "}\n",
              "#T_cad9a_row3_col2 {\n",
              "  background-color: #7a9df8;\n",
              "  color: #f1f1f1;\n",
              "}\n",
              "#T_cad9a_row3_col4 {\n",
              "  background-color: #a1c0ff;\n",
              "  color: #000000;\n",
              "}\n",
              "#T_cad9a_row3_col5 {\n",
              "  background-color: #c3d5f4;\n",
              "  color: #000000;\n",
              "}\n",
              "#T_cad9a_row3_col6 {\n",
              "  background-color: #d1dae9;\n",
              "  color: #000000;\n",
              "}\n",
              "#T_cad9a_row3_col8 {\n",
              "  background-color: #9abbff;\n",
              "  color: #000000;\n",
              "}\n",
              "#T_cad9a_row4_col0 {\n",
              "  background-color: #edd1c2;\n",
              "  color: #000000;\n",
              "}\n",
              "#T_cad9a_row4_col2 {\n",
              "  background-color: #6282ea;\n",
              "  color: #f1f1f1;\n",
              "}\n",
              "#T_cad9a_row4_col3 {\n",
              "  background-color: #4358cb;\n",
              "  color: #f1f1f1;\n",
              "}\n",
              "#T_cad9a_row5_col0 {\n",
              "  background-color: #85a8fc;\n",
              "  color: #f1f1f1;\n",
              "}\n",
              "#T_cad9a_row5_col1 {\n",
              "  background-color: #dbdcde;\n",
              "  color: #000000;\n",
              "}\n",
              "#T_cad9a_row5_col2 {\n",
              "  background-color: #dedcdb;\n",
              "  color: #000000;\n",
              "}\n",
              "#T_cad9a_row5_col3 {\n",
              "  background-color: #7295f4;\n",
              "  color: #f1f1f1;\n",
              "}\n",
              "#T_cad9a_row5_col6 {\n",
              "  background-color: #f59c7d;\n",
              "  color: #000000;\n",
              "}\n",
              "#T_cad9a_row5_col8 {\n",
              "  background-color: #ef886b;\n",
              "  color: #f1f1f1;\n",
              "}\n",
              "#T_cad9a_row6_col0 {\n",
              "  background-color: #b3cdfb;\n",
              "  color: #000000;\n",
              "}\n",
              "#T_cad9a_row6_col1 {\n",
              "  background-color: #f6bda2;\n",
              "  color: #000000;\n",
              "}\n",
              "#T_cad9a_row6_col2 {\n",
              "  background-color: #b5cdfa;\n",
              "  color: #000000;\n",
              "}\n",
              "#T_cad9a_row6_col3 {\n",
              "  background-color: #abc8fd;\n",
              "  color: #000000;\n",
              "}\n",
              "#T_cad9a_row6_col4 {\n",
              "  background-color: #6384eb;\n",
              "  color: #f1f1f1;\n",
              "}\n",
              "#T_cad9a_row6_col5 {\n",
              "  background-color: #f18f71;\n",
              "  color: #f1f1f1;\n",
              "}\n",
              "#T_cad9a_row6_col7 {\n",
              "  background-color: #f08b6e;\n",
              "  color: #f1f1f1;\n",
              "}\n",
              "#T_cad9a_row6_col8 {\n",
              "  background-color: #e4d9d2;\n",
              "  color: #000000;\n",
              "}\n",
              "#T_cad9a_row7_col0 {\n",
              "  background-color: #a9c6fd;\n",
              "  color: #000000;\n",
              "}\n",
              "#T_cad9a_row7_col2 {\n",
              "  background-color: #cdd9ec;\n",
              "  color: #000000;\n",
              "}\n",
              "#T_cad9a_row7_col3 {\n",
              "  background-color: #779af7;\n",
              "  color: #f1f1f1;\n",
              "}\n",
              "#T_cad9a_row7_col4 {\n",
              "  background-color: #8db0fe;\n",
              "  color: #000000;\n",
              "}\n",
              "#T_cad9a_row7_col5 {\n",
              "  background-color: #ee8669;\n",
              "  color: #f1f1f1;\n",
              "}\n",
              "#T_cad9a_row7_col6 {\n",
              "  background-color: #eb7d62;\n",
              "  color: #f1f1f1;\n",
              "}\n",
              "#T_cad9a_row7_col8 {\n",
              "  background-color: #f2cab5;\n",
              "  color: #000000;\n",
              "}\n",
              "#T_cad9a_row8_col0 {\n",
              "  background-color: #98b9ff;\n",
              "  color: #000000;\n",
              "}\n",
              "#T_cad9a_row8_col2 {\n",
              "  background-color: #cfdaea;\n",
              "  color: #000000;\n",
              "}\n",
              "#T_cad9a_row8_col3, #T_cad9a_row8_col4 {\n",
              "  background-color: #4c66d6;\n",
              "  color: #f1f1f1;\n",
              "}\n",
              "#T_cad9a_row8_col5 {\n",
              "  background-color: #ed8366;\n",
              "  color: #f1f1f1;\n",
              "}\n",
              "#T_cad9a_row8_col6 {\n",
              "  background-color: #dadce0;\n",
              "  color: #000000;\n",
              "}\n",
              "</style>\n",
              "<table id=\"T_cad9a_\" class=\"dataframe\">\n",
              "  <thead>\n",
              "    <tr>\n",
              "      <th class=\"blank level0\" >&nbsp;</th>\n",
              "      <th class=\"col_heading level0 col0\" >year</th>\n",
              "      <th class=\"col_heading level0 col1\" >selling_price</th>\n",
              "      <th class=\"col_heading level0 col2\" >km_driven</th>\n",
              "      <th class=\"col_heading level0 col3\" >transmission</th>\n",
              "      <th class=\"col_heading level0 col4\" >mileage</th>\n",
              "      <th class=\"col_heading level0 col5\" >engine</th>\n",
              "      <th class=\"col_heading level0 col6\" >max_power</th>\n",
              "      <th class=\"col_heading level0 col7\" >torque</th>\n",
              "      <th class=\"col_heading level0 col8\" >seats</th>\n",
              "    </tr>\n",
              "  </thead>\n",
              "  <tbody>\n",
              "    <tr>\n",
              "      <th id=\"T_cad9a_level0_row0\" class=\"row_heading level0 row0\" >year</th>\n",
              "      <td id=\"T_cad9a_row0_col0\" class=\"data row0 col0\" >1.00</td>\n",
              "      <td id=\"T_cad9a_row0_col1\" class=\"data row0 col1\" >0.61</td>\n",
              "      <td id=\"T_cad9a_row0_col2\" class=\"data row0 col2\" >-0.40</td>\n",
              "      <td id=\"T_cad9a_row0_col3\" class=\"data row0 col3\" >0.15</td>\n",
              "      <td id=\"T_cad9a_row0_col4\" class=\"data row0 col4\" >0.40</td>\n",
              "      <td id=\"T_cad9a_row0_col5\" class=\"data row0 col5\" >-0.08</td>\n",
              "      <td id=\"T_cad9a_row0_col6\" class=\"data row0 col6\" >0.10</td>\n",
              "      <td id=\"T_cad9a_row0_col7\" class=\"data row0 col7\" >0.06</td>\n",
              "      <td id=\"T_cad9a_row0_col8\" class=\"data row0 col8\" >-0.00</td>\n",
              "    </tr>\n",
              "    <tr>\n",
              "      <th id=\"T_cad9a_level0_row1\" class=\"row_heading level0 row1\" >selling_price</th>\n",
              "      <td id=\"T_cad9a_row1_col0\" class=\"data row1 col0\" >0.61</td>\n",
              "      <td id=\"T_cad9a_row1_col1\" class=\"data row1 col1\" >1.00</td>\n",
              "      <td id=\"T_cad9a_row1_col2\" class=\"data row1 col2\" >-0.18</td>\n",
              "      <td id=\"T_cad9a_row1_col3\" class=\"data row1 col3\" >0.26</td>\n",
              "      <td id=\"T_cad9a_row1_col4\" class=\"data row1 col4\" >0.01</td>\n",
              "      <td id=\"T_cad9a_row1_col5\" class=\"data row1 col5\" >0.40</td>\n",
              "      <td id=\"T_cad9a_row1_col6\" class=\"data row1 col6\" >0.59</td>\n",
              "      <td id=\"T_cad9a_row1_col7\" class=\"data row1 col7\" >0.51</td>\n",
              "      <td id=\"T_cad9a_row1_col8\" class=\"data row1 col8\" >0.26</td>\n",
              "    </tr>\n",
              "    <tr>\n",
              "      <th id=\"T_cad9a_level0_row2\" class=\"row_heading level0 row2\" >km_driven</th>\n",
              "      <td id=\"T_cad9a_row2_col0\" class=\"data row2 col0\" >-0.40</td>\n",
              "      <td id=\"T_cad9a_row2_col1\" class=\"data row2 col1\" >-0.18</td>\n",
              "      <td id=\"T_cad9a_row2_col2\" class=\"data row2 col2\" >1.00</td>\n",
              "      <td id=\"T_cad9a_row2_col3\" class=\"data row2 col3\" >-0.13</td>\n",
              "      <td id=\"T_cad9a_row2_col4\" class=\"data row2 col4\" >-0.22</td>\n",
              "      <td id=\"T_cad9a_row2_col5\" class=\"data row2 col5\" >0.31</td>\n",
              "      <td id=\"T_cad9a_row2_col6\" class=\"data row2 col6\" >0.11</td>\n",
              "      <td id=\"T_cad9a_row2_col7\" class=\"data row2 col7\" >0.22</td>\n",
              "      <td id=\"T_cad9a_row2_col8\" class=\"data row2 col8\" >0.23</td>\n",
              "    </tr>\n",
              "    <tr>\n",
              "      <th id=\"T_cad9a_level0_row3\" class=\"row_heading level0 row3\" >transmission</th>\n",
              "      <td id=\"T_cad9a_row3_col0\" class=\"data row3 col0\" >0.15</td>\n",
              "      <td id=\"T_cad9a_row3_col1\" class=\"data row3 col1\" >0.26</td>\n",
              "      <td id=\"T_cad9a_row3_col2\" class=\"data row3 col2\" >-0.13</td>\n",
              "      <td id=\"T_cad9a_row3_col3\" class=\"data row3 col3\" >1.00</td>\n",
              "      <td id=\"T_cad9a_row3_col4\" class=\"data row3 col4\" >-0.09</td>\n",
              "      <td id=\"T_cad9a_row3_col5\" class=\"data row3 col5\" >0.07</td>\n",
              "      <td id=\"T_cad9a_row3_col6\" class=\"data row3 col6\" >0.25</td>\n",
              "      <td id=\"T_cad9a_row3_col7\" class=\"data row3 col7\" >0.08</td>\n",
              "      <td id=\"T_cad9a_row3_col8\" class=\"data row3 col8\" >-0.06</td>\n",
              "    </tr>\n",
              "    <tr>\n",
              "      <th id=\"T_cad9a_level0_row4\" class=\"row_heading level0 row4\" >mileage</th>\n",
              "      <td id=\"T_cad9a_row4_col0\" class=\"data row4 col0\" >0.40</td>\n",
              "      <td id=\"T_cad9a_row4_col1\" class=\"data row4 col1\" >0.01</td>\n",
              "      <td id=\"T_cad9a_row4_col2\" class=\"data row4 col2\" >-0.22</td>\n",
              "      <td id=\"T_cad9a_row4_col3\" class=\"data row4 col3\" >-0.09</td>\n",
              "      <td id=\"T_cad9a_row4_col4\" class=\"data row4 col4\" >1.00</td>\n",
              "      <td id=\"T_cad9a_row4_col5\" class=\"data row4 col5\" >-0.58</td>\n",
              "      <td id=\"T_cad9a_row4_col6\" class=\"data row4 col6\" >-0.38</td>\n",
              "      <td id=\"T_cad9a_row4_col7\" class=\"data row4 col7\" >-0.18</td>\n",
              "      <td id=\"T_cad9a_row4_col8\" class=\"data row4 col8\" >-0.48</td>\n",
              "    </tr>\n",
              "    <tr>\n",
              "      <th id=\"T_cad9a_level0_row5\" class=\"row_heading level0 row5\" >engine</th>\n",
              "      <td id=\"T_cad9a_row5_col0\" class=\"data row5 col0\" >-0.08</td>\n",
              "      <td id=\"T_cad9a_row5_col1\" class=\"data row5 col1\" >0.40</td>\n",
              "      <td id=\"T_cad9a_row5_col2\" class=\"data row5 col2\" >0.31</td>\n",
              "      <td id=\"T_cad9a_row5_col3\" class=\"data row5 col3\" >0.07</td>\n",
              "      <td id=\"T_cad9a_row5_col4\" class=\"data row5 col4\" >-0.58</td>\n",
              "      <td id=\"T_cad9a_row5_col5\" class=\"data row5 col5\" >1.00</td>\n",
              "      <td id=\"T_cad9a_row5_col6\" class=\"data row5 col6\" >0.65</td>\n",
              "      <td id=\"T_cad9a_row5_col7\" class=\"data row5 col7\" >0.68</td>\n",
              "      <td id=\"T_cad9a_row5_col8\" class=\"data row5 col8\" >0.69</td>\n",
              "    </tr>\n",
              "    <tr>\n",
              "      <th id=\"T_cad9a_level0_row6\" class=\"row_heading level0 row6\" >max_power</th>\n",
              "      <td id=\"T_cad9a_row6_col0\" class=\"data row6 col0\" >0.10</td>\n",
              "      <td id=\"T_cad9a_row6_col1\" class=\"data row6 col1\" >0.59</td>\n",
              "      <td id=\"T_cad9a_row6_col2\" class=\"data row6 col2\" >0.11</td>\n",
              "      <td id=\"T_cad9a_row6_col3\" class=\"data row6 col3\" >0.25</td>\n",
              "      <td id=\"T_cad9a_row6_col4\" class=\"data row6 col4\" >-0.38</td>\n",
              "      <td id=\"T_cad9a_row6_col5\" class=\"data row6 col5\" >0.65</td>\n",
              "      <td id=\"T_cad9a_row6_col6\" class=\"data row6 col6\" >1.00</td>\n",
              "      <td id=\"T_cad9a_row6_col7\" class=\"data row6 col7\" >0.74</td>\n",
              "      <td id=\"T_cad9a_row6_col8\" class=\"data row6 col8\" >0.30</td>\n",
              "    </tr>\n",
              "    <tr>\n",
              "      <th id=\"T_cad9a_level0_row7\" class=\"row_heading level0 row7\" >torque</th>\n",
              "      <td id=\"T_cad9a_row7_col0\" class=\"data row7 col0\" >0.06</td>\n",
              "      <td id=\"T_cad9a_row7_col1\" class=\"data row7 col1\" >0.51</td>\n",
              "      <td id=\"T_cad9a_row7_col2\" class=\"data row7 col2\" >0.22</td>\n",
              "      <td id=\"T_cad9a_row7_col3\" class=\"data row7 col3\" >0.08</td>\n",
              "      <td id=\"T_cad9a_row7_col4\" class=\"data row7 col4\" >-0.18</td>\n",
              "      <td id=\"T_cad9a_row7_col5\" class=\"data row7 col5\" >0.68</td>\n",
              "      <td id=\"T_cad9a_row7_col6\" class=\"data row7 col6\" >0.74</td>\n",
              "      <td id=\"T_cad9a_row7_col7\" class=\"data row7 col7\" >1.00</td>\n",
              "      <td id=\"T_cad9a_row7_col8\" class=\"data row7 col8\" >0.41</td>\n",
              "    </tr>\n",
              "    <tr>\n",
              "      <th id=\"T_cad9a_level0_row8\" class=\"row_heading level0 row8\" >seats</th>\n",
              "      <td id=\"T_cad9a_row8_col0\" class=\"data row8 col0\" >-0.00</td>\n",
              "      <td id=\"T_cad9a_row8_col1\" class=\"data row8 col1\" >0.26</td>\n",
              "      <td id=\"T_cad9a_row8_col2\" class=\"data row8 col2\" >0.23</td>\n",
              "      <td id=\"T_cad9a_row8_col3\" class=\"data row8 col3\" >-0.06</td>\n",
              "      <td id=\"T_cad9a_row8_col4\" class=\"data row8 col4\" >-0.48</td>\n",
              "      <td id=\"T_cad9a_row8_col5\" class=\"data row8 col5\" >0.69</td>\n",
              "      <td id=\"T_cad9a_row8_col6\" class=\"data row8 col6\" >0.30</td>\n",
              "      <td id=\"T_cad9a_row8_col7\" class=\"data row8 col7\" >0.41</td>\n",
              "      <td id=\"T_cad9a_row8_col8\" class=\"data row8 col8\" >1.00</td>\n",
              "    </tr>\n",
              "  </tbody>\n",
              "</table>\n"
            ]
          },
          "metadata": {},
          "execution_count": 50
        }
      ],
      "source": [
        "corr = df.corr()\n",
        "corr.style.background_gradient(cmap = 'coolwarm').set_precision(2)"
      ],
      "id": "0bafcafc"
    },
    {
      "cell_type": "code",
      "execution_count": null,
      "metadata": {
        "id": "541f6ada"
      },
      "outputs": [],
      "source": [
        "df.drop(['seats', 'engine', 'mileage', 'km_driven','transmission'], axis = 1, inplace = True)"
      ],
      "id": "541f6ada"
    },
    {
      "cell_type": "code",
      "execution_count": null,
      "metadata": {
        "colab": {
          "base_uri": "https://localhost:8080/"
        },
        "id": "6cc99f25",
        "outputId": "0d202f6a-0800-4ec7-c726-7d77c7d6b1a5"
      },
      "outputs": [
        {
          "output_type": "execute_result",
          "data": {
            "text/plain": [
              "      year  selling_price  max_power  torque\n",
              "0     2014         450000      74.00     190\n",
              "1     2014         370000     103.52     250\n",
              "2     2006         158000      78.00     124\n",
              "3     2010         225000      90.00     219\n",
              "4     2007         130000      88.20     112\n",
              "...    ...            ...        ...     ...\n",
              "7884  2013         320000      82.85     113\n",
              "7885  2007         135000     110.00     235\n",
              "7886  2009         382000      73.90     190\n",
              "7887  2013         290000      70.00     140\n",
              "7888  2013         290000      70.00     140\n",
              "\n",
              "[7366 rows x 4 columns]"
            ],
            "text/html": [
              "\n",
              "  <div id=\"df-d1b74b60-5b3f-45e5-b5a0-7c8547ae10c0\">\n",
              "    <div class=\"colab-df-container\">\n",
              "      <div>\n",
              "<style scoped>\n",
              "    .dataframe tbody tr th:only-of-type {\n",
              "        vertical-align: middle;\n",
              "    }\n",
              "\n",
              "    .dataframe tbody tr th {\n",
              "        vertical-align: top;\n",
              "    }\n",
              "\n",
              "    .dataframe thead th {\n",
              "        text-align: right;\n",
              "    }\n",
              "</style>\n",
              "<table border=\"1\" class=\"dataframe\">\n",
              "  <thead>\n",
              "    <tr style=\"text-align: right;\">\n",
              "      <th></th>\n",
              "      <th>year</th>\n",
              "      <th>selling_price</th>\n",
              "      <th>max_power</th>\n",
              "      <th>torque</th>\n",
              "    </tr>\n",
              "  </thead>\n",
              "  <tbody>\n",
              "    <tr>\n",
              "      <th>0</th>\n",
              "      <td>2014</td>\n",
              "      <td>450000</td>\n",
              "      <td>74.00</td>\n",
              "      <td>190</td>\n",
              "    </tr>\n",
              "    <tr>\n",
              "      <th>1</th>\n",
              "      <td>2014</td>\n",
              "      <td>370000</td>\n",
              "      <td>103.52</td>\n",
              "      <td>250</td>\n",
              "    </tr>\n",
              "    <tr>\n",
              "      <th>2</th>\n",
              "      <td>2006</td>\n",
              "      <td>158000</td>\n",
              "      <td>78.00</td>\n",
              "      <td>124</td>\n",
              "    </tr>\n",
              "    <tr>\n",
              "      <th>3</th>\n",
              "      <td>2010</td>\n",
              "      <td>225000</td>\n",
              "      <td>90.00</td>\n",
              "      <td>219</td>\n",
              "    </tr>\n",
              "    <tr>\n",
              "      <th>4</th>\n",
              "      <td>2007</td>\n",
              "      <td>130000</td>\n",
              "      <td>88.20</td>\n",
              "      <td>112</td>\n",
              "    </tr>\n",
              "    <tr>\n",
              "      <th>...</th>\n",
              "      <td>...</td>\n",
              "      <td>...</td>\n",
              "      <td>...</td>\n",
              "      <td>...</td>\n",
              "    </tr>\n",
              "    <tr>\n",
              "      <th>7884</th>\n",
              "      <td>2013</td>\n",
              "      <td>320000</td>\n",
              "      <td>82.85</td>\n",
              "      <td>113</td>\n",
              "    </tr>\n",
              "    <tr>\n",
              "      <th>7885</th>\n",
              "      <td>2007</td>\n",
              "      <td>135000</td>\n",
              "      <td>110.00</td>\n",
              "      <td>235</td>\n",
              "    </tr>\n",
              "    <tr>\n",
              "      <th>7886</th>\n",
              "      <td>2009</td>\n",
              "      <td>382000</td>\n",
              "      <td>73.90</td>\n",
              "      <td>190</td>\n",
              "    </tr>\n",
              "    <tr>\n",
              "      <th>7887</th>\n",
              "      <td>2013</td>\n",
              "      <td>290000</td>\n",
              "      <td>70.00</td>\n",
              "      <td>140</td>\n",
              "    </tr>\n",
              "    <tr>\n",
              "      <th>7888</th>\n",
              "      <td>2013</td>\n",
              "      <td>290000</td>\n",
              "      <td>70.00</td>\n",
              "      <td>140</td>\n",
              "    </tr>\n",
              "  </tbody>\n",
              "</table>\n",
              "<p>7366 rows × 4 columns</p>\n",
              "</div>\n",
              "      <button class=\"colab-df-convert\" onclick=\"convertToInteractive('df-d1b74b60-5b3f-45e5-b5a0-7c8547ae10c0')\"\n",
              "              title=\"Convert this dataframe to an interactive table.\"\n",
              "              style=\"display:none;\">\n",
              "        \n",
              "  <svg xmlns=\"http://www.w3.org/2000/svg\" height=\"24px\"viewBox=\"0 0 24 24\"\n",
              "       width=\"24px\">\n",
              "    <path d=\"M0 0h24v24H0V0z\" fill=\"none\"/>\n",
              "    <path d=\"M18.56 5.44l.94 2.06.94-2.06 2.06-.94-2.06-.94-.94-2.06-.94 2.06-2.06.94zm-11 1L8.5 8.5l.94-2.06 2.06-.94-2.06-.94L8.5 2.5l-.94 2.06-2.06.94zm10 10l.94 2.06.94-2.06 2.06-.94-2.06-.94-.94-2.06-.94 2.06-2.06.94z\"/><path d=\"M17.41 7.96l-1.37-1.37c-.4-.4-.92-.59-1.43-.59-.52 0-1.04.2-1.43.59L10.3 9.45l-7.72 7.72c-.78.78-.78 2.05 0 2.83L4 21.41c.39.39.9.59 1.41.59.51 0 1.02-.2 1.41-.59l7.78-7.78 2.81-2.81c.8-.78.8-2.07 0-2.86zM5.41 20L4 18.59l7.72-7.72 1.47 1.35L5.41 20z\"/>\n",
              "  </svg>\n",
              "      </button>\n",
              "      \n",
              "  <style>\n",
              "    .colab-df-container {\n",
              "      display:flex;\n",
              "      flex-wrap:wrap;\n",
              "      gap: 12px;\n",
              "    }\n",
              "\n",
              "    .colab-df-convert {\n",
              "      background-color: #E8F0FE;\n",
              "      border: none;\n",
              "      border-radius: 50%;\n",
              "      cursor: pointer;\n",
              "      display: none;\n",
              "      fill: #1967D2;\n",
              "      height: 32px;\n",
              "      padding: 0 0 0 0;\n",
              "      width: 32px;\n",
              "    }\n",
              "\n",
              "    .colab-df-convert:hover {\n",
              "      background-color: #E2EBFA;\n",
              "      box-shadow: 0px 1px 2px rgba(60, 64, 67, 0.3), 0px 1px 3px 1px rgba(60, 64, 67, 0.15);\n",
              "      fill: #174EA6;\n",
              "    }\n",
              "\n",
              "    [theme=dark] .colab-df-convert {\n",
              "      background-color: #3B4455;\n",
              "      fill: #D2E3FC;\n",
              "    }\n",
              "\n",
              "    [theme=dark] .colab-df-convert:hover {\n",
              "      background-color: #434B5C;\n",
              "      box-shadow: 0px 1px 3px 1px rgba(0, 0, 0, 0.15);\n",
              "      filter: drop-shadow(0px 1px 2px rgba(0, 0, 0, 0.3));\n",
              "      fill: #FFFFFF;\n",
              "    }\n",
              "  </style>\n",
              "\n",
              "      <script>\n",
              "        const buttonEl =\n",
              "          document.querySelector('#df-d1b74b60-5b3f-45e5-b5a0-7c8547ae10c0 button.colab-df-convert');\n",
              "        buttonEl.style.display =\n",
              "          google.colab.kernel.accessAllowed ? 'block' : 'none';\n",
              "\n",
              "        async function convertToInteractive(key) {\n",
              "          const element = document.querySelector('#df-d1b74b60-5b3f-45e5-b5a0-7c8547ae10c0');\n",
              "          const dataTable =\n",
              "            await google.colab.kernel.invokeFunction('convertToInteractive',\n",
              "                                                     [key], {});\n",
              "          if (!dataTable) return;\n",
              "\n",
              "          const docLinkHtml = 'Like what you see? Visit the ' +\n",
              "            '<a target=\"_blank\" href=https://colab.research.google.com/notebooks/data_table.ipynb>data table notebook</a>'\n",
              "            + ' to learn more about interactive tables.';\n",
              "          element.innerHTML = '';\n",
              "          dataTable['output_type'] = 'display_data';\n",
              "          await google.colab.output.renderOutput(dataTable, element);\n",
              "          const docLink = document.createElement('div');\n",
              "          docLink.innerHTML = docLinkHtml;\n",
              "          element.appendChild(docLink);\n",
              "        }\n",
              "      </script>\n",
              "    </div>\n",
              "  </div>\n",
              "  "
            ]
          },
          "metadata": {},
          "execution_count": 52
        }
      ],
      "source": [
        "df"
      ],
      "id": "6cc99f25"
    },
    {
      "cell_type": "code",
      "execution_count": null,
      "metadata": {
        "colab": {
          "base_uri": "https://localhost:8080/"
        },
        "id": "0ea41e04",
        "outputId": "9252e92e-8936-489e-82bd-51f4b2c7b5b3"
      },
      "outputs": [
        {
          "output_type": "stream",
          "name": "stderr",
          "text": [
            "/usr/local/lib/python3.7/dist-packages/ipykernel_launcher.py:2: FutureWarning: this method is deprecated in favour of `Styler.format(precision=..)`\n",
            "  \n"
          ]
        },
        {
          "output_type": "execute_result",
          "data": {
            "text/plain": [
              "<pandas.io.formats.style.Styler at 0x7fc39b8ae890>"
            ],
            "text/html": [
              "<style type=\"text/css\">\n",
              "#T_36790_row0_col0, #T_36790_row1_col1, #T_36790_row2_col2, #T_36790_row3_col3 {\n",
              "  background-color: #b40426;\n",
              "  color: #f1f1f1;\n",
              "}\n",
              "#T_36790_row0_col1 {\n",
              "  background-color: #80a3fa;\n",
              "  color: #f1f1f1;\n",
              "}\n",
              "#T_36790_row0_col2, #T_36790_row0_col3, #T_36790_row3_col0, #T_36790_row3_col1 {\n",
              "  background-color: #3b4cc0;\n",
              "  color: #f1f1f1;\n",
              "}\n",
              "#T_36790_row1_col0 {\n",
              "  background-color: #f0cdbb;\n",
              "  color: #000000;\n",
              "}\n",
              "#T_36790_row1_col2 {\n",
              "  background-color: #e6d7cf;\n",
              "  color: #000000;\n",
              "}\n",
              "#T_36790_row1_col3 {\n",
              "  background-color: #d6dce4;\n",
              "  color: #000000;\n",
              "}\n",
              "#T_36790_row2_col0 {\n",
              "  background-color: #4961d2;\n",
              "  color: #f1f1f1;\n",
              "}\n",
              "#T_36790_row2_col1 {\n",
              "  background-color: #6f92f3;\n",
              "  color: #f1f1f1;\n",
              "}\n",
              "#T_36790_row2_col3 {\n",
              "  background-color: #f6a385;\n",
              "  color: #000000;\n",
              "}\n",
              "#T_36790_row3_col2 {\n",
              "  background-color: #f7a889;\n",
              "  color: #000000;\n",
              "}\n",
              "</style>\n",
              "<table id=\"T_36790_\" class=\"dataframe\">\n",
              "  <thead>\n",
              "    <tr>\n",
              "      <th class=\"blank level0\" >&nbsp;</th>\n",
              "      <th class=\"col_heading level0 col0\" >year</th>\n",
              "      <th class=\"col_heading level0 col1\" >selling_price</th>\n",
              "      <th class=\"col_heading level0 col2\" >max_power</th>\n",
              "      <th class=\"col_heading level0 col3\" >torque</th>\n",
              "    </tr>\n",
              "  </thead>\n",
              "  <tbody>\n",
              "    <tr>\n",
              "      <th id=\"T_36790_level0_row0\" class=\"row_heading level0 row0\" >year</th>\n",
              "      <td id=\"T_36790_row0_col0\" class=\"data row0 col0\" >1.00</td>\n",
              "      <td id=\"T_36790_row0_col1\" class=\"data row0 col1\" >0.61</td>\n",
              "      <td id=\"T_36790_row0_col2\" class=\"data row0 col2\" >0.10</td>\n",
              "      <td id=\"T_36790_row0_col3\" class=\"data row0 col3\" >0.06</td>\n",
              "    </tr>\n",
              "    <tr>\n",
              "      <th id=\"T_36790_level0_row1\" class=\"row_heading level0 row1\" >selling_price</th>\n",
              "      <td id=\"T_36790_row1_col0\" class=\"data row1 col0\" >0.61</td>\n",
              "      <td id=\"T_36790_row1_col1\" class=\"data row1 col1\" >1.00</td>\n",
              "      <td id=\"T_36790_row1_col2\" class=\"data row1 col2\" >0.59</td>\n",
              "      <td id=\"T_36790_row1_col3\" class=\"data row1 col3\" >0.51</td>\n",
              "    </tr>\n",
              "    <tr>\n",
              "      <th id=\"T_36790_level0_row2\" class=\"row_heading level0 row2\" >max_power</th>\n",
              "      <td id=\"T_36790_row2_col0\" class=\"data row2 col0\" >0.10</td>\n",
              "      <td id=\"T_36790_row2_col1\" class=\"data row2 col1\" >0.59</td>\n",
              "      <td id=\"T_36790_row2_col2\" class=\"data row2 col2\" >1.00</td>\n",
              "      <td id=\"T_36790_row2_col3\" class=\"data row2 col3\" >0.74</td>\n",
              "    </tr>\n",
              "    <tr>\n",
              "      <th id=\"T_36790_level0_row3\" class=\"row_heading level0 row3\" >torque</th>\n",
              "      <td id=\"T_36790_row3_col0\" class=\"data row3 col0\" >0.06</td>\n",
              "      <td id=\"T_36790_row3_col1\" class=\"data row3 col1\" >0.51</td>\n",
              "      <td id=\"T_36790_row3_col2\" class=\"data row3 col2\" >0.74</td>\n",
              "      <td id=\"T_36790_row3_col3\" class=\"data row3 col3\" >1.00</td>\n",
              "    </tr>\n",
              "  </tbody>\n",
              "</table>\n"
            ]
          },
          "metadata": {},
          "execution_count": 53
        }
      ],
      "source": [
        "corr = df.corr()\n",
        "corr.style.background_gradient(cmap = 'coolwarm').set_precision(2)"
      ],
      "id": "0ea41e04"
    },
    {
      "cell_type": "code",
      "execution_count": null,
      "metadata": {
        "colab": {
          "base_uri": "https://localhost:8080/"
        },
        "id": "f72ea255",
        "outputId": "780c1a47-b18d-49cc-a5cc-c848a7c4e4b1"
      },
      "outputs": [
        {
          "output_type": "execute_result",
          "data": {
            "text/plain": [
              "<seaborn.axisgrid.FacetGrid at 0x7fc39b721390>"
            ]
          },
          "metadata": {},
          "execution_count": 54
        },
        {
          "output_type": "display_data",
          "data": {
            "text/plain": [
              "<Figure size 360x360 with 1 Axes>"
            ],
            "image/png": "[encoded data removed]"
          },
          "metadata": {
            "needs_background": "light"
          }
        }
      ],
      "source": [
        "sns.displot(df['max_power'])"
      ],
      "id": "f72ea255"
    },
    {
      "cell_type": "code",
      "execution_count": null,
      "metadata": {
        "colab": {
          "base_uri": "https://localhost:8080/"
        },
        "id": "1ed3e351",
        "outputId": "dab73e35-71bf-42f4-9cd5-c6095b1c6465"
      },
      "outputs": [
        {
          "output_type": "execute_result",
          "data": {
            "text/plain": [
              "1.160033994257582"
            ]
          },
          "metadata": {},
          "execution_count": 55
        }
      ],
      "source": [
        "df['max_power'].skew()"
      ],
      "id": "1ed3e351"
    },
    {
      "cell_type": "code",
      "execution_count": null,
      "metadata": {
        "id": "ThP5v5Ta77jI"
      },
      "outputs": [],
      "source": [
        "df.drop(df[df['max_power'] > 180].index, inplace = True)"
      ],
      "id": "ThP5v5Ta77jI"
    },
    {
      "cell_type": "code",
      "execution_count": null,
      "metadata": {
        "colab": {
          "base_uri": "https://localhost:8080/"
        },
        "id": "R7ZaRCDH8bPw",
        "outputId": "8ad6f6a1-afd8-426d-fbab-dcebb0d331fa"
      },
      "outputs": [
        {
          "output_type": "execute_result",
          "data": {
            "text/plain": [
              "<seaborn.axisgrid.FacetGrid at 0x7fc3987a8d90>"
            ]
          },
          "metadata": {},
          "execution_count": 57
        },
        {
          "output_type": "display_data",
          "data": {
            "text/plain": [
              "<Figure size 360x360 with 1 Axes>"
            ],
            "image/png": "[encoded data removed]"
          },
          "metadata": {
            "needs_background": "light"
          }
        }
      ],
      "source": [
        "sns.displot(df['max_power'])"
      ],
      "id": "R7ZaRCDH8bPw"
    },
    {
      "cell_type": "code",
      "execution_count": null,
      "metadata": {
        "colab": {
          "base_uri": "https://localhost:8080/"
        },
        "id": "ohv_lt6l8bln",
        "outputId": "04e02682-bac0-40be-81f8-a35205bfa4dd"
      },
      "outputs": [
        {
          "output_type": "execute_result",
          "data": {
            "text/plain": [
              "0.8249150700321792"
            ]
          },
          "metadata": {},
          "execution_count": 58
        }
      ],
      "source": [
        "df['max_power'].skew()"
      ],
      "id": "ohv_lt6l8bln"
    },
    {
      "cell_type": "code",
      "execution_count": null,
      "metadata": {
        "colab": {
          "base_uri": "https://localhost:8080/"
        },
        "id": "b9eec659",
        "outputId": "39bb8c2c-220c-403a-cdc0-70e98a835d3c"
      },
      "outputs": [
        {
          "output_type": "display_data",
          "data": {
            "text/plain": [
              "<Figure size 432x288 with 1 Axes>"
            ],
            "image/png": "[encoded data removed]"
          },
          "metadata": {
            "needs_background": "light"
          }
        }
      ],
      "source": [
        "power = df.max_power.values\n",
        "sp = df.selling_price.values\n",
        "\n",
        "plt.scatter(power,sp,alpha=0.1)\n",
        "plt.xlabel(\"Max Power\")\n",
        "plt.ylabel(\"Selling Price\")\n",
        "plt.show()"
      ],
      "id": "b9eec659"
    },
    {
      "cell_type": "code",
      "execution_count": null,
      "metadata": {
        "colab": {
          "base_uri": "https://localhost:8080/"
        },
        "id": "c363557a",
        "outputId": "dbf45f8b-8195-43dd-9809-5bbcd785a7df"
      },
      "outputs": [
        {
          "output_type": "execute_result",
          "data": {
            "text/plain": [
              "<seaborn.axisgrid.FacetGrid at 0x7fc3986169d0>"
            ]
          },
          "metadata": {},
          "execution_count": 60
        },
        {
          "output_type": "display_data",
          "data": {
            "text/plain": [
              "<Figure size 360x360 with 1 Axes>"
            ],
            "image/png": "[encoded data removed]"
          },
          "metadata": {
            "needs_background": "light"
          }
        }
      ],
      "source": [
        "sns.displot(df['year'])"
      ],
      "id": "c363557a"
    },
    {
      "cell_type": "code",
      "execution_count": null,
      "metadata": {
        "colab": {
          "base_uri": "https://localhost:8080/"
        },
        "id": "b588d2f2",
        "outputId": "1bece2d5-d4cc-46c9-ce73-03ecf4c4900e"
      },
      "outputs": [
        {
          "output_type": "execute_result",
          "data": {
            "text/plain": [
              "-0.9712970812964036"
            ]
          },
          "metadata": {},
          "execution_count": 61
        }
      ],
      "source": [
        "df['year'].skew()"
      ],
      "id": "b588d2f2"
    },
    {
      "cell_type": "code",
      "execution_count": null,
      "metadata": {
        "id": "3fVG24e-8oL-"
      },
      "outputs": [],
      "source": [
        "df.drop(df[df['year'] < 2004].index, inplace = True)"
      ],
      "id": "3fVG24e-8oL-"
    },
    {
      "cell_type": "code",
      "execution_count": null,
      "metadata": {
        "colab": {
          "base_uri": "https://localhost:8080/"
        },
        "id": "_pICGXVB8ok2",
        "outputId": "5d812521-ea67-45bd-86fa-6180967a1e0b"
      },
      "outputs": [
        {
          "output_type": "execute_result",
          "data": {
            "text/plain": [
              "<seaborn.axisgrid.FacetGrid at 0x7fc3985db590>"
            ]
          },
          "metadata": {},
          "execution_count": 63
        },
        {
          "output_type": "display_data",
          "data": {
            "text/plain": [
              "<Figure size 360x360 with 1 Axes>"
            ],
            "image/png": "[encoded data removed]"
          },
          "metadata": {
            "needs_background": "light"
          }
        }
      ],
      "source": [
        "sns.displot(df['year'])"
      ],
      "id": "_pICGXVB8ok2"
    },
    {
      "cell_type": "code",
      "execution_count": null,
      "metadata": {
        "colab": {
          "base_uri": "https://localhost:8080/"
        },
        "id": "KPGlh9wJ8o2v",
        "outputId": "60e42584-90d3-4f51-d037-60a3322a6d30"
      },
      "outputs": [
        {
          "output_type": "execute_result",
          "data": {
            "text/plain": [
              "-0.5794977278672508"
            ]
          },
          "metadata": {},
          "execution_count": 64
        }
      ],
      "source": [
        "df['year'].skew()"
      ],
      "id": "KPGlh9wJ8o2v"
    },
    {
      "cell_type": "code",
      "execution_count": null,
      "metadata": {
        "id": "0994a9ed",
        "colab": {
          "base_uri": "https://localhost:8080/"
        },
        "outputId": "7ee4472b-b64d-4350-da0f-306f102d89a2"
      },
      "outputs": [
        {
          "output_type": "display_data",
          "data": {
            "text/plain": [
              "<Figure size 432x288 with 1 Axes>"
            ],
            "image/png": "[encoded data removed]"
          },
          "metadata": {
            "needs_background": "light"
          }
        }
      ],
      "source": [
        "year = df.year.values\n",
        "sp = df.selling_price.values\n",
        "\n",
        "plt.scatter(year,sp, alpha=0.05)\n",
        "plt.xlabel(\"Year of Make\")\n",
        "plt.ylabel(\"Selling Price\")\n",
        "plt.show()"
      ],
      "id": "0994a9ed"
    },
    {
      "cell_type": "code",
      "execution_count": null,
      "metadata": {
        "id": "Ect7ZjZzH8LS",
        "colab": {
          "base_uri": "https://localhost:8080/"
        },
        "outputId": "29c6d03e-dacd-4460-dce1-4eed806e4a7c"
      },
      "outputs": [
        {
          "output_type": "execute_result",
          "data": {
            "text/plain": [
              "<seaborn.axisgrid.FacetGrid at 0x7fc396d8ba50>"
            ]
          },
          "metadata": {},
          "execution_count": 66
        },
        {
          "output_type": "display_data",
          "data": {
            "text/plain": [
              "<Figure size 360x360 with 1 Axes>"
            ],
            "image/png": "[encoded data removed]"
          },
          "metadata": {
            "needs_background": "light"
          }
        }
      ],
      "source": [
        "sns.displot(df['torque'])"
      ],
      "id": "Ect7ZjZzH8LS"
    },
    {
      "cell_type": "code",
      "execution_count": null,
      "metadata": {
        "id": "etdp86MsH8Ed",
        "colab": {
          "base_uri": "https://localhost:8080/"
        },
        "outputId": "53710fe4-fb69-4a0d-d18f-60a56592856e"
      },
      "outputs": [
        {
          "output_type": "execute_result",
          "data": {
            "text/plain": [
              "1.5747589372936428"
            ]
          },
          "metadata": {},
          "execution_count": 67
        }
      ],
      "source": [
        "df['torque'].skew()"
      ],
      "id": "etdp86MsH8Ed"
    },
    {
      "cell_type": "code",
      "execution_count": null,
      "metadata": {
        "id": "5raXtQp3H79K"
      },
      "outputs": [],
      "source": [
        "df.drop(df[df['torque'] > 400 ].index, inplace = True)"
      ],
      "id": "5raXtQp3H79K"
    },
    {
      "cell_type": "code",
      "execution_count": null,
      "metadata": {
        "id": "bislXvtVJHX7",
        "colab": {
          "base_uri": "https://localhost:8080/"
        },
        "outputId": "c5591a61-ec50-4742-c048-fe21cfee11c1"
      },
      "outputs": [
        {
          "output_type": "execute_result",
          "data": {
            "text/plain": [
              "<seaborn.axisgrid.FacetGrid at 0x7fc39b7a2910>"
            ]
          },
          "metadata": {},
          "execution_count": 69
        },
        {
          "output_type": "display_data",
          "data": {
            "text/plain": [
              "<Figure size 360x360 with 1 Axes>"
            ],
            "image/png": "[encoded data removed]"
          },
          "metadata": {
            "needs_background": "light"
          }
        }
      ],
      "source": [
        "sns.displot(df['torque'])"
      ],
      "id": "bislXvtVJHX7"
    },
    {
      "cell_type": "code",
      "execution_count": null,
      "metadata": {
        "id": "7W5-P6cDJMR6",
        "colab": {
          "base_uri": "https://localhost:8080/"
        },
        "outputId": "3d20fa76-bbc6-4b48-cd7f-c69245264f49"
      },
      "outputs": [
        {
          "output_type": "execute_result",
          "data": {
            "text/plain": [
              "0.6768919604313836"
            ]
          },
          "metadata": {},
          "execution_count": 70
        }
      ],
      "source": [
        "df['torque'].skew()"
      ],
      "id": "7W5-P6cDJMR6"
    },
    {
      "cell_type": "code",
      "execution_count": null,
      "metadata": {
        "id": "k9I585JjH71m",
        "colab": {
          "base_uri": "https://localhost:8080/"
        },
        "outputId": "28f447a4-e085-4b40-90c3-2e533b7fc01a"
      },
      "outputs": [
        {
          "output_type": "display_data",
          "data": {
            "text/plain": [
              "<Figure size 432x288 with 1 Axes>"
            ],
            "image/png": "[encoded data removed]"
          },
          "metadata": {
            "needs_background": "light"
          }
        }
      ],
      "source": [
        "torque = df.torque.values\n",
        "sp = df.selling_price.values\n",
        "\n",
        "plt.scatter(torque,sp, alpha=0.05)\n",
        "plt.xlabel(\"Torque\")\n",
        "plt.ylabel(\"Selling Price\")\n",
        "plt.show()"
      ],
      "id": "k9I585JjH71m"
    },
    {
      "cell_type": "code",
      "execution_count": null,
      "metadata": {
        "id": "c5da4e32"
      },
      "outputs": [],
      "source": [
        "for column in ['year','max_power','torque']:\n",
        "    df[column] = (df[column] - df[column].min()) / (df[column].max() - df[column].min())    "
      ],
      "id": "c5da4e32"
    },
    {
      "cell_type": "code",
      "execution_count": null,
      "metadata": {
        "id": "33206a26",
        "colab": {
          "base_uri": "https://localhost:8080/"
        },
        "outputId": "6594c615-0c79-4137-874b-7f29a8ac20be"
      },
      "outputs": [
        {
          "output_type": "execute_result",
          "data": {
            "text/plain": [
              "              year  selling_price    max_power       torque\n",
              "count  7196.000000   7.196000e+03  7196.000000  7196.000000\n",
              "mean      0.623471   4.727442e+05     0.355624     0.328506\n",
              "std       0.218915   2.674578e+05     0.166594     0.196719\n",
              "min       0.000000   3.150400e+04     0.000000     0.000000\n",
              "25%       0.500000   2.600000e+05     0.239945     0.181303\n",
              "50%       0.687500   4.349990e+05     0.334219     0.311615\n",
              "75%       0.812500   6.350000e+05     0.448534     0.433428\n",
              "max       1.000000   1.500000e+06     1.000000     1.000000"
            ],
            "text/html": [
              "\n",
              "  <div id=\"df-a514b6da-3ab7-4fd6-a97b-a744d723fdfd\">\n",
              "    <div class=\"colab-df-container\">\n",
              "      <div>\n",
              "<style scoped>\n",
              "    .dataframe tbody tr th:only-of-type {\n",
              "        vertical-align: middle;\n",
              "    }\n",
              "\n",
              "    .dataframe tbody tr th {\n",
              "        vertical-align: top;\n",
              "    }\n",
              "\n",
              "    .dataframe thead th {\n",
              "        text-align: right;\n",
              "    }\n",
              "</style>\n",
              "<table border=\"1\" class=\"dataframe\">\n",
              "  <thead>\n",
              "    <tr style=\"text-align: right;\">\n",
              "      <th></th>\n",
              "      <th>year</th>\n",
              "      <th>selling_price</th>\n",
              "      <th>max_power</th>\n",
              "      <th>torque</th>\n",
              "    </tr>\n",
              "  </thead>\n",
              "  <tbody>\n",
              "    <tr>\n",
              "      <th>count</th>\n",
              "      <td>7196.000000</td>\n",
              "      <td>7.196000e+03</td>\n",
              "      <td>7196.000000</td>\n",
              "      <td>7196.000000</td>\n",
              "    </tr>\n",
              "    <tr>\n",
              "      <th>mean</th>\n",
              "      <td>0.623471</td>\n",
              "      <td>4.727442e+05</td>\n",
              "      <td>0.355624</td>\n",
              "      <td>0.328506</td>\n",
              "    </tr>\n",
              "    <tr>\n",
              "      <th>std</th>\n",
              "      <td>0.218915</td>\n",
              "      <td>2.674578e+05</td>\n",
              "      <td>0.166594</td>\n",
              "      <td>0.196719</td>\n",
              "    </tr>\n",
              "    <tr>\n",
              "      <th>min</th>\n",
              "      <td>0.000000</td>\n",
              "      <td>3.150400e+04</td>\n",
              "      <td>0.000000</td>\n",
              "      <td>0.000000</td>\n",
              "    </tr>\n",
              "    <tr>\n",
              "      <th>25%</th>\n",
              "      <td>0.500000</td>\n",
              "      <td>2.600000e+05</td>\n",
              "      <td>0.239945</td>\n",
              "      <td>0.181303</td>\n",
              "    </tr>\n",
              "    <tr>\n",
              "      <th>50%</th>\n",
              "      <td>0.687500</td>\n",
              "      <td>4.349990e+05</td>\n",
              "      <td>0.334219</td>\n",
              "      <td>0.311615</td>\n",
              "    </tr>\n",
              "    <tr>\n",
              "      <th>75%</th>\n",
              "      <td>0.812500</td>\n",
              "      <td>6.350000e+05</td>\n",
              "      <td>0.448534</td>\n",
              "      <td>0.433428</td>\n",
              "    </tr>\n",
              "    <tr>\n",
              "      <th>max</th>\n",
              "      <td>1.000000</td>\n",
              "      <td>1.500000e+06</td>\n",
              "      <td>1.000000</td>\n",
              "      <td>1.000000</td>\n",
              "    </tr>\n",
              "  </tbody>\n",
              "</table>\n",
              "</div>\n",
              "      <button class=\"colab-df-convert\" onclick=\"convertToInteractive('df-a514b6da-3ab7-4fd6-a97b-a744d723fdfd')\"\n",
              "              title=\"Convert this dataframe to an interactive table.\"\n",
              "              style=\"display:none;\">\n",
              "        \n",
              "  <svg xmlns=\"http://www.w3.org/2000/svg\" height=\"24px\"viewBox=\"0 0 24 24\"\n",
              "       width=\"24px\">\n",
              "    <path d=\"M0 0h24v24H0V0z\" fill=\"none\"/>\n",
              "    <path d=\"M18.56 5.44l.94 2.06.94-2.06 2.06-.94-2.06-.94-.94-2.06-.94 2.06-2.06.94zm-11 1L8.5 8.5l.94-2.06 2.06-.94-2.06-.94L8.5 2.5l-.94 2.06-2.06.94zm10 10l.94 2.06.94-2.06 2.06-.94-2.06-.94-.94-2.06-.94 2.06-2.06.94z\"/><path d=\"M17.41 7.96l-1.37-1.37c-.4-.4-.92-.59-1.43-.59-.52 0-1.04.2-1.43.59L10.3 9.45l-7.72 7.72c-.78.78-.78 2.05 0 2.83L4 21.41c.39.39.9.59 1.41.59.51 0 1.02-.2 1.41-.59l7.78-7.78 2.81-2.81c.8-.78.8-2.07 0-2.86zM5.41 20L4 18.59l7.72-7.72 1.47 1.35L5.41 20z\"/>\n",
              "  </svg>\n",
              "      </button>\n",
              "      \n",
              "  <style>\n",
              "    .colab-df-container {\n",
              "      display:flex;\n",
              "      flex-wrap:wrap;\n",
              "      gap: 12px;\n",
              "    }\n",
              "\n",
              "    .colab-df-convert {\n",
              "      background-color: #E8F0FE;\n",
              "      border: none;\n",
              "      border-radius: 50%;\n",
              "      cursor: pointer;\n",
              "      display: none;\n",
              "      fill: #1967D2;\n",
              "      height: 32px;\n",
              "      padding: 0 0 0 0;\n",
              "      width: 32px;\n",
              "    }\n",
              "\n",
              "    .colab-df-convert:hover {\n",
              "      background-color: #E2EBFA;\n",
              "      box-shadow: 0px 1px 2px rgba(60, 64, 67, 0.3), 0px 1px 3px 1px rgba(60, 64, 67, 0.15);\n",
              "      fill: #174EA6;\n",
              "    }\n",
              "\n",
              "    [theme=dark] .colab-df-convert {\n",
              "      background-color: #3B4455;\n",
              "      fill: #D2E3FC;\n",
              "    }\n",
              "\n",
              "    [theme=dark] .colab-df-convert:hover {\n",
              "      background-color: #434B5C;\n",
              "      box-shadow: 0px 1px 3px 1px rgba(0, 0, 0, 0.15);\n",
              "      filter: drop-shadow(0px 1px 2px rgba(0, 0, 0, 0.3));\n",
              "      fill: #FFFFFF;\n",
              "    }\n",
              "  </style>\n",
              "\n",
              "      <script>\n",
              "        const buttonEl =\n",
              "          document.querySelector('#df-a514b6da-3ab7-4fd6-a97b-a744d723fdfd button.colab-df-convert');\n",
              "        buttonEl.style.display =\n",
              "          google.colab.kernel.accessAllowed ? 'block' : 'none';\n",
              "\n",
              "        async function convertToInteractive(key) {\n",
              "          const element = document.querySelector('#df-a514b6da-3ab7-4fd6-a97b-a744d723fdfd');\n",
              "          const dataTable =\n",
              "            await google.colab.kernel.invokeFunction('convertToInteractive',\n",
              "                                                     [key], {});\n",
              "          if (!dataTable) return;\n",
              "\n",
              "          const docLinkHtml = 'Like what you see? Visit the ' +\n",
              "            '<a target=\"_blank\" href=https://colab.research.google.com/notebooks/data_table.ipynb>data table notebook</a>'\n",
              "            + ' to learn more about interactive tables.';\n",
              "          element.innerHTML = '';\n",
              "          dataTable['output_type'] = 'display_data';\n",
              "          await google.colab.output.renderOutput(dataTable, element);\n",
              "          const docLink = document.createElement('div');\n",
              "          docLink.innerHTML = docLinkHtml;\n",
              "          element.appendChild(docLink);\n",
              "        }\n",
              "      </script>\n",
              "    </div>\n",
              "  </div>\n",
              "  "
            ]
          },
          "metadata": {},
          "execution_count": 73
        }
      ],
      "source": [
        "df.describe()"
      ],
      "id": "33206a26"
    },
    {
      "cell_type": "code",
      "execution_count": null,
      "metadata": {
        "id": "DodNk4BBCZvJ",
        "colab": {
          "base_uri": "https://localhost:8080/"
        },
        "outputId": "47fd40f5-1d47-49a2-b1be-6bd24821c67e"
      },
      "outputs": [
        {
          "output_type": "stream",
          "name": "stderr",
          "text": [
            "/usr/local/lib/python3.7/dist-packages/ipykernel_launcher.py:2: FutureWarning: this method is deprecated in favour of `Styler.format(precision=..)`\n",
            "  \n"
          ]
        },
        {
          "output_type": "execute_result",
          "data": {
            "text/plain": [
              "<pandas.io.formats.style.Styler at 0x7fc39b6b5190>"
            ],
            "text/html": [
              "<style type=\"text/css\">\n",
              "#T_0e48c_row0_col0, #T_0e48c_row1_col1, #T_0e48c_row2_col2, #T_0e48c_row3_col3 {\n",
              "  background-color: #b40426;\n",
              "  color: #f1f1f1;\n",
              "}\n",
              "#T_0e48c_row0_col1 {\n",
              "  background-color: #7a9df8;\n",
              "  color: #f1f1f1;\n",
              "}\n",
              "#T_0e48c_row0_col2, #T_0e48c_row0_col3, #T_0e48c_row3_col0, #T_0e48c_row3_col1 {\n",
              "  background-color: #3b4cc0;\n",
              "  color: #f1f1f1;\n",
              "}\n",
              "#T_0e48c_row1_col0 {\n",
              "  background-color: #f2c9b4;\n",
              "  color: #000000;\n",
              "}\n",
              "#T_0e48c_row1_col2 {\n",
              "  background-color: #e6d7cf;\n",
              "  color: #000000;\n",
              "}\n",
              "#T_0e48c_row1_col3 {\n",
              "  background-color: #dfdbd9;\n",
              "  color: #000000;\n",
              "}\n",
              "#T_0e48c_row2_col0 {\n",
              "  background-color: #465ecf;\n",
              "  color: #f1f1f1;\n",
              "}\n",
              "#T_0e48c_row2_col1 {\n",
              "  background-color: #5977e3;\n",
              "  color: #f1f1f1;\n",
              "}\n",
              "#T_0e48c_row2_col3 {\n",
              "  background-color: #f18f71;\n",
              "  color: #f1f1f1;\n",
              "}\n",
              "#T_0e48c_row3_col2 {\n",
              "  background-color: #f29274;\n",
              "  color: #f1f1f1;\n",
              "}\n",
              "</style>\n",
              "<table id=\"T_0e48c_\" class=\"dataframe\">\n",
              "  <thead>\n",
              "    <tr>\n",
              "      <th class=\"blank level0\" >&nbsp;</th>\n",
              "      <th class=\"col_heading level0 col0\" >year</th>\n",
              "      <th class=\"col_heading level0 col1\" >selling_price</th>\n",
              "      <th class=\"col_heading level0 col2\" >max_power</th>\n",
              "      <th class=\"col_heading level0 col3\" >torque</th>\n",
              "    </tr>\n",
              "  </thead>\n",
              "  <tbody>\n",
              "    <tr>\n",
              "      <th id=\"T_0e48c_level0_row0\" class=\"row_heading level0 row0\" >year</th>\n",
              "      <td id=\"T_0e48c_row0_col0\" class=\"data row0 col0\" >1.00</td>\n",
              "      <td id=\"T_0e48c_row0_col1\" class=\"data row0 col1\" >0.62</td>\n",
              "      <td id=\"T_0e48c_row0_col2\" class=\"data row0 col2\" >0.08</td>\n",
              "      <td id=\"T_0e48c_row0_col3\" class=\"data row0 col3\" >0.04</td>\n",
              "    </tr>\n",
              "    <tr>\n",
              "      <th id=\"T_0e48c_level0_row1\" class=\"row_heading level0 row1\" >selling_price</th>\n",
              "      <td id=\"T_0e48c_row1_col0\" class=\"data row1 col0\" >0.62</td>\n",
              "      <td id=\"T_0e48c_row1_col1\" class=\"data row1 col1\" >1.00</td>\n",
              "      <td id=\"T_0e48c_row1_col2\" class=\"data row1 col2\" >0.58</td>\n",
              "      <td id=\"T_0e48c_row1_col3\" class=\"data row1 col3\" >0.53</td>\n",
              "    </tr>\n",
              "    <tr>\n",
              "      <th id=\"T_0e48c_level0_row2\" class=\"row_heading level0 row2\" >max_power</th>\n",
              "      <td id=\"T_0e48c_row2_col0\" class=\"data row2 col0\" >0.08</td>\n",
              "      <td id=\"T_0e48c_row2_col1\" class=\"data row2 col1\" >0.58</td>\n",
              "      <td id=\"T_0e48c_row2_col2\" class=\"data row2 col2\" >1.00</td>\n",
              "      <td id=\"T_0e48c_row2_col3\" class=\"data row2 col3\" >0.79</td>\n",
              "    </tr>\n",
              "    <tr>\n",
              "      <th id=\"T_0e48c_level0_row3\" class=\"row_heading level0 row3\" >torque</th>\n",
              "      <td id=\"T_0e48c_row3_col0\" class=\"data row3 col0\" >0.04</td>\n",
              "      <td id=\"T_0e48c_row3_col1\" class=\"data row3 col1\" >0.53</td>\n",
              "      <td id=\"T_0e48c_row3_col2\" class=\"data row3 col2\" >0.79</td>\n",
              "      <td id=\"T_0e48c_row3_col3\" class=\"data row3 col3\" >1.00</td>\n",
              "    </tr>\n",
              "  </tbody>\n",
              "</table>\n"
            ]
          },
          "metadata": {},
          "execution_count": 74
        }
      ],
      "source": [
        "corr = df.corr()\n",
        "corr.style.background_gradient(cmap = 'coolwarm').set_precision(2)"
      ],
      "id": "DodNk4BBCZvJ"
    },
    {
      "cell_type": "markdown",
      "metadata": {
        "id": "Rllrcc4rEzSq"
      },
      "source": [
        " Model \n",
        "\n"
      ],
      "id": "Rllrcc4rEzSq"
    },
    {
      "cell_type": "code",
      "execution_count": null,
      "metadata": {
        "id": "ob9k59v8E8JC"
      },
      "outputs": [],
      "source": [
        "from sklearn import linear_model\n",
        "from sklearn.linear_model import LinearRegression\n",
        "from sklearn.model_selection import train_test_split"
      ],
      "id": "ob9k59v8E8JC"
    },
    {
      "cell_type": "code",
      "execution_count": null,
      "metadata": {
        "id": "cOMUgHkbv4r-",
        "colab": {
          "base_uri": "https://localhost:8080/"
        },
        "outputId": "634a818c-be1c-4bb3-e505-3ce0e0f0709a"
      },
      "outputs": [
        {
          "output_type": "execute_result",
          "data": {
            "text/plain": [
              "        year  selling_price  max_power    torque\n",
              "0     0.6250         450000   0.280845  0.405099\n",
              "1     0.6250         370000   0.482072  0.575071\n",
              "2     0.1250         158000   0.308112  0.218130\n",
              "3     0.3750         225000   0.389911  0.487252\n",
              "4     0.1875         130000   0.377641  0.184136\n",
              "...      ...            ...        ...       ...\n",
              "7884  0.5625         320000   0.341172  0.186969\n",
              "7885  0.1875         135000   0.526244  0.532578\n",
              "7886  0.3125         382000   0.280164  0.405099\n",
              "7887  0.5625         290000   0.253579  0.263456\n",
              "7888  0.5625         290000   0.253579  0.263456\n",
              "\n",
              "[7196 rows x 4 columns]"
            ],
            "text/html": [
              "\n",
              "  <div id=\"df-312f1874-b7ac-4b3f-be84-5c4f70b878a3\">\n",
              "    <div class=\"colab-df-container\">\n",
              "      <div>\n",
              "<style scoped>\n",
              "    .dataframe tbody tr th:only-of-type {\n",
              "        vertical-align: middle;\n",
              "    }\n",
              "\n",
              "    .dataframe tbody tr th {\n",
              "        vertical-align: top;\n",
              "    }\n",
              "\n",
              "    .dataframe thead th {\n",
              "        text-align: right;\n",
              "    }\n",
              "</style>\n",
              "<table border=\"1\" class=\"dataframe\">\n",
              "  <thead>\n",
              "    <tr style=\"text-align: right;\">\n",
              "      <th></th>\n",
              "      <th>year</th>\n",
              "      <th>selling_price</th>\n",
              "      <th>max_power</th>\n",
              "      <th>torque</th>\n",
              "    </tr>\n",
              "  </thead>\n",
              "  <tbody>\n",
              "    <tr>\n",
              "      <th>0</th>\n",
              "      <td>0.6250</td>\n",
              "      <td>450000</td>\n",
              "      <td>0.280845</td>\n",
              "      <td>0.405099</td>\n",
              "    </tr>\n",
              "    <tr>\n",
              "      <th>1</th>\n",
              "      <td>0.6250</td>\n",
              "      <td>370000</td>\n",
              "      <td>0.482072</td>\n",
              "      <td>0.575071</td>\n",
              "    </tr>\n",
              "    <tr>\n",
              "      <th>2</th>\n",
              "      <td>0.1250</td>\n",
              "      <td>158000</td>\n",
              "      <td>0.308112</td>\n",
              "      <td>0.218130</td>\n",
              "    </tr>\n",
              "    <tr>\n",
              "      <th>3</th>\n",
              "      <td>0.3750</td>\n",
              "      <td>225000</td>\n",
              "      <td>0.389911</td>\n",
              "      <td>0.487252</td>\n",
              "    </tr>\n",
              "    <tr>\n",
              "      <th>4</th>\n",
              "      <td>0.1875</td>\n",
              "      <td>130000</td>\n",
              "      <td>0.377641</td>\n",
              "      <td>0.184136</td>\n",
              "    </tr>\n",
              "    <tr>\n",
              "      <th>...</th>\n",
              "      <td>...</td>\n",
              "      <td>...</td>\n",
              "      <td>...</td>\n",
              "      <td>...</td>\n",
              "    </tr>\n",
              "    <tr>\n",
              "      <th>7884</th>\n",
              "      <td>0.5625</td>\n",
              "      <td>320000</td>\n",
              "      <td>0.341172</td>\n",
              "      <td>0.186969</td>\n",
              "    </tr>\n",
              "    <tr>\n",
              "      <th>7885</th>\n",
              "      <td>0.1875</td>\n",
              "      <td>135000</td>\n",
              "      <td>0.526244</td>\n",
              "      <td>0.532578</td>\n",
              "    </tr>\n",
              "    <tr>\n",
              "      <th>7886</th>\n",
              "      <td>0.3125</td>\n",
              "      <td>382000</td>\n",
              "      <td>0.280164</td>\n",
              "      <td>0.405099</td>\n",
              "    </tr>\n",
              "    <tr>\n",
              "      <th>7887</th>\n",
              "      <td>0.5625</td>\n",
              "      <td>290000</td>\n",
              "      <td>0.253579</td>\n",
              "      <td>0.263456</td>\n",
              "    </tr>\n",
              "    <tr>\n",
              "      <th>7888</th>\n",
              "      <td>0.5625</td>\n",
              "      <td>290000</td>\n",
              "      <td>0.253579</td>\n",
              "      <td>0.263456</td>\n",
              "    </tr>\n",
              "  </tbody>\n",
              "</table>\n",
              "<p>7196 rows × 4 columns</p>\n",
              "</div>\n",
              "      <button class=\"colab-df-convert\" onclick=\"convertToInteractive('df-312f1874-b7ac-4b3f-be84-5c4f70b878a3')\"\n",
              "              title=\"Convert this dataframe to an interactive table.\"\n",
              "              style=\"display:none;\">\n",
              "        \n",
              "  <svg xmlns=\"http://www.w3.org/2000/svg\" height=\"24px\"viewBox=\"0 0 24 24\"\n",
              "       width=\"24px\">\n",
              "    <path d=\"M0 0h24v24H0V0z\" fill=\"none\"/>\n",
              "    <path d=\"M18.56 5.44l.94 2.06.94-2.06 2.06-.94-2.06-.94-.94-2.06-.94 2.06-2.06.94zm-11 1L8.5 8.5l.94-2.06 2.06-.94-2.06-.94L8.5 2.5l-.94 2.06-2.06.94zm10 10l.94 2.06.94-2.06 2.06-.94-2.06-.94-.94-2.06-.94 2.06-2.06.94z\"/><path d=\"M17.41 7.96l-1.37-1.37c-.4-.4-.92-.59-1.43-.59-.52 0-1.04.2-1.43.59L10.3 9.45l-7.72 7.72c-.78.78-.78 2.05 0 2.83L4 21.41c.39.39.9.59 1.41.59.51 0 1.02-.2 1.41-.59l7.78-7.78 2.81-2.81c.8-.78.8-2.07 0-2.86zM5.41 20L4 18.59l7.72-7.72 1.47 1.35L5.41 20z\"/>\n",
              "  </svg>\n",
              "      </button>\n",
              "      \n",
              "  <style>\n",
              "    .colab-df-container {\n",
              "      display:flex;\n",
              "      flex-wrap:wrap;\n",
              "      gap: 12px;\n",
              "    }\n",
              "\n",
              "    .colab-df-convert {\n",
              "      background-color: #E8F0FE;\n",
              "      border: none;\n",
              "      border-radius: 50%;\n",
              "      cursor: pointer;\n",
              "      display: none;\n",
              "      fill: #1967D2;\n",
              "      height: 32px;\n",
              "      padding: 0 0 0 0;\n",
              "      width: 32px;\n",
              "    }\n",
              "\n",
              "    .colab-df-convert:hover {\n",
              "      background-color: #E2EBFA;\n",
              "      box-shadow: 0px 1px 2px rgba(60, 64, 67, 0.3), 0px 1px 3px 1px rgba(60, 64, 67, 0.15);\n",
              "      fill: #174EA6;\n",
              "    }\n",
              "\n",
              "    [theme=dark] .colab-df-convert {\n",
              "      background-color: #3B4455;\n",
              "      fill: #D2E3FC;\n",
              "    }\n",
              "\n",
              "    [theme=dark] .colab-df-convert:hover {\n",
              "      background-color: #434B5C;\n",
              "      box-shadow: 0px 1px 3px 1px rgba(0, 0, 0, 0.15);\n",
              "      filter: drop-shadow(0px 1px 2px rgba(0, 0, 0, 0.3));\n",
              "      fill: #FFFFFF;\n",
              "    }\n",
              "  </style>\n",
              "\n",
              "      <script>\n",
              "        const buttonEl =\n",
              "          document.querySelector('#df-312f1874-b7ac-4b3f-be84-5c4f70b878a3 button.colab-df-convert');\n",
              "        buttonEl.style.display =\n",
              "          google.colab.kernel.accessAllowed ? 'block' : 'none';\n",
              "\n",
              "        async function convertToInteractive(key) {\n",
              "          const element = document.querySelector('#df-312f1874-b7ac-4b3f-be84-5c4f70b878a3');\n",
              "          const dataTable =\n",
              "            await google.colab.kernel.invokeFunction('convertToInteractive',\n",
              "                                                     [key], {});\n",
              "          if (!dataTable) return;\n",
              "\n",
              "          const docLinkHtml = 'Like what you see? Visit the ' +\n",
              "            '<a target=\"_blank\" href=https://colab.research.google.com/notebooks/data_table.ipynb>data table notebook</a>'\n",
              "            + ' to learn more about interactive tables.';\n",
              "          element.innerHTML = '';\n",
              "          dataTable['output_type'] = 'display_data';\n",
              "          await google.colab.output.renderOutput(dataTable, element);\n",
              "          const docLink = document.createElement('div');\n",
              "          docLink.innerHTML = docLinkHtml;\n",
              "          element.appendChild(docLink);\n",
              "        }\n",
              "      </script>\n",
              "    </div>\n",
              "  </div>\n",
              "  "
            ]
          },
          "metadata": {},
          "execution_count": 76
        }
      ],
      "source": [
        "df"
      ],
      "id": "cOMUgHkbv4r-"
    },
    {
      "cell_type": "code",
      "execution_count": null,
      "metadata": {
        "id": "Mf0pOeJP1hrX"
      },
      "outputs": [],
      "source": [
        "sp = df.pop('selling_price')\n",
        "df.insert(3,'selling_price',sp)"
      ],
      "id": "Mf0pOeJP1hrX"
    },
    {
      "cell_type": "code",
      "execution_count": null,
      "metadata": {
        "id": "H_MISPj71jZ_",
        "colab": {
          "base_uri": "https://localhost:8080/"
        },
        "outputId": "e0d43636-fb4c-4823-835c-9fd2802689d1"
      },
      "outputs": [
        {
          "output_type": "execute_result",
          "data": {
            "text/plain": [
              "        year  max_power    torque  selling_price\n",
              "0     0.6250   0.280845  0.405099         450000\n",
              "1     0.6250   0.482072  0.575071         370000\n",
              "2     0.1250   0.308112  0.218130         158000\n",
              "3     0.3750   0.389911  0.487252         225000\n",
              "4     0.1875   0.377641  0.184136         130000\n",
              "...      ...        ...       ...            ...\n",
              "7884  0.5625   0.341172  0.186969         320000\n",
              "7885  0.1875   0.526244  0.532578         135000\n",
              "7886  0.3125   0.280164  0.405099         382000\n",
              "7887  0.5625   0.253579  0.263456         290000\n",
              "7888  0.5625   0.253579  0.263456         290000\n",
              "\n",
              "[7196 rows x 4 columns]"
            ],
            "text/html": [
              "\n",
              "  <div id=\"df-e6a35430-f471-4fe6-b8d7-d7235ebd2a48\">\n",
              "    <div class=\"colab-df-container\">\n",
              "      <div>\n",
              "<style scoped>\n",
              "    .dataframe tbody tr th:only-of-type {\n",
              "        vertical-align: middle;\n",
              "    }\n",
              "\n",
              "    .dataframe tbody tr th {\n",
              "        vertical-align: top;\n",
              "    }\n",
              "\n",
              "    .dataframe thead th {\n",
              "        text-align: right;\n",
              "    }\n",
              "</style>\n",
              "<table border=\"1\" class=\"dataframe\">\n",
              "  <thead>\n",
              "    <tr style=\"text-align: right;\">\n",
              "      <th></th>\n",
              "      <th>year</th>\n",
              "      <th>max_power</th>\n",
              "      <th>torque</th>\n",
              "      <th>selling_price</th>\n",
              "    </tr>\n",
              "  </thead>\n",
              "  <tbody>\n",
              "    <tr>\n",
              "      <th>0</th>\n",
              "      <td>0.6250</td>\n",
              "      <td>0.280845</td>\n",
              "      <td>0.405099</td>\n",
              "      <td>450000</td>\n",
              "    </tr>\n",
              "    <tr>\n",
              "      <th>1</th>\n",
              "      <td>0.6250</td>\n",
              "      <td>0.482072</td>\n",
              "      <td>0.575071</td>\n",
              "      <td>370000</td>\n",
              "    </tr>\n",
              "    <tr>\n",
              "      <th>2</th>\n",
              "      <td>0.1250</td>\n",
              "      <td>0.308112</td>\n",
              "      <td>0.218130</td>\n",
              "      <td>158000</td>\n",
              "    </tr>\n",
              "    <tr>\n",
              "      <th>3</th>\n",
              "      <td>0.3750</td>\n",
              "      <td>0.389911</td>\n",
              "      <td>0.487252</td>\n",
              "      <td>225000</td>\n",
              "    </tr>\n",
              "    <tr>\n",
              "      <th>4</th>\n",
              "      <td>0.1875</td>\n",
              "      <td>0.377641</td>\n",
              "      <td>0.184136</td>\n",
              "      <td>130000</td>\n",
              "    </tr>\n",
              "    <tr>\n",
              "      <th>...</th>\n",
              "      <td>...</td>\n",
              "      <td>...</td>\n",
              "      <td>...</td>\n",
              "      <td>...</td>\n",
              "    </tr>\n",
              "    <tr>\n",
              "      <th>7884</th>\n",
              "      <td>0.5625</td>\n",
              "      <td>0.341172</td>\n",
              "      <td>0.186969</td>\n",
              "      <td>320000</td>\n",
              "    </tr>\n",
              "    <tr>\n",
              "      <th>7885</th>\n",
              "      <td>0.1875</td>\n",
              "      <td>0.526244</td>\n",
              "      <td>0.532578</td>\n",
              "      <td>135000</td>\n",
              "    </tr>\n",
              "    <tr>\n",
              "      <th>7886</th>\n",
              "      <td>0.3125</td>\n",
              "      <td>0.280164</td>\n",
              "      <td>0.405099</td>\n",
              "      <td>382000</td>\n",
              "    </tr>\n",
              "    <tr>\n",
              "      <th>7887</th>\n",
              "      <td>0.5625</td>\n",
              "      <td>0.253579</td>\n",
              "      <td>0.263456</td>\n",
              "      <td>290000</td>\n",
              "    </tr>\n",
              "    <tr>\n",
              "      <th>7888</th>\n",
              "      <td>0.5625</td>\n",
              "      <td>0.253579</td>\n",
              "      <td>0.263456</td>\n",
              "      <td>290000</td>\n",
              "    </tr>\n",
              "  </tbody>\n",
              "</table>\n",
              "<p>7196 rows × 4 columns</p>\n",
              "</div>\n",
              "      <button class=\"colab-df-convert\" onclick=\"convertToInteractive('df-e6a35430-f471-4fe6-b8d7-d7235ebd2a48')\"\n",
              "              title=\"Convert this dataframe to an interactive table.\"\n",
              "              style=\"display:none;\">\n",
              "        \n",
              "  <svg xmlns=\"http://www.w3.org/2000/svg\" height=\"24px\"viewBox=\"0 0 24 24\"\n",
              "       width=\"24px\">\n",
              "    <path d=\"M0 0h24v24H0V0z\" fill=\"none\"/>\n",
              "    <path d=\"M18.56 5.44l.94 2.06.94-2.06 2.06-.94-2.06-.94-.94-2.06-.94 2.06-2.06.94zm-11 1L8.5 8.5l.94-2.06 2.06-.94-2.06-.94L8.5 2.5l-.94 2.06-2.06.94zm10 10l.94 2.06.94-2.06 2.06-.94-2.06-.94-.94-2.06-.94 2.06-2.06.94z\"/><path d=\"M17.41 7.96l-1.37-1.37c-.4-.4-.92-.59-1.43-.59-.52 0-1.04.2-1.43.59L10.3 9.45l-7.72 7.72c-.78.78-.78 2.05 0 2.83L4 21.41c.39.39.9.59 1.41.59.51 0 1.02-.2 1.41-.59l7.78-7.78 2.81-2.81c.8-.78.8-2.07 0-2.86zM5.41 20L4 18.59l7.72-7.72 1.47 1.35L5.41 20z\"/>\n",
              "  </svg>\n",
              "      </button>\n",
              "      \n",
              "  <style>\n",
              "    .colab-df-container {\n",
              "      display:flex;\n",
              "      flex-wrap:wrap;\n",
              "      gap: 12px;\n",
              "    }\n",
              "\n",
              "    .colab-df-convert {\n",
              "      background-color: #E8F0FE;\n",
              "      border: none;\n",
              "      border-radius: 50%;\n",
              "      cursor: pointer;\n",
              "      display: none;\n",
              "      fill: #1967D2;\n",
              "      height: 32px;\n",
              "      padding: 0 0 0 0;\n",
              "      width: 32px;\n",
              "    }\n",
              "\n",
              "    .colab-df-convert:hover {\n",
              "      background-color: #E2EBFA;\n",
              "      box-shadow: 0px 1px 2px rgba(60, 64, 67, 0.3), 0px 1px 3px 1px rgba(60, 64, 67, 0.15);\n",
              "      fill: #174EA6;\n",
              "    }\n",
              "\n",
              "    [theme=dark] .colab-df-convert {\n",
              "      background-color: #3B4455;\n",
              "      fill: #D2E3FC;\n",
              "    }\n",
              "\n",
              "    [theme=dark] .colab-df-convert:hover {\n",
              "      background-color: #434B5C;\n",
              "      box-shadow: 0px 1px 3px 1px rgba(0, 0, 0, 0.15);\n",
              "      filter: drop-shadow(0px 1px 2px rgba(0, 0, 0, 0.3));\n",
              "      fill: #FFFFFF;\n",
              "    }\n",
              "  </style>\n",
              "\n",
              "      <script>\n",
              "        const buttonEl =\n",
              "          document.querySelector('#df-e6a35430-f471-4fe6-b8d7-d7235ebd2a48 button.colab-df-convert');\n",
              "        buttonEl.style.display =\n",
              "          google.colab.kernel.accessAllowed ? 'block' : 'none';\n",
              "\n",
              "        async function convertToInteractive(key) {\n",
              "          const element = document.querySelector('#df-e6a35430-f471-4fe6-b8d7-d7235ebd2a48');\n",
              "          const dataTable =\n",
              "            await google.colab.kernel.invokeFunction('convertToInteractive',\n",
              "                                                     [key], {});\n",
              "          if (!dataTable) return;\n",
              "\n",
              "          const docLinkHtml = 'Like what you see? Visit the ' +\n",
              "            '<a target=\"_blank\" href=https://colab.research.google.com/notebooks/data_table.ipynb>data table notebook</a>'\n",
              "            + ' to learn more about interactive tables.';\n",
              "          element.innerHTML = '';\n",
              "          dataTable['output_type'] = 'display_data';\n",
              "          await google.colab.output.renderOutput(dataTable, element);\n",
              "          const docLink = document.createElement('div');\n",
              "          docLink.innerHTML = docLinkHtml;\n",
              "          element.appendChild(docLink);\n",
              "        }\n",
              "      </script>\n",
              "    </div>\n",
              "  </div>\n",
              "  "
            ]
          },
          "metadata": {},
          "execution_count": 78
        }
      ],
      "source": [
        "df"
      ],
      "id": "H_MISPj71jZ_"
    },
    {
      "cell_type": "markdown",
      "metadata": {
        "id": "OgRDjX2trxHZ"
      },
      "source": [
        "Model 1\n"
      ],
      "id": "OgRDjX2trxHZ"
    },
    {
      "cell_type": "code",
      "execution_count": null,
      "metadata": {
        "id": "zmqqTtDHtzht"
      },
      "outputs": [],
      "source": [
        "x1 = df.iloc[:,:-3]\n",
        "y1 = df.iloc[:,3:4]"
      ],
      "id": "zmqqTtDHtzht"
    },
    {
      "cell_type": "code",
      "execution_count": null,
      "metadata": {
        "id": "XQfAgDyQuF1F",
        "colab": {
          "base_uri": "https://localhost:8080/"
        },
        "outputId": "fed154e2-1a19-446d-82ca-42f71a8ba0f7"
      },
      "outputs": [
        {
          "output_type": "execute_result",
          "data": {
            "text/plain": [
              "((7196, 1), (7196, 1))"
            ]
          },
          "metadata": {},
          "execution_count": 80
        }
      ],
      "source": [
        "x1.shape, y1.shape"
      ],
      "id": "XQfAgDyQuF1F"
    },
    {
      "cell_type": "code",
      "execution_count": null,
      "metadata": {
        "id": "r3R_kHpFvZLw"
      },
      "outputs": [],
      "source": [
        "x1_train, x1_test, y1_train, y1_test = train_test_split(x1, y1, test_size = 0.08, random_state = 36)"
      ],
      "id": "r3R_kHpFvZLw"
    },
    {
      "cell_type": "code",
      "execution_count": null,
      "metadata": {
        "id": "QJq_EStcwxPd",
        "colab": {
          "base_uri": "https://localhost:8080/"
        },
        "outputId": "28ab68cc-530a-4835-b4b8-f305e5002a41"
      },
      "outputs": [
        {
          "output_type": "execute_result",
          "data": {
            "text/plain": [
              "((6620, 1), (6620, 1), (576, 1), (576, 1))"
            ]
          },
          "metadata": {},
          "execution_count": 82
        }
      ],
      "source": [
        "x1_train.reset_index(inplace = True, drop = True)\n",
        "x1_test.reset_index(inplace = True, drop = True)\n",
        "y1_train.reset_index(inplace = True, drop = True)\n",
        "y1_test.reset_index(inplace = True, drop = True)\n",
        "x1_train.shape, y1_train.shape, x1_test.shape, y1_test.shape"
      ],
      "id": "QJq_EStcwxPd"
    },
    {
      "cell_type": "code",
      "execution_count": null,
      "metadata": {
        "id": "3NH21aqow2zt"
      },
      "outputs": [],
      "source": [
        "model1 = linear_model.LinearRegression()"
      ],
      "id": "3NH21aqow2zt"
    },
    {
      "cell_type": "code",
      "execution_count": null,
      "metadata": {
        "id": "yYVisRanxloi",
        "colab": {
          "base_uri": "https://localhost:8080/"
        },
        "outputId": "1efd4e3c-6660-4c44-c7eb-1f732d5ad8bf"
      },
      "outputs": [
        {
          "output_type": "execute_result",
          "data": {
            "text/plain": [
              "LinearRegression()"
            ]
          },
          "metadata": {},
          "execution_count": 84
        }
      ],
      "source": [
        "model1.fit(x1_train, y1_train)"
      ],
      "id": "yYVisRanxloi"
    },
    {
      "cell_type": "code",
      "execution_count": null,
      "metadata": {
        "id": "uR0wqetjxqt9"
      },
      "outputs": [],
      "source": [
        "y1_pred = model1.predict(x1_test)"
      ],
      "id": "uR0wqetjxqt9"
    },
    {
      "cell_type": "code",
      "execution_count": null,
      "metadata": {
        "id": "LIYsNcwB96wO",
        "colab": {
          "base_uri": "https://localhost:8080/"
        },
        "outputId": "a5fddf60-cc76-4b61-b9f3-9e33980dbeed"
      },
      "outputs": [
        {
          "output_type": "execute_result",
          "data": {
            "text/plain": [
              "((576, 1), (576, 1))"
            ]
          },
          "metadata": {},
          "execution_count": 86
        }
      ],
      "source": [
        "y1_pred.shape, y1_test.shape"
      ],
      "id": "LIYsNcwB96wO"
    },
    {
      "cell_type": "code",
      "execution_count": null,
      "metadata": {
        "id": "nV98Y_Po_nLN"
      },
      "outputs": [],
      "source": [
        "actual1 = []\n",
        "for val in y1_test.values:\n",
        "  actual1.append(val)"
      ],
      "id": "nV98Y_Po_nLN"
    },
    {
      "cell_type": "code",
      "execution_count": null,
      "metadata": {
        "id": "Ci07HGlT2AM3"
      },
      "outputs": [],
      "source": [
        "#32\n",
        "#42\n",
        "min_r = 240\n",
        "max_r = 250"
      ],
      "id": "Ci07HGlT2AM3"
    },
    {
      "cell_type": "code",
      "execution_count": null,
      "metadata": {
        "id": "MxvM9ZkXyrs-",
        "colab": {
          "base_uri": "https://localhost:8080/"
        },
        "outputId": "66860ebe-5d5e-4188-e166-5ce3cbbdac16"
      },
      "outputs": [
        {
          "output_type": "display_data",
          "data": {
            "text/plain": [
              "<Figure size 432x288 with 1 Axes>"
            ],
            "image/png": "[encoded data removed]"
          },
          "metadata": {
            "needs_background": "light"
          }
        }
      ],
      "source": [
        "plt.plot(y1_pred[min_r:max_r])\n",
        "plt.plot(actual1[min_r:max_r])\n",
        "plt.legend(['Predicted','Actual'])\n",
        "plt.show()"
      ],
      "id": "MxvM9ZkXyrs-"
    },
    {
      "cell_type": "code",
      "execution_count": null,
      "metadata": {
        "id": "5nC9o7DIxrpa",
        "colab": {
          "base_uri": "https://localhost:8080/"
        },
        "outputId": "636ff241-8d86-461e-86ff-88e422a64a6d"
      },
      "outputs": [
        {
          "output_type": "execute_result",
          "data": {
            "text/plain": [
              "<matplotlib.legend.Legend at 0x7fc395cc72d0>"
            ]
          },
          "metadata": {},
          "execution_count": 90
        },
        {
          "output_type": "display_data",
          "data": {
            "text/plain": [
              "<Figure size 432x288 with 1 Axes>"
            ],
            "image/png": "[encoded data removed]"
          },
          "metadata": {
            "needs_background": "light"
          }
        }
      ],
      "source": [
        "plt.scatter(x1_test, y1_test, alpha = 0.3)\n",
        "plt.plot(x1_test,y1_pred, color = 'red')\n",
        "plt.xlabel('Year (scaled)')\n",
        "plt.ylabel(\"Selling Price\")\n",
        "plt.legend(['Best Fit Line', 'Data Points'])"
      ],
      "id": "5nC9o7DIxrpa"
    },
    {
      "cell_type": "markdown",
      "metadata": {
        "id": "6V1nKYYiC_Ae"
      },
      "source": [
        "Performance Measure"
      ],
      "id": "6V1nKYYiC_Ae"
    },
    {
      "cell_type": "code",
      "execution_count": null,
      "metadata": {
        "id": "TOf0xykVEYnu"
      },
      "outputs": [],
      "source": [
        "from sklearn.metrics import mean_absolute_error, r2_score, mean_squared_error"
      ],
      "id": "TOf0xykVEYnu"
    },
    {
      "cell_type": "code",
      "execution_count": null,
      "metadata": {
        "id": "KpgiANJm3sL1",
        "colab": {
          "base_uri": "https://localhost:8080/"
        },
        "outputId": "20700382-cbf4-46b5-e541-5405b4e7d65b"
      },
      "outputs": [
        {
          "output_type": "stream",
          "name": "stdout",
          "text": [
            "Coefficients [[761168.94809239]]\n",
            "Intercept [-2020.46070823]\n"
          ]
        }
      ],
      "source": [
        "print('Coefficients',model1.coef_)\n",
        "print('Intercept',model1.intercept_)"
      ],
      "id": "KpgiANJm3sL1"
    },
    {
      "cell_type": "code",
      "execution_count": null,
      "metadata": {
        "id": "Ce77DcBWtIZ5"
      },
      "outputs": [],
      "source": [
        "ma1 = mean_absolute_error(y1_pred, y1_test)\n",
        "r1 = r2_score(y1_pred, y1_test) \n",
        "ms1 = mean_squared_error(y1_pred, y1_test)"
      ],
      "id": "Ce77DcBWtIZ5"
    },
    {
      "cell_type": "code",
      "execution_count": null,
      "metadata": {
        "id": "k5fEcFLUDJb-",
        "colab": {
          "base_uri": "https://localhost:8080/"
        },
        "outputId": "f4b8f08f-cc85-4a38-d99a-da1dadcedabf"
      },
      "outputs": [
        {
          "output_type": "stream",
          "name": "stdout",
          "text": [
            "Mean Absolute Error 154069.8437544963\n",
            "R-Squared Score -0.3139744503220092\n",
            "Mean Squared Error 0.42494694448853365\n"
          ]
        }
      ],
      "source": [
        "print('Mean Absolute Error',ma1)\n",
        "print('R-Squared Score',r1)\n",
        "print('Mean Squared Error',ms1/100000000000)"
      ],
      "id": "k5fEcFLUDJb-"
    },
    {
      "cell_type": "markdown",
      "metadata": {
        "id": "sw888_xQr0Z5"
      },
      "source": [
        "Model 2"
      ],
      "id": "sw888_xQr0Z5"
    },
    {
      "cell_type": "code",
      "execution_count": null,
      "metadata": {
        "id": "uRDt002tqQuZ"
      },
      "outputs": [],
      "source": [
        "x2 = df.iloc[:,:-1]\n",
        "y2 = df.iloc[:,3:4]"
      ],
      "id": "uRDt002tqQuZ"
    },
    {
      "cell_type": "code",
      "execution_count": null,
      "metadata": {
        "id": "O_cWY2vVr29p",
        "colab": {
          "base_uri": "https://localhost:8080/"
        },
        "outputId": "799d50de-7d15-4da8-d895-c41c1b079099"
      },
      "outputs": [
        {
          "output_type": "execute_result",
          "data": {
            "text/plain": [
              "((7196, 3), (7196, 1))"
            ]
          },
          "metadata": {},
          "execution_count": 96
        }
      ],
      "source": [
        "x2.shape, y2.shape"
      ],
      "id": "O_cWY2vVr29p"
    },
    {
      "cell_type": "code",
      "execution_count": null,
      "metadata": {
        "id": "ZKzXXyCir25V"
      },
      "outputs": [],
      "source": [
        "x2_train, x2_test, y2_train, y2_test = train_test_split(x2, y2, test_size = 0.08, random_state = 36)"
      ],
      "id": "ZKzXXyCir25V"
    },
    {
      "cell_type": "code",
      "execution_count": null,
      "metadata": {
        "id": "HfJi30ekr2ux",
        "colab": {
          "base_uri": "https://localhost:8080/"
        },
        "outputId": "4d0af5aa-30f9-4d95-a940-2c837c4a1a98"
      },
      "outputs": [
        {
          "output_type": "execute_result",
          "data": {
            "text/plain": [
              "((6620, 3), (6620, 1), (576, 3), (576, 1))"
            ]
          },
          "metadata": {},
          "execution_count": 98
        }
      ],
      "source": [
        "x2_train.reset_index(inplace = True, drop = True)\n",
        "x2_test.reset_index(inplace = True, drop = True)\n",
        "y2_train.reset_index(inplace = True, drop = True)\n",
        "y2_test.reset_index(inplace = True, drop = True)\n",
        "x2_train.shape, y2_train.shape, x2_test.shape, y2_test.shape"
      ],
      "id": "HfJi30ekr2ux"
    },
    {
      "cell_type": "code",
      "execution_count": null,
      "metadata": {
        "id": "D9pOmQ-Pr2pg"
      },
      "outputs": [],
      "source": [
        "model2 = linear_model.LinearRegression()"
      ],
      "id": "D9pOmQ-Pr2pg"
    },
    {
      "cell_type": "code",
      "execution_count": null,
      "metadata": {
        "id": "XL4jMYu6r2kZ",
        "colab": {
          "base_uri": "https://localhost:8080/"
        },
        "outputId": "7b6a77d1-3287-4238-8412-40525db7fcea"
      },
      "outputs": [
        {
          "output_type": "execute_result",
          "data": {
            "text/plain": [
              "LinearRegression()"
            ]
          },
          "metadata": {},
          "execution_count": 100
        }
      ],
      "source": [
        "model2.fit(x2_train, y2_train)"
      ],
      "id": "XL4jMYu6r2kZ"
    },
    {
      "cell_type": "code",
      "execution_count": null,
      "metadata": {
        "id": "eDlAmR9Dr2fh"
      },
      "outputs": [],
      "source": [
        "y2_pred = model2.predict(x2_test)"
      ],
      "id": "eDlAmR9Dr2fh"
    },
    {
      "cell_type": "code",
      "execution_count": null,
      "metadata": {
        "id": "3PXYwGnQr2aB",
        "colab": {
          "base_uri": "https://localhost:8080/"
        },
        "outputId": "924f0dcf-15cd-4d95-cc94-a255c46fc08d"
      },
      "outputs": [
        {
          "output_type": "execute_result",
          "data": {
            "text/plain": [
              "((576, 1), (576, 1))"
            ]
          },
          "metadata": {},
          "execution_count": 102
        }
      ],
      "source": [
        "y2_pred.shape, y2_test.shape"
      ],
      "id": "3PXYwGnQr2aB"
    },
    {
      "cell_type": "code",
      "execution_count": null,
      "metadata": {
        "id": "rl5axpAfr2Uh"
      },
      "outputs": [],
      "source": [
        "actual2 = []\n",
        "for val in y2_test.values:\n",
        "  actual2.append(val)"
      ],
      "id": "rl5axpAfr2Uh"
    },
    {
      "cell_type": "code",
      "execution_count": null,
      "metadata": {
        "id": "u204gDIIr2Ph",
        "colab": {
          "base_uri": "https://localhost:8080/"
        },
        "outputId": "b621162a-c104-4460-aa27-860a9f50bcfc"
      },
      "outputs": [
        {
          "output_type": "display_data",
          "data": {
            "text/plain": [
              "<Figure size 432x288 with 1 Axes>"
            ],
            "image/png": "[encoded data removed]"
          },
          "metadata": {
            "needs_background": "light"
          }
        }
      ],
      "source": [
        "plt.plot(y2_pred[min_r:max_r])\n",
        "plt.plot(actual2[min_r:max_r])\n",
        "plt.legend(['Predicted','Actual'])\n",
        "plt.show()"
      ],
      "id": "u204gDIIr2Ph"
    },
    {
      "cell_type": "markdown",
      "metadata": {
        "id": "Y46JAEur14OX"
      },
      "source": [
        "Performance Measure"
      ],
      "id": "Y46JAEur14OX"
    },
    {
      "cell_type": "code",
      "execution_count": null,
      "metadata": {
        "id": "0QJBFiHNr2Jx",
        "colab": {
          "base_uri": "https://localhost:8080/"
        },
        "outputId": "d8c077b8-1945-4627-faee-0e6033eb085c"
      },
      "outputs": [
        {
          "output_type": "stream",
          "name": "stdout",
          "text": [
            "Coefficients [[716663.05176757 558341.94579758 315008.19588907]]\n",
            "Intercept [-276895.85694868]\n"
          ]
        }
      ],
      "source": [
        "print('Coefficients',model2.coef_)\n",
        "print('Intercept',model2.intercept_)"
      ],
      "id": "0QJBFiHNr2Jx"
    },
    {
      "cell_type": "code",
      "execution_count": null,
      "metadata": {
        "id": "Mv8LTiy3tc3K"
      },
      "outputs": [],
      "source": [
        "ma2 = mean_absolute_error(y2_pred, y2_test)\n",
        "r2 = r2_score(y2_pred, y2_test) \n",
        "ms2 = mean_squared_error(y2_pred, y2_test)"
      ],
      "id": "Mv8LTiy3tc3K"
    },
    {
      "cell_type": "code",
      "execution_count": null,
      "metadata": {
        "id": "z3_BuXPkr2EB",
        "colab": {
          "base_uri": "https://localhost:8080/"
        },
        "outputId": "ddb4a9f8-8ab8-4c8e-da81-7cc23abb5c9e"
      },
      "outputs": [
        {
          "output_type": "stream",
          "name": "stdout",
          "text": [
            "Mean Absolute Error 111531.2110946419\n",
            "R-Squared Score 0.6049216442601528\n",
            "Mean Squared Error 0.2172751154239751\n"
          ]
        }
      ],
      "source": [
        "print('Mean Absolute Error',ma2)\n",
        "print('R-Squared Score',r2)\n",
        "print('Mean Squared Error',ms2/100000000000)"
      ],
      "id": "z3_BuXPkr2EB"
    },
    {
      "cell_type": "markdown",
      "metadata": {
        "id": "HHxNGIrKv7Ch"
      },
      "source": [
        "Model 3"
      ],
      "id": "HHxNGIrKv7Ch"
    },
    {
      "cell_type": "code",
      "execution_count": null,
      "metadata": {
        "id": "xfkjZqTcwFJQ"
      },
      "outputs": [],
      "source": [
        "x3 = df.iloc[:,:-1]\n",
        "y3 = df.iloc[:,3:4]"
      ],
      "id": "xfkjZqTcwFJQ"
    },
    {
      "cell_type": "code",
      "execution_count": null,
      "metadata": {
        "id": "x28mPJ_gwFAg",
        "colab": {
          "base_uri": "https://localhost:8080/"
        },
        "outputId": "480d51f3-cda3-45c9-879d-27c2ba5e36f1"
      },
      "outputs": [
        {
          "output_type": "execute_result",
          "data": {
            "text/plain": [
              "((7196, 3), (7196, 1))"
            ]
          },
          "metadata": {},
          "execution_count": 109
        }
      ],
      "source": [
        "x3.shape, y3.shape"
      ],
      "id": "x28mPJ_gwFAg"
    },
    {
      "cell_type": "code",
      "execution_count": null,
      "metadata": {
        "id": "H76LW958wE7r"
      },
      "outputs": [],
      "source": [
        "x3_train, x3_test, y3_train, y3_test = train_test_split(x3, y3, test_size = 0.08, random_state = 36)"
      ],
      "id": "H76LW958wE7r"
    },
    {
      "cell_type": "code",
      "execution_count": null,
      "metadata": {
        "id": "0spLUB9DwE2y"
      },
      "outputs": [],
      "source": [
        "x3_train.reset_index(inplace = True, drop = True)\n",
        "x3_test.reset_index(inplace = True, drop = True)\n",
        "y3_train.reset_index(inplace = True, drop = True)\n",
        "y3_test.reset_index(inplace = True, drop = True)"
      ],
      "id": "0spLUB9DwE2y"
    },
    {
      "cell_type": "code",
      "execution_count": null,
      "metadata": {
        "id": "HZvz7FQfy4Jn"
      },
      "outputs": [],
      "source": [
        "from sklearn.preprocessing import PolynomialFeatures"
      ],
      "id": "HZvz7FQfy4Jn"
    },
    {
      "cell_type": "code",
      "execution_count": null,
      "metadata": {
        "id": "lWQCc9ajzBtX",
        "colab": {
          "base_uri": "https://localhost:8080/"
        },
        "outputId": "16704a5e-1ffc-46aa-f22e-55740914cebf"
      },
      "outputs": [
        {
          "output_type": "execute_result",
          "data": {
            "text/plain": [
              "PolynomialFeatures()"
            ]
          },
          "metadata": {},
          "execution_count": 113
        }
      ],
      "source": [
        "poly = PolynomialFeatures(degree = 2)\n",
        "x_poly = poly.fit_transform(x3_train)\n",
        "poly.fit(x3_train, y3_train)"
      ],
      "id": "lWQCc9ajzBtX"
    },
    {
      "cell_type": "code",
      "execution_count": null,
      "metadata": {
        "id": "HOZamQpUwEyJ"
      },
      "outputs": [],
      "source": [
        "model3 = linear_model.LinearRegression()"
      ],
      "id": "HOZamQpUwEyJ"
    },
    {
      "cell_type": "code",
      "execution_count": null,
      "metadata": {
        "id": "x_dwqd9ZwEuB",
        "colab": {
          "base_uri": "https://localhost:8080/"
        },
        "outputId": "6f851639-d3a3-4312-916e-ed7355e102cc"
      },
      "outputs": [
        {
          "output_type": "execute_result",
          "data": {
            "text/plain": [
              "LinearRegression()"
            ]
          },
          "metadata": {},
          "execution_count": 115
        }
      ],
      "source": [
        "model3.fit(x_poly, y3_train)"
      ],
      "id": "x_dwqd9ZwEuB"
    },
    {
      "cell_type": "code",
      "execution_count": null,
      "metadata": {
        "id": "Qsd_SK2jwEpY"
      },
      "outputs": [],
      "source": [
        "y3_pred = model3.predict(poly.fit_transform(x3_test))"
      ],
      "id": "Qsd_SK2jwEpY"
    },
    {
      "cell_type": "code",
      "execution_count": null,
      "metadata": {
        "id": "-MGOU2knwElE",
        "colab": {
          "base_uri": "https://localhost:8080/"
        },
        "outputId": "19382313-9599-4645-ccad-d4668e884cf9"
      },
      "outputs": [
        {
          "output_type": "execute_result",
          "data": {
            "text/plain": [
              "((576, 1), (576, 1))"
            ]
          },
          "metadata": {},
          "execution_count": 117
        }
      ],
      "source": [
        "y3_pred.shape, y3_test.shape"
      ],
      "id": "-MGOU2knwElE"
    },
    {
      "cell_type": "code",
      "execution_count": null,
      "metadata": {
        "id": "xDu3IfMbwEhF"
      },
      "outputs": [],
      "source": [
        "actual3 = []\n",
        "for val in y3_test.values:\n",
        "  actual3.append(val)"
      ],
      "id": "xDu3IfMbwEhF"
    },
    {
      "cell_type": "code",
      "execution_count": null,
      "metadata": {
        "id": "WMd7mYIkNOAa"
      },
      "outputs": [],
      "source": [
        "min_r = 240\n",
        "max_r = 250"
      ],
      "id": "WMd7mYIkNOAa"
    },
    {
      "cell_type": "code",
      "execution_count": null,
      "metadata": {
        "id": "0VWgGCi1wEcQ",
        "colab": {
          "base_uri": "https://localhost:8080/"
        },
        "outputId": "b38c3460-deaa-4afd-f8cf-e341138d0601"
      },
      "outputs": [
        {
          "output_type": "display_data",
          "data": {
            "text/plain": [
              "<Figure size 432x288 with 1 Axes>"
            ],
            "image/png": "[encoded data removed]"
          },
          "metadata": {
            "needs_background": "light"
          }
        }
      ],
      "source": [
        "plt.plot(y3_pred[min_r:max_r])\n",
        "plt.plot(actual3[min_r:max_r])\n",
        "plt.legend(['Predicted','Actual'])\n",
        "plt.show()"
      ],
      "id": "0VWgGCi1wEcQ"
    },
    {
      "cell_type": "markdown",
      "metadata": {
        "id": "n3buR7oV16GW"
      },
      "source": [
        "Performance Measure"
      ],
      "id": "n3buR7oV16GW"
    },
    {
      "cell_type": "code",
      "execution_count": null,
      "metadata": {
        "id": "wwfW6cQrwEXY",
        "colab": {
          "base_uri": "https://localhost:8080/"
        },
        "outputId": "6510833d-f40f-42ac-cece-421fffa02042"
      },
      "outputs": [
        {
          "output_type": "stream",
          "name": "stdout",
          "text": [
            "Coefficients [[      0.         -322964.16552973 -423605.74736268  433334.60239231\n",
            "   447189.23253627 1063583.30796288  648149.71727023  731787.54949089\n",
            "  -479183.94880361 -419110.56622068]]\n",
            "Intercept [130973.93389912]\n"
          ]
        }
      ],
      "source": [
        "print('Coefficients',model3.coef_)\n",
        "print('Intercept',model3.intercept_)"
      ],
      "id": "wwfW6cQrwEXY"
    },
    {
      "cell_type": "code",
      "execution_count": null,
      "metadata": {
        "id": "rJKxNllzwed3"
      },
      "outputs": [],
      "source": [
        "ma3 = mean_absolute_error(y3_pred, y3_test)\n",
        "r3 = r2_score(y3_pred, y3_test) \n",
        "ms3 = mean_squared_error(y3_pred, y3_test)"
      ],
      "id": "rJKxNllzwed3"
    },
    {
      "cell_type": "code",
      "execution_count": null,
      "metadata": {
        "id": "eszNNIwXwESB",
        "colab": {
          "base_uri": "https://localhost:8080/"
        },
        "outputId": "ed1a8d4b-d2fd-4730-ab28-aa4ca7ce605e"
      },
      "outputs": [
        {
          "output_type": "stream",
          "name": "stdout",
          "text": [
            "Mean Absolute Error 88393.02618396429\n",
            "R-Squared Error 0.7278846702294377\n",
            "Mean Squared Error 0.16409377475833525\n"
          ]
        }
      ],
      "source": [
        "print('Mean Absolute Error',ma3)\n",
        "print('R-Squared Error',r3)\n",
        "print('Mean Squared Error',ms3/100000000000)"
      ],
      "id": "eszNNIwXwESB"
    },
    {
      "cell_type": "markdown",
      "metadata": {
        "id": "qJ4oyDApt_a4"
      },
      "source": [
        "Performance Visualization"
      ],
      "id": "qJ4oyDApt_a4"
    },
    {
      "cell_type": "code",
      "execution_count": null,
      "metadata": {
        "id": "aDP1UQ7x3MiD"
      },
      "outputs": [],
      "source": [
        "min_r = 240\n",
        "max_r = 250"
      ],
      "id": "aDP1UQ7x3MiD"
    },
    {
      "cell_type": "code",
      "execution_count": null,
      "metadata": {
        "id": "6AFrT1iQr17h",
        "colab": {
          "base_uri": "https://localhost:8080/"
        },
        "outputId": "5433ba6f-c775-479c-94a5-662b97d981f8"
      },
      "outputs": [
        {
          "output_type": "display_data",
          "data": {
            "text/plain": [
              "<Figure size 432x288 with 1 Axes>"
            ],
            "image/png": "[encoded data removed]"
          },
          "metadata": {
            "needs_background": "light"
          }
        }
      ],
      "source": [
        "plt.plot(actual3[min_r:max_r])\n",
        "plt.plot(y1_pred[min_r:max_r], alpha = 0.6)\n",
        "plt.plot(y2_pred[min_r:max_r], alpha = 0.6)\n",
        "plt.plot(y3_pred[min_r:max_r], alpha = 0.6)\n",
        "plt.legend(labels = ['Actual', 'Model 1', 'Model 2', 'Model 3'], bbox_to_anchor=(1.1,0.5), loc=\"center right\", \n",
        "           bbox_transform=plt.gcf().transFigure)\n",
        "plt.show()"
      ],
      "id": "6AFrT1iQr17h"
    },
    {
      "cell_type": "code",
      "execution_count": null,
      "metadata": {
        "id": "0QyNm1_P_bso",
        "colab": {
          "base_uri": "https://localhost:8080/"
        },
        "outputId": "a68af95d-f7d6-4982-9a19-8836332c359b"
      },
      "outputs": [
        {
          "output_type": "display_data",
          "data": {
            "text/plain": [
              "<Figure size 576x360 with 1 Axes>"
            ],
            "image/png": "[encoded data removed]"
          },
          "metadata": {
            "needs_background": "light"
          }
        }
      ],
      "source": [
        "fig = plt.figure(figsize = (8,5))\n",
        "plt.bar(['Model 1', 'Model 2', 'Model 3'], [ma1,ma2,ma3], width = 0.3, color = '#01c4ca' )\n",
        "plt.show()"
      ],
      "id": "0QyNm1_P_bso"
    },
    {
      "cell_type": "code",
      "execution_count": null,
      "metadata": {
        "id": "LF23f1gBbir-",
        "colab": {
          "base_uri": "https://localhost:8080/",
          "height": 141
        },
        "outputId": "405510bb-aec0-4f07-d460-ba6483bdecd9"
      },
      "outputs": [
        {
          "output_type": "execute_result",
          "data": {
            "text/plain": [
              "<BarContainer object of 3 artists>"
            ]
          },
          "metadata": {},
          "execution_count": 127
        },
        {
          "output_type": "display_data",
          "data": {
            "text/plain": [
              "<Figure size 432x288 with 1 Axes>"
            ],
            "image/png": "[encoded data removed]"
          },
          "metadata": {
            "needs_background": "light"
          }
        }
      ],
      "source": [
        "plt.bar(['Model 1', 'Model 2', 'Model 3'], [ms1/100000000000,ms2/100000000000,ms3/100000000000], width = 0.3, color = '#DDc4ca' )"
      ],
      "id": "LF23f1gBbir-"
    },
    {
      "cell_type": "code",
      "execution_count": null,
      "metadata": {
        "id": "y9S2IMnXRXFH"
      },
      "outputs": [],
      "source": [
        ""
      ],
      "id": "y9S2IMnXRXFH"
    }
  ],
  "metadata": {
    "colab": {
      "collapsed_sections": [],
      "name": "test_code.ipynb",
      "provenance": []
    },
    "kernelspec": {
      "display_name": "Python 3 (ipykernel)",
      "language": "python",
      "name": "python3"
    },
    "language_info": {
      "codemirror_mode": {
        "name": "ipython",
        "version": 3
      },
      "file_extension": ".py",
      "mimetype": "text/x-python",
      "name": "python",
      "nbconvert_exporter": "python",
      "pygments_lexer": "ipython3",
      "version": "3.8.10"
    }
  },
  "nbformat": 4,
  "nbformat_minor": 5
}